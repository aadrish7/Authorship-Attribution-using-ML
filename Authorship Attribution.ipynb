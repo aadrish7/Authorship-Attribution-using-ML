{
  "cells": [
    {
      "cell_type": "code",
      "execution_count": 4,
      "metadata": {
        "colab": {
          "base_uri": "https://localhost:8080/"
        },
        "id": "2wfNC0cepyF5",
        "outputId": "0628c0ed-4917-4122-a07d-e85df4b618fb"
      },
      "outputs": [
        {
          "output_type": "stream",
          "name": "stdout",
          "text": [
            "Mounted at /content/drive\n"
          ]
        }
      ],
      "source": [
        "from google.colab import drive\n",
        "drive.mount('/content/drive')"
      ]
    },
    {
      "cell_type": "code",
      "source": [
        "cd '/content/drive/MyDrive/Colab Notebooks'"
      ],
      "metadata": {
        "colab": {
          "base_uri": "https://localhost:8080/"
        },
        "id": "uAQqcJsXuYWY",
        "outputId": "c58272f7-5cee-40c3-8016-0858e8551943"
      },
      "execution_count": 5,
      "outputs": [
        {
          "output_type": "stream",
          "name": "stdout",
          "text": [
            "/content/drive/MyDrive/Colab Notebooks\n"
          ]
        }
      ]
    },
    {
      "cell_type": "code",
      "source": [
        "import numpy as np\n",
        "import pandas as pd\n",
        "from sklearn.metrics import classification_report\n",
        "import numpy as np\n",
        "import pandas as pd\n",
        "from sklearn.ensemble import RandomForestClassifier\n",
        "from sklearn.linear_model import LogisticRegression\n",
        "from sklearn.svm import SVC\n",
        "from sklearn.ensemble import GradientBoostingClassifier\n",
        "from sklearn.model_selection import train_test_split\n",
        "from sklearn.ensemble import VotingClassifier\n",
        "from sklearn.metrics import accuracy_score\n",
        "from sklearn.model_selection import GridSearchCV\n",
        "from sklearn.neural_network import MLPClassifier\n",
        "from sklearn.neighbors import KNeighborsClassifier\n",
        "from sklearn.model_selection import validation_curve \n",
        "\n",
        "\n",
        "from sklearn.metrics import confusion_matrix\n",
        "import seaborn as sns\n",
        "from sklearn.metrics import confusion_matrix, ConfusionMatrixDisplay\n",
        "import matplotlib.pyplot as plt\n",
        "import matplotlib.pyplot as plt"
      ],
      "metadata": {
        "id": "TUiAKiOcR08U"
      },
      "execution_count": 209,
      "outputs": []
    },
    {
      "cell_type": "markdown",
      "metadata": {
        "id": "dieDqgQJT82Z"
      },
      "source": [
        "# Task 1.1 Bag of Word Features"
      ]
    },
    {
      "cell_type": "code",
      "execution_count": 6,
      "metadata": {
        "id": "fc-l_KHRp_pi"
      },
      "outputs": [],
      "source": [
        "import pandas as pd\n",
        "import numpy as np"
      ]
    },
    {
      "cell_type": "code",
      "execution_count": 132,
      "metadata": {
        "id": "sziMAf3HqBVG"
      },
      "outputs": [],
      "source": [
        "df1 = pd.read_csv(\"BBCBreaking_task1.csv\")\n",
        "df2 = pd.read_csv(\"Caradelevingne_task1.csv\")\n",
        "df3 = pd.read_csv(\"ImRaina_task1.csv\")\n",
        "df4 = pd.read_csv(\"POTUS_task1.csv\")\n",
        "df5 = pd.read_csv(\"justinbieber.csv\")\n",
        "df6 = pd.read_csv(\"shahidkapoor_task1.csv\")"
      ]
    },
    {
      "cell_type": "code",
      "execution_count": 134,
      "metadata": {
        "id": "uIyVvlrWGTzA"
      },
      "outputs": [],
      "source": [
        "# Assigning the labels\n",
        "\n",
        "df1[\"Author\"] = \"BBCBreaking\"\n",
        "df2[\"Author\"] = \"Caradelevingne\"\n",
        "df3[\"Author\"] = \"ImRaina\"\n",
        "df4[\"Author\"] = \"POTUS\"\n",
        "df5[\"Author\"] = \"justinbieber\"\n",
        "df6[\"Author\"] = \"shahidkapoor\""
      ]
    },
    {
      "cell_type": "code",
      "execution_count": 135,
      "metadata": {
        "id": "3LCVYmZErDlH"
      },
      "outputs": [],
      "source": [
        "df1.rename(columns = {'Tweets':'Tweet'}, inplace = True)\n",
        "df2.rename(columns = {'Tweets':'Tweet'}, inplace = True)\n",
        "df3.rename(columns = {'Text'  :'Tweet'}, inplace = True)\n",
        "df4.rename(columns = {'Tweets':'Tweet'}, inplace = True)\n",
        "df5.rename(columns = {'Tweets':'Tweet'}, inplace = True)\n",
        "df4.rename(columns = {'Text'  :'Tweet'}, inplace = True)"
      ]
    },
    {
      "cell_type": "markdown",
      "metadata": {
        "id": "GaCR2Wk9sxKY"
      },
      "source": [
        "## Pre Processing"
      ]
    },
    {
      "cell_type": "code",
      "execution_count": 136,
      "metadata": {
        "id": "dvzJQekVszrk"
      },
      "outputs": [],
      "source": [
        "import re\n",
        "\n",
        "stop_list = []\n",
        "\n",
        "# stop words taken list from PA # 2\n",
        "\n",
        "with open(\"stop_words.txt\",\"r\") as f:\n",
        "  for x in f:\n",
        "    stop_list.append(x)\n",
        "\n",
        "for idx, x in enumerate(stop_list):\n",
        "    stop_list[idx] = re.sub(r\"\\n\", \"\", stop_list[idx])\n",
        "    stop_list[idx] = re.sub(r\"\\'\", \"\", stop_list[idx])\n",
        "\n",
        "def remove_punctuation(text):\n",
        "  text = re.sub(r'https?:[a-zA-Z0-9_.+-/#~]+', '', text)\n",
        "  text = re.sub(r'\\w+\\b[,.?!-۔؟′″،,؛%\\/!@\\()°.\\-;\"\\']', \"\", text)\n",
        "  \n",
        "  return text\n",
        "\n",
        "def lower(s):\n",
        "  return s.lower()"
      ]
    },
    {
      "cell_type": "code",
      "execution_count": 137,
      "metadata": {
        "id": "gO7ftWdItMW1"
      },
      "outputs": [],
      "source": [
        "# Merge DataFrames containing each author's tweets\n",
        "\n",
        "frames = [df1, df2, df3, df4, df5, df6]\n",
        "final  = pd.concat(frames,ignore_index = True)\n",
        "final  = final.drop([\"Unnamed: 0\"], axis = 1)\n",
        "tweets = final[\"Tweet\"]"
      ]
    },
    {
      "cell_type": "code",
      "execution_count": 138,
      "metadata": {
        "id": "bd9Y1Z0gt81E"
      },
      "outputs": [],
      "source": [
        "tweets = tweets.apply(lower)\n",
        "\n",
        "#Remove stop words from tweets\n",
        "\n",
        "for idx, x in enumerate(tweets):\n",
        "  l = x.split()\n",
        "  for i in stop_list:\n",
        "      if i in l:\n",
        "        l.remove(i)\n",
        "        tweets[idx]=\" \".join(l)"
      ]
    },
    {
      "cell_type": "code",
      "execution_count": 139,
      "metadata": {
        "id": "pZbkcxZeuWTh"
      },
      "outputs": [],
      "source": [
        "import string\n",
        "\n",
        "def remove_punctuation(text):\n",
        "\n",
        "    text = \"\".join([char for char in text if char not in string.punctuation])\n",
        "    text = re.sub('[0-9]+', '', text)\n",
        "    l    = text.split()\n",
        "    text = [x for x in l if x]\n",
        "    text = \" \".join(text)\n",
        "    \n",
        "    return text\n",
        "    \n",
        "def clean_text(series):\n",
        "\n",
        "  z=re.sub(r'https?:[a-zA-Z0-9_.+-/#~]+','',series)                             # Remove URL's\n",
        "  z=re.sub(r'[۔؟′″،,؛%\\/!@\\()°.\\-;\"\\'’]+',\"\",z)                                   # Remove punctuation\n",
        "  z=re.sub(r'\\d', '', z)                                                        # Remove digits\n",
        "  z=re.sub(r'[^a-zA-Z ]+', '', z)                                               # Remove extra spaces\n",
        "  z=re.sub(r' +', ' ', z)\n",
        "  z=re.sub(r\"\\s+$\", \"\", z)\n",
        "  z=re.sub(r\"^\\s+\", \"\", z)\n",
        "\n",
        "  return z\n",
        "\n",
        "tweets = tweets.apply(clean_text)\n",
        "tweets = tweets.apply(remove_punctuation)"
      ]
    },
    {
      "cell_type": "code",
      "execution_count": 140,
      "metadata": {
        "id": "bTDaxtaoBkox"
      },
      "outputs": [],
      "source": [
        "final.loc[:, \"Tweet\"] = tweets\n",
        "final[\"Tweet\"] = final['Tweet'].replace('', np.nan).dropna()\n",
        "final = final.drop_duplicates()                                                 # Drop duplicate tweets\n",
        "final = final.dropna()                                                          # Drop rows with NaN \n",
        "\n",
        "df = final\n",
        "tweets = df[\"Tweet\"]\n"
      ]
    },
    {
      "cell_type": "code",
      "execution_count": 141,
      "metadata": {
        "id": "_waXpKn494Gb"
      },
      "outputs": [],
      "source": [
        "# Set labels for authors\n",
        "\n",
        "author_map = {\"BBCBreaking\"    : 0,\n",
        "              \"Caradelevingne\" : 1,\n",
        "              \"ImRaina\"        : 2,\n",
        "              \"POTUS\"          : 3,\n",
        "              \"justinbieber\"   : 4,\n",
        "              \"shahidkapoor\"   : 5}\n",
        "\n",
        "df = df.replace({\"Author\": author_map})\n",
        "\n",
        "labels = df[\"Author\"]\n",
        "tweets = df[\"Tweet\"]"
      ]
    },
    {
      "cell_type": "code",
      "execution_count": 142,
      "metadata": {
        "id": "Ncww4h8oNIls"
      },
      "outputs": [],
      "source": [
        "from sklearn.model_selection import train_test_split\n",
        "\n",
        "# Split the dataset into train and test set. Note that we have used stratified sampling.\n",
        "X_train, X_test, y_train, y_test = train_test_split(tweets, labels , test_size=0.1, stratify = labels, random_state = 20200226)"
      ]
    },
    {
      "cell_type": "code",
      "execution_count": 143,
      "metadata": {
        "id": "gncrcRNuB-6y"
      },
      "outputs": [],
      "source": [
        "# This function returns the vocabulary in a set of tweets\n",
        "def create_vocabulary(X):\n",
        "  vocabulary = []\n",
        "\n",
        "  for tweet in X:\n",
        "    l=tweet.split(\" \")\n",
        "    \n",
        "    for word in l:\n",
        "      if word not in vocabulary:\n",
        "        vocabulary.append(word)\n",
        "\n",
        "  return vocabulary\n",
        "\n",
        "vocabulary = create_vocabulary(X_train)"
      ]
    },
    {
      "cell_type": "code",
      "execution_count": 144,
      "metadata": {
        "id": "zPczZCLhCNAb",
        "colab": {
          "base_uri": "https://localhost:8080/"
        },
        "outputId": "733c5894-16f1-4588-cd08-1f994b8b589f"
      },
      "outputs": [
        {
          "output_type": "stream",
          "name": "stdout",
          "text": [
            "Number of tokens in vocabulary =  10073\n"
          ]
        }
      ],
      "source": [
        "print(\"Number of tokens in vocabulary = \", len(vocabulary))"
      ]
    },
    {
      "cell_type": "code",
      "execution_count": 145,
      "metadata": {
        "id": "Bl2Ul8q5CRuh"
      },
      "outputs": [],
      "source": [
        "# Create Bag of Words representations for the train and test tweets\n",
        "\n",
        "def create_bow(X,vocabulary):\n",
        "\n",
        "  def get_count(tweet,vocab):\n",
        "\n",
        "    global_count=[]\n",
        "    for x in vocab:\n",
        "      l = tweet.split(\" \")\n",
        "      c = l.count(x)\n",
        "      c+=1                          # Add 1 smoothing\n",
        "      global_count.append(c)\n",
        "    \n",
        "    return global_count\n",
        "\n",
        "  bag_words=[]\n",
        "  for tweet in X:\n",
        "    c = get_count(tweet, vocabulary)\n",
        "    bag_words.append(c)\n",
        "  \n",
        "  return bag_words\n",
        "\n",
        "bag_words_train = create_bow(X_train, vocabulary)       # Bag of Words of Train set\n",
        "bag_words_test  = create_bow(X_test, vocabulary)        # Bag of Words of Test set"
      ]
    },
    {
      "cell_type": "code",
      "source": [
        "# Now we add the features to a dataframe and save them as a csv file for train and test for BoW Features\n",
        "\n",
        "df_train = pd.DataFrame({\"Tweet\"        : X_train, \n",
        "                         \"bag_of_words\" : bag_words_train, \n",
        "                         \"Author\"       : y_train}, index=None)\n",
        "\n",
        "df_test  = pd.DataFrame({\"Tweet\"        : X_test, \n",
        "                         \"bag_of_words\" : bag_words_test,\n",
        "                         \"Author\"       : y_test} , index=None)\n",
        "\n",
        "df_train = df_train.reset_index(drop = True)\n",
        "df_test  = df_test.reset_index(drop  = True)"
      ],
      "metadata": {
        "id": "buPZQ1t17noI"
      },
      "execution_count": 146,
      "outputs": []
    },
    {
      "cell_type": "code",
      "execution_count": 147,
      "metadata": {
        "id": "xFnQ1o_zD6LL",
        "colab": {
          "base_uri": "https://localhost:8080/"
        },
        "outputId": "0d042cc7-89d0-4f0b-9f61-fc51116e9190"
      },
      "outputs": [
        {
          "output_type": "stream",
          "name": "stdout",
          "text": [
            "Total # of features in Train set =  4730\n"
          ]
        }
      ],
      "source": [
        "print ('Total # of features in Train set = ', len(bag_words_train))"
      ]
    },
    {
      "cell_type": "code",
      "source": [
        "df_train.to_json(\"train_BoW.json\")      # Save train set with BoW as json file\n",
        "df_test.to_json(\"test_BoW.json\")        # Save test set with BoW as json file"
      ],
      "metadata": {
        "id": "aaL0P5Ua8LXC"
      },
      "execution_count": 150,
      "outputs": []
    },
    {
      "cell_type": "markdown",
      "metadata": {
        "id": "26vdTaYFUdVz"
      },
      "source": [
        "# Task 1.2 Embeddings"
      ]
    },
    {
      "cell_type": "code",
      "execution_count": 65,
      "metadata": {
        "id": "YHlqyYTjUkBZ",
        "colab": {
          "base_uri": "https://localhost:8080/"
        },
        "outputId": "6737ff2f-71ba-4db4-df5a-532995902f5e"
      },
      "outputs": [
        {
          "output_type": "stream",
          "name": "stdout",
          "text": [
            "Looking in indexes: https://pypi.org/simple, https://us-python.pkg.dev/colab-wheels/public/simple/\n",
            "Collecting sentence-transformers\n",
            "  Downloading sentence-transformers-2.2.2.tar.gz (85 kB)\n",
            "\u001b[K     |████████████████████████████████| 85 kB 3.7 MB/s \n",
            "\u001b[?25hCollecting transformers<5.0.0,>=4.6.0\n",
            "  Downloading transformers-4.25.1-py3-none-any.whl (5.8 MB)\n",
            "\u001b[K     |████████████████████████████████| 5.8 MB 16.7 MB/s \n",
            "\u001b[?25hRequirement already satisfied: tqdm in /usr/local/lib/python3.8/dist-packages (from sentence-transformers) (4.64.1)\n",
            "Requirement already satisfied: torch>=1.6.0 in /usr/local/lib/python3.8/dist-packages (from sentence-transformers) (1.13.0+cu116)\n",
            "Requirement already satisfied: torchvision in /usr/local/lib/python3.8/dist-packages (from sentence-transformers) (0.14.0+cu116)\n",
            "Requirement already satisfied: numpy in /usr/local/lib/python3.8/dist-packages (from sentence-transformers) (1.21.6)\n",
            "Requirement already satisfied: scikit-learn in /usr/local/lib/python3.8/dist-packages (from sentence-transformers) (1.0.2)\n",
            "Requirement already satisfied: scipy in /usr/local/lib/python3.8/dist-packages (from sentence-transformers) (1.7.3)\n",
            "Requirement already satisfied: nltk in /usr/local/lib/python3.8/dist-packages (from sentence-transformers) (3.7)\n",
            "Collecting sentencepiece\n",
            "  Downloading sentencepiece-0.1.97-cp38-cp38-manylinux_2_17_x86_64.manylinux2014_x86_64.whl (1.3 MB)\n",
            "\u001b[K     |████████████████████████████████| 1.3 MB 62.6 MB/s \n",
            "\u001b[?25hCollecting huggingface-hub>=0.4.0\n",
            "  Downloading huggingface_hub-0.11.1-py3-none-any.whl (182 kB)\n",
            "\u001b[K     |████████████████████████████████| 182 kB 66.7 MB/s \n",
            "\u001b[?25hRequirement already satisfied: pyyaml>=5.1 in /usr/local/lib/python3.8/dist-packages (from huggingface-hub>=0.4.0->sentence-transformers) (6.0)\n",
            "Requirement already satisfied: packaging>=20.9 in /usr/local/lib/python3.8/dist-packages (from huggingface-hub>=0.4.0->sentence-transformers) (21.3)\n",
            "Requirement already satisfied: requests in /usr/local/lib/python3.8/dist-packages (from huggingface-hub>=0.4.0->sentence-transformers) (2.23.0)\n",
            "Requirement already satisfied: filelock in /usr/local/lib/python3.8/dist-packages (from huggingface-hub>=0.4.0->sentence-transformers) (3.8.0)\n",
            "Requirement already satisfied: typing-extensions>=3.7.4.3 in /usr/local/lib/python3.8/dist-packages (from huggingface-hub>=0.4.0->sentence-transformers) (4.4.0)\n",
            "Requirement already satisfied: pyparsing!=3.0.5,>=2.0.2 in /usr/local/lib/python3.8/dist-packages (from packaging>=20.9->huggingface-hub>=0.4.0->sentence-transformers) (3.0.9)\n",
            "Collecting tokenizers!=0.11.3,<0.14,>=0.11.1\n",
            "  Downloading tokenizers-0.13.2-cp38-cp38-manylinux_2_17_x86_64.manylinux2014_x86_64.whl (7.6 MB)\n",
            "\u001b[K     |████████████████████████████████| 7.6 MB 44.7 MB/s \n",
            "\u001b[?25hRequirement already satisfied: regex!=2019.12.17 in /usr/local/lib/python3.8/dist-packages (from transformers<5.0.0,>=4.6.0->sentence-transformers) (2022.6.2)\n",
            "Requirement already satisfied: joblib in /usr/local/lib/python3.8/dist-packages (from nltk->sentence-transformers) (1.2.0)\n",
            "Requirement already satisfied: click in /usr/local/lib/python3.8/dist-packages (from nltk->sentence-transformers) (7.1.2)\n",
            "Requirement already satisfied: chardet<4,>=3.0.2 in /usr/local/lib/python3.8/dist-packages (from requests->huggingface-hub>=0.4.0->sentence-transformers) (3.0.4)\n",
            "Requirement already satisfied: certifi>=2017.4.17 in /usr/local/lib/python3.8/dist-packages (from requests->huggingface-hub>=0.4.0->sentence-transformers) (2022.9.24)\n",
            "Requirement already satisfied: urllib3!=1.25.0,!=1.25.1,<1.26,>=1.21.1 in /usr/local/lib/python3.8/dist-packages (from requests->huggingface-hub>=0.4.0->sentence-transformers) (1.24.3)\n",
            "Requirement already satisfied: idna<3,>=2.5 in /usr/local/lib/python3.8/dist-packages (from requests->huggingface-hub>=0.4.0->sentence-transformers) (2.10)\n",
            "Requirement already satisfied: threadpoolctl>=2.0.0 in /usr/local/lib/python3.8/dist-packages (from scikit-learn->sentence-transformers) (3.1.0)\n",
            "Requirement already satisfied: pillow!=8.3.*,>=5.3.0 in /usr/local/lib/python3.8/dist-packages (from torchvision->sentence-transformers) (7.1.2)\n",
            "Building wheels for collected packages: sentence-transformers\n",
            "  Building wheel for sentence-transformers (setup.py) ... \u001b[?25l\u001b[?25hdone\n",
            "  Created wheel for sentence-transformers: filename=sentence_transformers-2.2.2-py3-none-any.whl size=125938 sha256=3d368240c0e689f2f2a8a4f1530508fd6e215330e977c95a3682bfd868e73ddb\n",
            "  Stored in directory: /root/.cache/pip/wheels/5e/6f/8c/d88aec621f3f542d26fac0342bef5e693335d125f4e54aeffe\n",
            "Successfully built sentence-transformers\n",
            "Installing collected packages: tokenizers, huggingface-hub, transformers, sentencepiece, sentence-transformers\n",
            "Successfully installed huggingface-hub-0.11.1 sentence-transformers-2.2.2 sentencepiece-0.1.97 tokenizers-0.13.2 transformers-4.25.1\n"
          ]
        }
      ],
      "source": [
        "!pip install -U sentence-transformers"
      ]
    },
    {
      "cell_type": "code",
      "execution_count": 66,
      "metadata": {
        "id": "vt8ZYLIQVXE7",
        "colab": {
          "base_uri": "https://localhost:8080/",
          "height": 465,
          "referenced_widgets": [
            "074a93a21ddc49109ca2fc0328c7501d",
            "2a36ddd8a94d4827b2684f6dd48a7f89",
            "26dd7776f07c4cbc8f23748fd9e8d149",
            "9083e6fcae124bdda58f0fc92eb224be",
            "dce13fa43b4d4eaa829d007e8de54251",
            "670ca30106ce44f2a18ccd00b610d571",
            "7ccd7ef853034c759bea4061f700da91",
            "94334b154cb7406380a1cd6c93133bab",
            "7ac178ee5c974b01a9633438fd3fcdd1",
            "cc4a9e3d06e54d589390eaebef4bd6cd",
            "204c6db4f5874ac3bed164a93bcb601e",
            "debd1c5a3b444f3d8ff76869746343d5",
            "e6493e278cb1466f929b8ba8a366e7ea",
            "096b1c20548a4cacbcb3ea613d4aa945",
            "a6f4e347f94041ddb9d9faf59ecabd3b",
            "1f42bf30f7974893a8abc8bcef602411",
            "fdb6978f7ac84f718e62048ceb4405bb",
            "af3a35cc608a489fa8b799c168439d0a",
            "1112ef19767642538db7df5cbfc676de",
            "3bd86899e2dc466cae895b2b541fb4ac",
            "8ae583ca5c82408c9b0d3cade84aca89",
            "1999e92e1de64fe9912d71bde0a92326",
            "6612035ec4a641a09b2f6f18b05f3bdd",
            "a35d3245f9e44ba0ab010129c79e83a7",
            "b4dc5bdfd52e48b7bebf20431b241388",
            "2845a0b809454f47a607e09184d6894b",
            "e6fd999f800745b7a3b60636b171fafb",
            "4847455fed704122ac9f34cf25603841",
            "a6d25097142e4e31b3c7fdbd61267a06",
            "22b4a5de14524180b4dc5c1b8857ccbb",
            "57b0d9c98dda4067ac6bd9ea3b952c8a",
            "f6fafc3b7cee49c781c06e3b79246b5d",
            "b9cacabc3f974797a8f5b31ee923fd50",
            "22db96ef91d8437baf29973ca6b89c92",
            "60f15d4490534da5bc5dbd8724a3cb2b",
            "603ffb33e0f2429185b7c408fb790c42",
            "bdb1b162abba4721b30cf63711add26f",
            "d93866e2b45d4f05af7443b7ce188641",
            "914203d3deaf4ed099dcf970bf2a5b66",
            "ad59bc682dd74f3294d775381fdddc0f",
            "6fbba9ff96c04d0d9bdf32dd496d14f0",
            "76fb6e33244e4318b6e00194bbec5143",
            "f9055c48eade4cd2acaf01fb454adb9c",
            "398a05aaffef48cca103a50526607d63",
            "e60b99cecb2c4b9bb4d4ce67abc6d7c1",
            "1c534fa69d614e83b9a271b7ae67cb94",
            "4d74c83935e04d64af9f71d98380825c",
            "8a626703b9c344c0affdb7a5c9713bfc",
            "bd70823b1a354b1483490f31a5e84dc3",
            "1ce5365da2d7489bab299fa38cb398d5",
            "efa0168f6f0a4bc0bd516a667f8e6f62",
            "1587cfc9ed68432daa0c5015aa2d5abe",
            "abab70a478344c9da0cabbd3b4dd2da9",
            "a582b16ca114409da15606d5d5a35acc",
            "440c751a32a84865be3692df8666ed3a",
            "05608889d0074eb6a0aa906e5b85585c",
            "132bd13c4d9749da897d438e9970f9c9",
            "243059e1d6334fa395e80a0fa7986b6f",
            "60b0dcafc92c4afa9964af85864aa385",
            "2ed3fe4b95ad44318776d60bc25f7b0a",
            "12a93514c23548ba8fa3cba1e3f3266e",
            "bfb5d8df9c374139bd543630743c0956",
            "723522d61a294035b1f687f4f5524c6b",
            "36e55f3bc3c54939aaa8e04768d74440",
            "863dcfe106454076a911a0971a81dc85",
            "574301dcf8c14cfdbe4e16cf08b5e590",
            "31cab82a0f654017a612e1a77fa0d813",
            "a60cc204c4ef4eaeab777e749586cfbc",
            "a4cabeb15e4c4a7e802be28dd540058c",
            "f9030532e18446da89e1c20e49e9a6d8",
            "ec1b7da09a3b417b97d060aa71f8c4fa",
            "1b0ac313517a4982bb60c7f52744fa2c",
            "36415e470ebf462696616692831c47fd",
            "0ab4e3eeca4c48c2820020d24bfcbb23",
            "805dad8380744ac881380e935aaf411b",
            "e0a3210f063c46219b0247801c5084ac",
            "2b69b003a85d4cb99eca0b427c83ebb6",
            "60ef1f7d34e64c0ba3634275e9216bf0",
            "ce260633906441a1a8781d13696abc8a",
            "25953b4161e149cd9d9f0c78bdbcda4e",
            "ce353704c4e04aeab3afcf57196a6a44",
            "c870251006574f84b97b7af63f19ce06",
            "6f369580678e418e8a145cbfbfd2d36e",
            "06760b217b2443d0a3d0c71aea6d8562",
            "15f8ceca928046e29b506d6795640a91",
            "4e7e81036a6d42c0bfe0adf0fd5ea121",
            "b5fcf9fc03e54957866b113c950c036c",
            "f3c77ccaa2ba46428403daef83666611",
            "29ac5adef31e4f43805f1310965c6c55",
            "89719f4e5ba54031ba2310e8c4bdc741",
            "642f23232825410083b50dd808a81c4b",
            "7202a416187147b9a8630da0ebff3ce6",
            "22b935ef20ff468ea64980a7e335794d",
            "3153097be8324ed6b7667c1b9bcc2e8a",
            "e9487e2ce6fe4943b5c7a9f740f7f5ac",
            "279a97a3a1d0405186a24b71d5823de1",
            "a9df0ac53aa6467687bd06a2c14f7235",
            "479a301047f8451b92de3a0bdaedafdc",
            "4fe6207e45bc41fa9ab01838fbd6b443",
            "5d1ef48c45a44e67aea5743cc5f4a3bc",
            "92615bd4ddd54f3daa56d5a95ffcaf95",
            "9ef56bf381724e5691fb1ae0bdc204a9",
            "753c8bbadec64c09b2aaa3a79978321b",
            "47c0db583e21496e9286c01a274d30f6",
            "797d0a6c46644a8da3925cb45e04f8e2",
            "c08ef372cadc4106881b58ac8cd3bd81",
            "8763e6ef113e4698a7ca50a050a8002b",
            "6bb85c90c17d4d3d901d037c406e7bbc",
            "dd4b887fcda44ab58d4ba5f4710ae41d",
            "4fbcac00d40e45f0877511a717d66460",
            "96f0a0a8f2934c64ad7e8bd01e57a1dc",
            "1a331e1a8a4f44f1ac437cf0a4ef96b2",
            "b39aebe18b254b509d30a74dee6bfdc8",
            "3fb701a1870e45bdbe6f2cdbb88f9870",
            "2adc6793989a4748815bb252b206e7b5",
            "710eaadd7726404596d5aefdaec7f794",
            "2a4cad3f45c9466b91d04dd5e39a68bf",
            "8d49b6ef67324e58ba95d50874d36451",
            "36c1e0aba84e4e1089276e7811806f97",
            "eb00afb575e84494a88ccf21cbf2fdc9",
            "3b773051f5434ed391236b10362cc886",
            "072e6d23b4ad47e0ab22209f1b2cef57",
            "f4a3caf8afa14687abf0d19d04af62c9",
            "0a1decaea4694d0a9e9a851624eb25a8",
            "09c781a04e2d4f39bec18d3bcd05e573",
            "89b9d57d7e824f04a0c551d2d98d079c",
            "fcd9a0c2206d40b0917be6dff4390f7c",
            "2dba37daeced48419983e320fa5b535a",
            "a169742c04b14d04a5f4585860ba533a",
            "4bbef10ba9274ad1b9d2ba039c8adc26",
            "82dce88065bf4e509df791201c44d0c1",
            "114947977f064b1a9311a3c60ef43322",
            "b939d91843dd456fb0b33f3332e8b4d4",
            "4dbae23be81e4ebda6d929d9605890de",
            "70545712186344d1b13aa6d7017f142c",
            "b36336be380d4620906791127952a606",
            "93cf597cf4e74e3283687f42cd71b2a5",
            "2161af2ff50143d1a97a972c19ac1567",
            "552f55e83b6a456c8358d919858a7cc0",
            "7646128eb3cf4fbaa922308e3379a69d",
            "fd09fa5c25944a92a5830202080c44c1",
            "34b2e0a878d64ff1bf95f18739dc3c33",
            "138f380e465c404c9c97f9931dfee5b9",
            "d9887cf304fb429aa0999e09711e2198",
            "6fbd746a20184bc19e36dbf87557bec7",
            "cee4214fff0b4db29dbd0db258964ad4",
            "6c740409708d4fdabdafce2f93bebc4d",
            "9187f36d44ba42f38d4c6ea4c383d30d",
            "b184d70d6ed34a8e99f20a9319e487fb",
            "9f6a036d4ef74e65b9dc7d62cd56327e",
            "9aaa1e1ee9a14c039375a8dba0d20e32",
            "73f22c3a8dfb49dd8b7e7e981f223921",
            "c4d074a8bdb445f4aa3c6ca026329d08",
            "300f31316d1a4b3685e53db193f823c8"
          ]
        },
        "outputId": "00fb00db-f9ae-499b-ece2-5d8ca67eed8f"
      },
      "outputs": [
        {
          "output_type": "display_data",
          "data": {
            "text/plain": [
              "Downloading:   0%|          | 0.00/1.18k [00:00<?, ?B/s]"
            ],
            "application/vnd.jupyter.widget-view+json": {
              "version_major": 2,
              "version_minor": 0,
              "model_id": "074a93a21ddc49109ca2fc0328c7501d"
            }
          },
          "metadata": {}
        },
        {
          "output_type": "display_data",
          "data": {
            "text/plain": [
              "Downloading:   0%|          | 0.00/190 [00:00<?, ?B/s]"
            ],
            "application/vnd.jupyter.widget-view+json": {
              "version_major": 2,
              "version_minor": 0,
              "model_id": "debd1c5a3b444f3d8ff76869746343d5"
            }
          },
          "metadata": {}
        },
        {
          "output_type": "display_data",
          "data": {
            "text/plain": [
              "Downloading:   0%|          | 0.00/10.6k [00:00<?, ?B/s]"
            ],
            "application/vnd.jupyter.widget-view+json": {
              "version_major": 2,
              "version_minor": 0,
              "model_id": "6612035ec4a641a09b2f6f18b05f3bdd"
            }
          },
          "metadata": {}
        },
        {
          "output_type": "display_data",
          "data": {
            "text/plain": [
              "Downloading:   0%|          | 0.00/612 [00:00<?, ?B/s]"
            ],
            "application/vnd.jupyter.widget-view+json": {
              "version_major": 2,
              "version_minor": 0,
              "model_id": "22db96ef91d8437baf29973ca6b89c92"
            }
          },
          "metadata": {}
        },
        {
          "output_type": "display_data",
          "data": {
            "text/plain": [
              "Downloading:   0%|          | 0.00/116 [00:00<?, ?B/s]"
            ],
            "application/vnd.jupyter.widget-view+json": {
              "version_major": 2,
              "version_minor": 0,
              "model_id": "e60b99cecb2c4b9bb4d4ce67abc6d7c1"
            }
          },
          "metadata": {}
        },
        {
          "output_type": "display_data",
          "data": {
            "text/plain": [
              "Downloading:   0%|          | 0.00/39.3k [00:00<?, ?B/s]"
            ],
            "application/vnd.jupyter.widget-view+json": {
              "version_major": 2,
              "version_minor": 0,
              "model_id": "05608889d0074eb6a0aa906e5b85585c"
            }
          },
          "metadata": {}
        },
        {
          "output_type": "display_data",
          "data": {
            "text/plain": [
              "Downloading:   0%|          | 0.00/90.9M [00:00<?, ?B/s]"
            ],
            "application/vnd.jupyter.widget-view+json": {
              "version_major": 2,
              "version_minor": 0,
              "model_id": "31cab82a0f654017a612e1a77fa0d813"
            }
          },
          "metadata": {}
        },
        {
          "output_type": "display_data",
          "data": {
            "text/plain": [
              "Downloading:   0%|          | 0.00/53.0 [00:00<?, ?B/s]"
            ],
            "application/vnd.jupyter.widget-view+json": {
              "version_major": 2,
              "version_minor": 0,
              "model_id": "60ef1f7d34e64c0ba3634275e9216bf0"
            }
          },
          "metadata": {}
        },
        {
          "output_type": "display_data",
          "data": {
            "text/plain": [
              "Downloading:   0%|          | 0.00/112 [00:00<?, ?B/s]"
            ],
            "application/vnd.jupyter.widget-view+json": {
              "version_major": 2,
              "version_minor": 0,
              "model_id": "29ac5adef31e4f43805f1310965c6c55"
            }
          },
          "metadata": {}
        },
        {
          "output_type": "display_data",
          "data": {
            "text/plain": [
              "Downloading:   0%|          | 0.00/466k [00:00<?, ?B/s]"
            ],
            "application/vnd.jupyter.widget-view+json": {
              "version_major": 2,
              "version_minor": 0,
              "model_id": "5d1ef48c45a44e67aea5743cc5f4a3bc"
            }
          },
          "metadata": {}
        },
        {
          "output_type": "display_data",
          "data": {
            "text/plain": [
              "Downloading:   0%|          | 0.00/350 [00:00<?, ?B/s]"
            ],
            "application/vnd.jupyter.widget-view+json": {
              "version_major": 2,
              "version_minor": 0,
              "model_id": "96f0a0a8f2934c64ad7e8bd01e57a1dc"
            }
          },
          "metadata": {}
        },
        {
          "output_type": "display_data",
          "data": {
            "text/plain": [
              "Downloading:   0%|          | 0.00/13.2k [00:00<?, ?B/s]"
            ],
            "application/vnd.jupyter.widget-view+json": {
              "version_major": 2,
              "version_minor": 0,
              "model_id": "072e6d23b4ad47e0ab22209f1b2cef57"
            }
          },
          "metadata": {}
        },
        {
          "output_type": "display_data",
          "data": {
            "text/plain": [
              "Downloading:   0%|          | 0.00/232k [00:00<?, ?B/s]"
            ],
            "application/vnd.jupyter.widget-view+json": {
              "version_major": 2,
              "version_minor": 0,
              "model_id": "b939d91843dd456fb0b33f3332e8b4d4"
            }
          },
          "metadata": {}
        },
        {
          "output_type": "display_data",
          "data": {
            "text/plain": [
              "Downloading:   0%|          | 0.00/349 [00:00<?, ?B/s]"
            ],
            "application/vnd.jupyter.widget-view+json": {
              "version_major": 2,
              "version_minor": 0,
              "model_id": "d9887cf304fb429aa0999e09711e2198"
            }
          },
          "metadata": {}
        }
      ],
      "source": [
        "#creating embeddings for train and test data\n",
        "\n",
        "from sentence_transformers import SentenceTransformer\n",
        "model = SentenceTransformer('all-MiniLM-L6-v2')"
      ]
    },
    {
      "cell_type": "code",
      "execution_count": 237,
      "metadata": {
        "id": "ijVM6RyqVZgz"
      },
      "outputs": [],
      "source": [
        "labels = df[\"Author\"]\n",
        "tweets = df[\"Tweet\"]"
      ]
    },
    {
      "cell_type": "code",
      "execution_count": 238,
      "metadata": {
        "id": "_gE6FeleVb0n"
      },
      "outputs": [],
      "source": [
        "tweets_embeddings = tweets.apply(model.encode)"
      ]
    },
    {
      "cell_type": "code",
      "execution_count": 239,
      "metadata": {
        "id": "BuLiB6_5H2r1"
      },
      "outputs": [],
      "source": [
        "# Now we add the embeddings features to a dataframe and save them as a csv file for train and test\n",
        "\n",
        "df = pd.DataFrame({\"Tweet\"        : tweets, \n",
        "                   \"embeddings\"   : tweets_embeddings,\n",
        "                   \"Author\"       : labels}, index=None)"
      ]
    },
    {
      "cell_type": "code",
      "source": [
        "labels = df[\"Author\"]\n",
        "tweets = df[\"Tweet\"]"
      ],
      "metadata": {
        "id": "ddwpvTQj9l3u"
      },
      "execution_count": 240,
      "outputs": []
    },
    {
      "cell_type": "code",
      "source": [
        "from sklearn.model_selection import train_test_split\n",
        "\n",
        "# Split the dataset into train and test set. Note that we have used stratified sampling.\n",
        "train, test = train_test_split(df, test_size = 0.1, stratify = df['Author'], random_state = 20200226)"
      ],
      "metadata": {
        "id": "zbx8pn6Q8uog"
      },
      "execution_count": 241,
      "outputs": []
    },
    {
      "cell_type": "code",
      "source": [
        "train = train.reset_index(drop = True)\n",
        "test  = test.reset_index(drop  = True)"
      ],
      "metadata": {
        "id": "gakkNtod9jmt"
      },
      "execution_count": 242,
      "outputs": []
    },
    {
      "cell_type": "code",
      "source": [
        "train.to_json(\"train_embeddings.json\")    # Save train set with embeddings as json file\n",
        "test.to_json(\"test_embeddings.json\")      # Save test set with embeddings as json file"
      ],
      "metadata": {
        "id": "z9avom9-69Zm"
      },
      "execution_count": 243,
      "outputs": []
    },
    {
      "cell_type": "markdown",
      "source": [
        "# Task 2 - KNN"
      ],
      "metadata": {
        "id": "7gvCNra6-tE6"
      }
    },
    {
      "cell_type": "markdown",
      "source": [
        "### Bag of Words Features"
      ],
      "metadata": {
        "id": "GO2ko5hu_Dal"
      }
    },
    {
      "cell_type": "code",
      "source": [
        "train_df  = pd.read_json(\"train_BoW.json\")\n",
        "test_df   = pd.read_json(\"test_BoW.json\")\n",
        "\n",
        "X_train   = train_df.iloc[:, 1].values\n",
        "y_train   = train_df.iloc[:, 2].values\n",
        "\n",
        "X_test    = test_df.iloc[:, 1].values\n",
        "y_test    = test_df.iloc[:, 2].values\n",
        "\n",
        "\n",
        "# Converting the X_train values from array containing lists -> array of arrays\n",
        "temp = []\n",
        "for i in X_test:\n",
        "    temp.append(np.array(i))\n",
        "\n",
        "temp = np.array(temp)\n",
        "X_test = temp\n",
        "\n",
        "temp = []\n",
        "for i in X_train:\n",
        "    temp.append(np.array(i))\n",
        "\n",
        "temp = np.array(temp)\n",
        "X_train = temp"
      ],
      "metadata": {
        "id": "FvWhdkjDg_b7"
      },
      "execution_count": 234,
      "outputs": []
    },
    {
      "cell_type": "code",
      "source": [
        "from sklearn.neighbors import NearestNeighbors\n",
        "from sklearn.neighbors import KNeighborsClassifier\n",
        "from sklearn.metrics import accuracy_score\n",
        "from sklearn.model_selection import cross_val_score\n",
        "from statistics import mean\n",
        "import matplotlib.pyplot as plt\n",
        "from sklearn.model_selection import cross_val_predict\n",
        "from sklearn.metrics import confusion_matrix\n",
        "from sklearn.metrics import classification_report\n",
        "\n",
        "\n",
        "# The training and validation are computed using validation_curve function below.\n",
        "# It returns train, validation scores for values of k where k = 1 .... 5\n",
        "\n",
        "train_scores, val_scores = validation_curve(KNeighborsClassifier(),\n",
        "                                            X_train,\n",
        "                                            y_train,\n",
        "                                            cv = 5,\n",
        "                                            scoring = \"accuracy\",\n",
        "                                            param_range = range(1,6),\n",
        "                                            param_name = \"n_neighbors\")\n",
        "\n",
        "# Take the mean score for each value of K\n",
        "train_mean = np.mean(train_scores, axis = 1)\n",
        "val_mean   = np.mean(val_scores, axis = 1)\n",
        "\n",
        "\n",
        "a_list          = []      # this list is used to keep track of optimal value of k\n",
        "\n",
        "for var in range(1, 6):\n",
        "\n",
        "  print(\"k = \", var)\n",
        "\n",
        "  knn        = KNeighborsClassifier(var)\n",
        "  accuracy_s = cross_val_score(knn, X_train, y_train, cv = 5)                   # compute cross-validation score on train-set\n",
        "\n",
        "  val_loss      = accuracy_s\n",
        "  mean_val_loss = sum(val_loss)/len(val_loss)                                   # compute average of validation loss\n",
        "\n",
        "  print(\"Mean Validation Loss\", mean_val_loss, '\\n')                            # Print mean validation loss\n",
        "\n",
        "  a_list.append(mean(accuracy_s))                                               # add the validation scores to a_list\n",
        "\n",
        "copy = a_list\n",
        "copy = sorted(copy)\n",
        "a    = copy[-1]\n",
        "\n",
        "optimal_k = a_list.index(a) + 1                                                 # returns optimal value of k\n",
        "\n",
        "neigh = KNeighborsClassifier(optimal_k)                                         # fit on the train set using the optimal value of k\n",
        "neigh.fit(X_train, y_train)"
      ],
      "metadata": {
        "colab": {
          "base_uri": "https://localhost:8080/"
        },
        "id": "lLxG02cg379I",
        "outputId": "5d974336-c233-4bab-e71b-2d3a4f1984f2"
      },
      "execution_count": 252,
      "outputs": [
        {
          "output_type": "stream",
          "name": "stdout",
          "text": [
            "k =  1\n",
            "Mean Validation Loss =  0.46300098788921007 \n",
            "\n",
            "k =  2\n",
            "Mean Validation Loss =  0.4837712975497908 \n",
            "\n",
            "k =  3\n",
            "Mean Validation Loss =  0.4831063627382825 \n",
            "\n",
            "k =  4\n",
            "Mean Validation Loss =  0.4468737575158855 \n",
            "\n",
            "k =  5\n",
            "Mean Validation Loss =  0.43384508433646773 \n",
            "\n",
            "KNeighborsClassifier(n_neighbors=2)\n"
          ]
        }
      ]
    },
    {
      "cell_type": "code",
      "source": [
        "plt.figure()\n",
        "\n",
        "r = range(1, 6)\n",
        "\n",
        "plt.plot(r, 1 - val_mean)\n",
        "plt.xlabel(\"Values of k \")\n",
        "plt.ylabel(\"Mean validation loss\")\n",
        "plt.title(\"Mean validation loss against values of k in KNN\")\n",
        "plt.show()\n",
        "\n",
        "plt.figure()\n",
        "plt.plot(r, 1 - train_mean)\n",
        "plt.xlabel(\"Values of k \")\n",
        "plt.ylabel(\"Training Loss \")\n",
        "plt.title(\"Training loss against values of k in KNN\")\n",
        "\n",
        "plt.show()"
      ],
      "metadata": {
        "colab": {
          "base_uri": "https://localhost:8080/",
          "height": 573
        },
        "outputId": "bd49dc41-64f0-4840-fde6-f41b3b7de563",
        "id": "dYQBl04BfSOe"
      },
      "execution_count": null,
      "outputs": [
        {
          "output_type": "display_data",
          "data": {
            "text/plain": [
              "<Figure size 432x288 with 1 Axes>"
            ],
            "image/png": "[encoded data removed]"
          },
          "metadata": {
            "needs_background": "light"
          }
        },
        {
          "output_type": "display_data",
          "data": {
            "text/plain": [
              "<Figure size 432x288 with 1 Axes>"
            ],
            "image/png": "[encoded data removed]"
          },
          "metadata": {
            "needs_background": "light"
          }
        }
      ]
    },
    {
      "cell_type": "markdown",
      "source": [
        "As seen in the plot above for the mean validation loss, we can observe that the loss is lowest for the value of `k = 2`. This is the optimal value of k which we have used to fit the knn model report the results on the test data."
      ],
      "metadata": {
        "id": "3dTi-hLB6A86"
      }
    },
    {
      "cell_type": "code",
      "source": [
        "y_test_pred = knn.predict(X_test)\n",
        "\n",
        "report = classification_report(y_test, y_test_pred, output_dict=True)['macro avg']\n",
        "\n",
        "macro_avg_precision =  int(report['precision'] * 100)\n",
        "macro_avg_recall    =  int(report['recall'] * 100)\n",
        "macro_f1_score      =  int(report['f1-score'] * 100)\n",
        "\n",
        "accuracy            =  int(accuracy_score(y_test, y_test_pred) * 100)\n",
        "\n",
        "print (f'Macro Avg Precision = {macro_avg_precision} %')\n",
        "print (f'Macro Avg Recall    = {macro_avg_recall} %')\n",
        "print (f'Macro Avg F1-score  = {macro_f1_score} %', '\\n')\n",
        "\n",
        "print (f'Accuracy Score      = {accuracy} % \\n')\n",
        "\n",
        "cm = confusion_matrix(y_test, y_test_pred)\n",
        "\n",
        "print ('Confusion Matrix - Test Set :')\n",
        "disp = ConfusionMatrixDisplay(confusion_matrix = cm)\n",
        "disp.plot()\n",
        "plt.show()"
      ],
      "metadata": {
        "colab": {
          "base_uri": "https://localhost:8080/",
          "height": 404
        },
        "id": "LIogFnHvWhpc",
        "outputId": "0b83c150-dcb3-4783-f552-24f1d1512626"
      },
      "execution_count": 220,
      "outputs": [
        {
          "output_type": "stream",
          "name": "stdout",
          "text": [
            "Macro Avg Precision = 68 %\n",
            "Macro Avg Recall    = 55 %\n",
            "Macro Avg F1-score  = 55 % \n",
            "\n",
            "Accuracy Score      = 55 % \n",
            "\n",
            "Confusion Matrix - Test Set :\n"
          ]
        },
        {
          "output_type": "display_data",
          "data": {
            "text/plain": [
              "<Figure size 432x288 with 2 Axes>"
            ],
            "image/png": "[encoded data removed]"
          },
          "metadata": {
            "needs_background": "light"
          }
        }
      ]
    },
    {
      "cell_type": "markdown",
      "source": [
        "### Word Embedding Features"
      ],
      "metadata": {
        "id": "nGLV1pSk-7ql"
      }
    },
    {
      "cell_type": "code",
      "source": [
        "train_df  = pd.read_json(\"train_embeddings.json\")\n",
        "test_df   = pd.read_json(\"test_embeddings.json\")\n",
        "\n",
        "X_train   = train_df.iloc[:, 1].values\n",
        "y_train   = train_df.iloc[:, 2].values\n",
        "\n",
        "X_test    = test_df.iloc[:, 1].values\n",
        "y_test    = test_df.iloc[:, 2].values\n",
        "\n",
        "temp = []\n",
        "for i in X_test:\n",
        "    temp.append(np.array(i))\n",
        "\n",
        "temp = np.array(temp)\n",
        "X_test = temp\n",
        "\n",
        "temp = []\n",
        "for i in X_train:\n",
        "    temp.append(np.array(i))\n",
        "\n",
        "temp = np.array(temp)\n",
        "X_train = temp"
      ],
      "metadata": {
        "id": "ikpkw4pklHNz"
      },
      "execution_count": 244,
      "outputs": []
    },
    {
      "cell_type": "code",
      "source": [
        "from sklearn.neighbors import KNeighborsClassifier\n",
        "from sklearn.model_selection import cross_val_score\n",
        "\n",
        "lowest_loss  = 100\n",
        "val_losses   = []\n",
        "train_losses = []\n",
        "\n",
        "\n",
        "# The training and validation are computed using validation_curve function below.\n",
        "# It returns train, validation scores for values of k where k = 1 .... 5\n",
        "\n",
        "train_scores, val_scores = validation_curve(KNeighborsClassifier(),\n",
        "                                           X_train,\n",
        "                                           y_train,\n",
        "                                           cv = 5,\n",
        "                                           scoring = \"accuracy\",\n",
        "                                           param_range = range(1, 6),\n",
        "                                           param_name = \"n_neighbors\")\n",
        "\n",
        "# Take the mean score for each value of K\n",
        "train_mean = np.mean(train_scores,axis=1)\n",
        "val_mean   = np.mean(val_scores,axis=1)\n",
        "\n",
        "for k in range(1,6):\n",
        "\n",
        "  knn = KNeighborsClassifier(n_neighbors = k)\n",
        "  knn.fit(X_train, y_train)\n",
        "\n",
        "  cv_scores  = cross_val_score(knn, X_train, y_train, cv = 5)\n",
        "  train_loss = (1 - cv_scores).mean()\n",
        "\n",
        "  train_losses.append(train_loss)\n",
        "\n",
        "  if train_loss < lowest_loss:\n",
        "    lowest_loss = train_loss\n",
        "    optimal_k   = k\n",
        "\n",
        "  print (f'K = {k}')\n",
        "  print (f'Mean Validation Loss = {train_loss} \\n')\n",
        "  \n",
        "knn = KNeighborsClassifier(n_neighbors = optimal_k)\n",
        "knn.fit(X_train, y_train)"
      ],
      "metadata": {
        "colab": {
          "base_uri": "https://localhost:8080/"
        },
        "outputId": "abb0a3f7-b5eb-40a0-a02d-1f1166e32550",
        "id": "j3b1fzQFZwFM"
      },
      "execution_count": null,
      "outputs": [
        {
          "output_type": "stream",
          "name": "stdout",
          "text": [
            "K = 1\n",
            "Mean Validation Loss = 0.18498942917547567 \n",
            "\n",
            "K = 2\n",
            "Mean Validation Loss = 0.18837209302325583 \n",
            "\n",
            "K = 3\n",
            "Mean Validation Loss = 0.18012684989429179 \n",
            "\n",
            "K = 4\n",
            "Mean Validation Loss = 0.1778012684989429 \n",
            "\n",
            "K = 5\n",
            "Mean Validation Loss = 0.17843551797040172 \n",
            "\n"
          ]
        },
        {
          "output_type": "execute_result",
          "data": {
            "text/plain": [
              "KNeighborsClassifier(n_neighbors=4)"
            ]
          },
          "metadata": {},
          "execution_count": 161
        }
      ]
    },
    {
      "cell_type": "code",
      "source": [
        "plt.figure()\n",
        "r = range(1,6)\n",
        "\n",
        "plt.plot(r, 1 - val_mean)\n",
        "plt.xlabel(\"Values of k \")\n",
        "plt.ylabel(\"Mean validation loss \")\n",
        "plt.title(\"Mean validation loss against values of k in KNN\")\n",
        "plt.show()\n",
        "\n",
        "plt.figure()\n",
        "plt.plot(r, 1 - train_mean)\n",
        "plt.xlabel(\"Values of k \")\n",
        "plt.ylabel(\"Training Loss \")\n",
        "plt.title(\"Training loss against values of k in KNN\")\n",
        "\n",
        "plt.show()"
      ],
      "metadata": {
        "colab": {
          "base_uri": "https://localhost:8080/",
          "height": 573
        },
        "id": "5ducNAcyYje-",
        "outputId": "751812f6-e62e-442c-b444-d016cdbaf259"
      },
      "execution_count": null,
      "outputs": [
        {
          "output_type": "display_data",
          "data": {
            "text/plain": [
              "<Figure size 432x288 with 1 Axes>"
            ],
            "image/png": "[encoded data removed]"
          },
          "metadata": {
            "needs_background": "light"
          }
        },
        {
          "output_type": "display_data",
          "data": {
            "text/plain": [
              "<Figure size 432x288 with 1 Axes>"
            ],
            "image/png": "[encoded data removed]"
          },
          "metadata": {
            "needs_background": "light"
          }
        }
      ]
    },
    {
      "cell_type": "markdown",
      "source": [
        "As seen in the plot above for the mean validation loss, we can observe that the loss is lowest for the value of `k = 4`. This is the optimal value of k which we have used to fit the knn model report the results on the test data."
      ],
      "metadata": {
        "id": "pD6MFIf265ke"
      }
    },
    {
      "cell_type": "code",
      "source": [
        "y_test_pred = knn.predict(X_test)\n",
        "\n",
        "report = classification_report(y_test, y_test_pred, output_dict=True)['macro avg']\n",
        "\n",
        "macro_avg_precision =  int(report['precision'] * 100)\n",
        "macro_avg_recall    =  int(report['recall'] * 100)\n",
        "macro_f1_score      =  int(report['f1-score'] * 100)\n",
        "\n",
        "accuracy            =  int(accuracy_score(y_test, y_test_pred) * 100)\n",
        "\n",
        "print (f'Macro Avg Precision = {macro_avg_precision} %')\n",
        "print (f'Macro Avg Recall    = {macro_avg_recall} %')\n",
        "print (f'Macro Avg F1-score  = {macro_f1_score} %', '\\n')\n",
        "\n",
        "print (f'Accuracy Score      = {accuracy} % \\n')\n",
        "\n",
        "print ('Confusion Matrix - Test Set :')\n",
        "cm = confusion_matrix(y_test, y_test_pred)\n",
        "\n",
        "disp = ConfusionMatrixDisplay(confusion_matrix = cm)\n",
        "disp.plot()\n",
        "plt.show()"
      ],
      "metadata": {
        "colab": {
          "base_uri": "https://localhost:8080/",
          "height": 400
        },
        "id": "w7vqlZ9IY96k",
        "outputId": "fb941640-6357-43a7-8141-61ac20dff4dc"
      },
      "execution_count": null,
      "outputs": [
        {
          "output_type": "stream",
          "name": "stdout",
          "text": [
            "Macro Avg Precision = 84 %\n",
            "Macro Avg Recall    = 82 %\n",
            "Macro Avg F1-score  = 82 % \n",
            "\n",
            "Accuracy Score      = 84 % \n",
            "\n",
            "Confusion Matrix - Test Set :\n"
          ]
        },
        {
          "output_type": "display_data",
          "data": {
            "text/plain": [
              "<Figure size 432x288 with 2 Axes>"
            ],
            "image/png": "[encoded data removed]"
          },
          "metadata": {
            "needs_background": "light"
          }
        }
      ]
    },
    {
      "cell_type": "markdown",
      "source": [
        "# Task 3 - NN's"
      ],
      "metadata": {
        "id": "ff9xL9ucFESA"
      }
    },
    {
      "cell_type": "markdown",
      "source": [
        "### Bag of Words Features"
      ],
      "metadata": {
        "id": "l6LqagZYQ9jS"
      }
    },
    {
      "cell_type": "code",
      "source": [
        "train_df  = pd.read_json(\"train_BoW.json\")\n",
        "test_df   = pd.read_json(\"test_BoW.json\")\n",
        "\n",
        "X_train   = train_df.iloc[:, 1].values\n",
        "y_train   = train_df.iloc[:, 2].values\n",
        "\n",
        "X_test    = test_df.iloc[:, 1].values\n",
        "y_test    = test_df.iloc[:, 2].values\n",
        "\n",
        "temp = []\n",
        "for i in X_test:\n",
        "    temp.append(np.array(i))\n",
        "\n",
        "temp = np.array(temp)\n",
        "X_test = temp\n",
        "\n",
        "temp = []\n",
        "for i in X_train:\n",
        "    temp.append(np.array(i))\n",
        "\n",
        "temp = np.array(temp)\n",
        "X_train = temp"
      ],
      "metadata": {
        "id": "tfOyYLGOlBIU"
      },
      "execution_count": 246,
      "outputs": []
    },
    {
      "cell_type": "code",
      "source": [
        "mlp = MLPClassifier(alpha = 0.1,\n",
        "                    solver   = 'adam',\n",
        "                    activation = 'relu',\n",
        "                    hidden_layer_sizes = (1000),\n",
        "                    learning_rate = 'invscaling')\n",
        "\n",
        "cv_scores  = cross_val_score(mlp, X_train, y_train, cv = 5)\n",
        "print (cv_scores)"
      ],
      "metadata": {
        "colab": {
          "base_uri": "https://localhost:8080/"
        },
        "id": "jaEGsuEM8qd0",
        "outputId": "da091fb8-f90e-4f91-f647-80dfac0dbfa0"
      },
      "execution_count": 258,
      "outputs": [
        {
          "output_type": "stream",
          "name": "stdout",
          "text": [
            "[0.404342556 0.414522126 0.398436293 0.418397153 0.404345128]\n"
          ]
        }
      ]
    },
    {
      "cell_type": "code",
      "source": [
        "mlp.fit(X_train, y_train)\n",
        "y_pred = mlp.predict(X_test)\n",
        "\n",
        "plt.plot(mlp.loss_curve_)\n",
        "plt.ylabel('Loss')\n",
        "plt.xlabel('number of iterations')\n",
        "plt.show()"
      ],
      "metadata": {
        "colab": {
          "base_uri": "https://localhost:8080/",
          "height": 279
        },
        "id": "PW4MkudDp2Y4",
        "outputId": "5c9e7771-81c8-4649-ea7d-b710a92ec28f"
      },
      "execution_count": null,
      "outputs": [
        {
          "output_type": "display_data",
          "data": {
            "text/plain": [
              "<Figure size 432x288 with 1 Axes>"
            ],
            "image/png": "[encoded data removed]"
          },
          "metadata": {
            "needs_background": "light"
          }
        }
      ]
    },
    {
      "cell_type": "code",
      "source": [
        "y_test_pred = mlp.predict(X_test)\n",
        "\n",
        "report = classification_report(y_test, y_test_pred, output_dict = True)['macro avg']\n",
        "\n",
        "macro_avg_precision =  int(report['precision'] * 100)\n",
        "macro_avg_recall    =  int(report['recall'] * 100)\n",
        "macro_f1_score      =  int(report['f1-score'] * 100)\n",
        "\n",
        "accuracy            =  int(accuracy_score(y_test, y_test_pred) * 100)\n",
        "\n",
        "print (f'Macro Avg Precision = {macro_avg_precision} %')\n",
        "print (f'Macro Avg Recall    = {macro_avg_recall} %')\n",
        "print (f'Macro Avg F1-score  = {macro_f1_score} %', '\\n')\n",
        "\n",
        "print (f'Accuracy Score      = {accuracy} % \\n')\n",
        "\n",
        "print ('Confusion Matrix - Test Set :')\n",
        "cm = confusion_matrix(y_test, y_test_pred)\n",
        "\n",
        "disp = ConfusionMatrixDisplay(confusion_matrix = cm)\n",
        "disp.plot()\n",
        "plt.show()"
      ],
      "metadata": {
        "colab": {
          "base_uri": "https://localhost:8080/",
          "height": 400
        },
        "id": "yCIC6EaTpxzi",
        "outputId": "386e90d9-dc4e-454f-d5e1-07e8ed25fd7f"
      },
      "execution_count": null,
      "outputs": [
        {
          "output_type": "stream",
          "name": "stdout",
          "text": [
            "Macro Avg Precision = 36 %\n",
            "Macro Avg Recall    = 37 %\n",
            "Macro Avg F1-score  = 30 % \n",
            "\n",
            "Accuracy Score      = 41 % \n",
            "\n",
            "Confusion Matrix - Test Set :\n"
          ]
        },
        {
          "output_type": "display_data",
          "data": {
            "text/plain": [
              "<Figure size 432x288 with 2 Axes>"
            ],
            "image/png": "[encoded data removed]"
          },
          "metadata": {
            "needs_background": "light"
          }
        }
      ]
    },
    {
      "cell_type": "markdown",
      "source": [
        "### Word Embeddings"
      ],
      "metadata": {
        "id": "XSGZvV_VQnHV"
      }
    },
    {
      "cell_type": "code",
      "source": [
        "train_df  = pd.read_json(\"train_embeddings.json\")\n",
        "test_df   = pd.read_json(\"test_embeddings.json\")\n",
        "\n",
        "X_train   = train_df.iloc[:, 1].values\n",
        "y_train   = train_df.iloc[:, 2].values\n",
        "\n",
        "X_test    = test_df.iloc[:, 1].values\n",
        "y_test    = test_df.iloc[:, 2].values\n",
        "\n",
        "temp = []\n",
        "for i in X_test:\n",
        "    temp.append(np.array(i))\n",
        "\n",
        "temp = np.array(temp)\n",
        "X_test = temp\n",
        "\n",
        "temp = []\n",
        "for i in X_train:\n",
        "    temp.append(np.array(i))\n",
        "\n",
        "temp = np.array(temp)\n",
        "X_train = temp"
      ],
      "metadata": {
        "id": "Vf0OEea3l6Tc"
      },
      "execution_count": null,
      "outputs": []
    },
    {
      "cell_type": "code",
      "source": [
        "mlp = MLPClassifier(max_iter = 4000,\n",
        "                    solver   = 'adam',\n",
        "                    momentum = 0.9,\n",
        "                    nesterovs_momentum = True,\n",
        "                    learning_rate_init = 0.01,\n",
        "                    hidden_layer_sizes =(2000))\n",
        "\n",
        "cv_scores  = cross_val_score(mlp, X_train, y_train, cv = 5)\n",
        "print (cv_scores)"
      ],
      "metadata": {
        "colab": {
          "base_uri": "https://localhost:8080/"
        },
        "id": "jnzjm5ASpjoU",
        "outputId": "8c9f86a2-4806-4aea-ef0d-c32e8e1d3e10"
      },
      "execution_count": null,
      "outputs": [
        {
          "output_type": "stream",
          "name": "stdout",
          "text": [
            "[0.80972516 0.82135307 0.81606765 0.82029598 0.81395349]\n"
          ]
        }
      ]
    },
    {
      "cell_type": "code",
      "source": [
        "mlp.fit(X_train, y_train)\n",
        "y_pred = mlp.predict(X_test)\n",
        "\n",
        "plt.plot(mlp.loss_curve_)\n",
        "plt.ylabel('Loss')\n",
        "plt.xlabel('number of iterations')\n",
        "plt.show()"
      ],
      "metadata": {
        "colab": {
          "base_uri": "https://localhost:8080/",
          "height": 281
        },
        "id": "Reo-6dFspl2m",
        "outputId": "c8b9f43b-b50d-43a2-ae42-9ab47118daa6"
      },
      "execution_count": null,
      "outputs": [
        {
          "output_type": "display_data",
          "data": {
            "text/plain": [
              "<Figure size 432x288 with 1 Axes>"
            ],
            "image/png": "[encoded data removed]"
          },
          "metadata": {
            "needs_background": "light"
          }
        }
      ]
    },
    {
      "cell_type": "code",
      "source": [
        "y_test_pred = mlp.predict(X_test)\n",
        "\n",
        "report = classification_report(y_test, y_test_pred, output_dict=True)['macro avg']\n",
        "\n",
        "macro_avg_precision =  int(report['precision'] * 100)\n",
        "macro_avg_recall    =  int(report['recall'] * 100)\n",
        "macro_f1_score      =  int(report['f1-score'] * 100)\n",
        "\n",
        "accuracy            =  int(accuracy_score(y_test, y_test_pred) * 100)\n",
        "\n",
        "print (f'Macro Avg Precision = {macro_avg_precision} %')\n",
        "print (f'Macro Avg Recall    = {macro_avg_recall} %')\n",
        "print (f'Macro Avg F1-score  = {macro_f1_score} %', '\\n')\n",
        "\n",
        "print (f'Accuracy Score      = {accuracy} % \\n')\n",
        "\n",
        "print ('Confusion Matrix - Test Set :')\n",
        "cm = confusion_matrix(y_test, y_test_pred)\n",
        "\n",
        "disp = ConfusionMatrixDisplay(confusion_matrix = cm)\n",
        "disp.plot()\n",
        "plt.show()"
      ],
      "metadata": {
        "colab": {
          "base_uri": "https://localhost:8080/",
          "height": 400
        },
        "outputId": "3d2f1260-03f1-415a-eda7-f4d6cb8eab59",
        "id": "gVhXXIMXf9af"
      },
      "execution_count": null,
      "outputs": [
        {
          "output_type": "stream",
          "name": "stdout",
          "text": [
            "Macro Avg Precision = 80 %\n",
            "Macro Avg Recall    = 79 %\n",
            "Macro Avg F1-score  = 80 % \n",
            "\n",
            "Accuracy Score      = 81 % \n",
            "\n",
            "Confusion Matrix - Test Set :\n"
          ]
        },
        {
          "output_type": "display_data",
          "data": {
            "text/plain": [
              "<Figure size 432x288 with 2 Axes>"
            ],
            "image/png": "[encoded data removed]"
          },
          "metadata": {
            "needs_background": "light"
          }
        }
      ]
    },
    {
      "cell_type": "markdown",
      "source": [
        "# Task 4 - Ensemble Methods"
      ],
      "metadata": {
        "id": "8r2kYZuKRIE9"
      }
    },
    {
      "cell_type": "markdown",
      "source": [
        "### Bag of Words Features"
      ],
      "metadata": {
        "id": "vQdymTclRXZM"
      }
    },
    {
      "cell_type": "code",
      "source": [
        "train_df  = pd.read_json(\"train_BoW.json\")\n",
        "test_df   = pd.read_json(\"test_BoW.json\")\n",
        "\n",
        "X_train   = train_df.iloc[:, 1].values\n",
        "y_train   = train_df.iloc[:, 2].values\n",
        "\n",
        "X_test    = test_df.iloc[:, 1].values\n",
        "y_test    = test_df.iloc[:, 2].values\n",
        "\n",
        "temp = []\n",
        "for i in X_test:\n",
        "    temp.append(np.array(i))\n",
        "\n",
        "temp = np.array(temp)\n",
        "X_test = temp\n",
        "\n",
        "temp = []\n",
        "for i in X_train:\n",
        "    temp.append(np.array(i))\n",
        "\n",
        "temp = np.array(temp)\n",
        "X_train = temp"
      ],
      "metadata": {
        "id": "KL4TIRH9lC07"
      },
      "execution_count": null,
      "outputs": []
    },
    {
      "cell_type": "code",
      "source": [
        "#######################################\n",
        "\n",
        "#           Random Forest\n",
        "\n",
        "######################################\n",
        "\n",
        "from sklearn.ensemble import RandomForestClassifier\n",
        "\n",
        "model = RandomForestClassifier(random_state = 42, \n",
        "                               n_estimators = 110, \n",
        "                               bootstrap = False, \n",
        "                               criterion = 'entropy', \n",
        "                               max_depth = None, \n",
        "                               max_features = 1, \n",
        "                               min_samples_leaf = 1, \n",
        "                               min_samples_split = 10)\n",
        "model.fit(X_train, y_train)"
      ],
      "metadata": {
        "colab": {
          "base_uri": "https://localhost:8080/"
        },
        "id": "WOiNT0Mx6v9T",
        "outputId": "6ecc6b27-f443-42d7-8d63-52af064cdfce"
      },
      "execution_count": null,
      "outputs": [
        {
          "output_type": "execute_result",
          "data": {
            "text/plain": [
              "RandomForestClassifier(bootstrap=False, criterion='entropy', max_features=1,\n",
              "                       min_samples_split=10, n_estimators=110, random_state=42)"
            ]
          },
          "metadata": {},
          "execution_count": 25
        }
      ]
    },
    {
      "cell_type": "code",
      "source": [
        "from sklearn.metrics import confusion_matrix\n",
        "import seaborn as sns\n",
        "from sklearn.metrics import confusion_matrix, ConfusionMatrixDisplay\n",
        "import matplotlib.pyplot as plt\n",
        "\n",
        "y_test_pred = model.predict(X_test)\n",
        "\n",
        "report = classification_report(y_test, y_test_pred, output_dict=True)['macro avg']\n",
        "\n",
        "macro_avg_precision =  int(report['precision'] * 100)\n",
        "macro_avg_recall    =  int(report['recall'] * 100)\n",
        "macro_f1_score      =  int(report['f1-score'] * 100)\n",
        "\n",
        "accuracy            =  int(accuracy_score(y_test, y_test_pred) * 100)\n",
        "\n",
        "print (f'Macro Avg Precision = {macro_avg_precision} %')\n",
        "print (f'Macro Avg Recall    = {macro_avg_recall} %')\n",
        "print (f'Macro Avg F1-score  = {macro_f1_score} %', '\\n')\n",
        "\n",
        "print (f'Accuracy Score      = {accuracy} % \\n')\n",
        "\n",
        "print ('Confusion Matrix :')\n",
        "cm = confusion_matrix(y_test, y_test_pred)\n",
        "\n",
        "disp = ConfusionMatrixDisplay(confusion_matrix = cm)\n",
        "disp.plot()\n",
        "plt.show()"
      ],
      "metadata": {
        "colab": {
          "base_uri": "https://localhost:8080/",
          "height": 400
        },
        "id": "egBwsSOy6xZP",
        "outputId": "f43a7f7f-71f4-4026-f7df-ce53207b9e17"
      },
      "execution_count": null,
      "outputs": [
        {
          "output_type": "stream",
          "name": "stdout",
          "text": [
            "Macro Avg Precision = 85 %\n",
            "Macro Avg Recall    = 84 %\n",
            "Macro Avg F1-score  = 84 % \n",
            "\n",
            "Accuracy Score      = 85 % \n",
            "\n",
            "Confusion Matrix :\n"
          ]
        },
        {
          "output_type": "display_data",
          "data": {
            "text/plain": [
              "<Figure size 432x288 with 2 Axes>"
            ],
            "image/png": "[encoded data removed]"
          },
          "metadata": {
            "needs_background": "light"
          }
        }
      ]
    },
    {
      "cell_type": "markdown",
      "source": [
        "### Word Embeddings"
      ],
      "metadata": {
        "id": "I8l4WRvwRaAe"
      }
    },
    {
      "cell_type": "code",
      "source": [
        "train_df  = pd.read_json(\"train_embeddings.json\")\n",
        "test_df   = pd.read_json(\"test_embeddings.json\")\n",
        "\n",
        "X_train   = train_df.iloc[:, 1].values\n",
        "y_train   = train_df.iloc[:, 2].values\n",
        "\n",
        "X_test    = test_df.iloc[:, 1].values\n",
        "y_test    = test_df.iloc[:, 2].values\n",
        "\n",
        "temp = []\n",
        "for i in X_test:\n",
        "    temp.append(np.array(i))\n",
        "\n",
        "temp = np.array(temp)\n",
        "X_test = temp\n",
        "\n",
        "temp = []\n",
        "for i in X_train:\n",
        "    temp.append(np.array(i))\n",
        "\n",
        "temp = np.array(temp)\n",
        "X_train = temp"
      ],
      "metadata": {
        "id": "9EXiPhkLl9HA"
      },
      "execution_count": null,
      "outputs": []
    },
    {
      "cell_type": "code",
      "source": [
        "#######################################\n",
        "\n",
        "#           Voting Classifier\n",
        "\n",
        "######################################\n",
        "\n",
        "log_clf = LogisticRegression(solver = \"liblinear\", random_state = 42)\n",
        "\n",
        "rnd_clf = RandomForestClassifier(n_estimators = 10, \n",
        "                                 random_state = 42,\n",
        "                                 bootstrap = False,\n",
        "                                 criterion = 'entropy',\n",
        "                                 max_depth = None,\n",
        "                                 max_features = 10,\n",
        "                                 min_samples_leaf = 3,\n",
        "                                 min_samples_split = 10)\n",
        "\n",
        "gb_model = GradientBoostingClassifier()\n",
        "\n",
        "voting_clf = VotingClassifier(estimators = [\n",
        "          ('lr', log_clf),\n",
        "          ('dt', rnd_clf),\n",
        "          ('gb', gb_model)], voting='hard')\n",
        "\n",
        "voting_clf.fit(X_train, y_train)\n",
        "\n",
        "for clf in (log_clf, rnd_clf, gb_model, voting_clf):\n",
        "    clf.fit(X_train, y_train)\n",
        "    y_pred = clf.predict(X_test)\n",
        "    print(clf.__class__.__name__, accuracy_score(y_test, y_pred))"
      ],
      "metadata": {
        "colab": {
          "base_uri": "https://localhost:8080/"
        },
        "id": "ZZTLnKAQ5wkI",
        "outputId": "c8dcdc82-42db-47a9-8baf-513a9e8aa7b6"
      },
      "execution_count": null,
      "outputs": [
        {
          "output_type": "stream",
          "name": "stdout",
          "text": [
            "LogisticRegression 0.7908745247148289\n",
            "RandomForestClassifier 0.6387832699619772\n",
            "GradientBoostingClassifier 0.7870722433460076\n",
            "VotingClassifier 0.7832699619771863\n"
          ]
        }
      ]
    },
    {
      "cell_type": "code",
      "source": [
        "from sklearn.metrics import confusion_matrix\n",
        "import seaborn as sns\n",
        "from sklearn.metrics import confusion_matrix, ConfusionMatrixDisplay\n",
        "import matplotlib.pyplot as plt\n",
        "\n",
        "y_test_pred = voting_clf.predict(X_test)\n",
        "\n",
        "report = classification_report(y_test, y_test_pred, output_dict=True)['macro avg']\n",
        "\n",
        "macro_avg_precision =  int(report['precision'] * 100)\n",
        "macro_avg_recall    =  int(report['recall'] * 100)\n",
        "macro_f1_score      =  int(report['f1-score'] * 100)\n",
        "\n",
        "accuracy            =  int(accuracy_score(y_test, y_test_pred) * 100)\n",
        "\n",
        "print (f'Macro Avg Precision = {macro_avg_precision} %')\n",
        "print (f'Macro Avg Recall    = {macro_avg_recall} %')\n",
        "print (f'Macro Avg F1-score  = {macro_f1_score} %', '\\n')\n",
        "\n",
        "print (f'Accuracy Score      = {accuracy} % \\n')\n",
        "\n",
        "print ('Confusion Matrix :')\n",
        "cm = confusion_matrix(y_test, y_test_pred)\n",
        "\n",
        "disp = ConfusionMatrixDisplay(confusion_matrix = cm)\n",
        "disp.plot()\n",
        "plt.show()"
      ],
      "metadata": {
        "colab": {
          "base_uri": "https://localhost:8080/",
          "height": 400
        },
        "id": "V0cD1ZsvGFul",
        "outputId": "087955c8-38e9-44f2-9b3b-ddeb50243e6d"
      },
      "execution_count": null,
      "outputs": [
        {
          "output_type": "stream",
          "name": "stdout",
          "text": [
            "Macro Avg Precision = 78 %\n",
            "Macro Avg Recall    = 76 %\n",
            "Macro Avg F1-score  = 76 % \n",
            "\n",
            "Accuracy Score      = 78 % \n",
            "\n",
            "Confusion Matrix :\n"
          ]
        },
        {
          "output_type": "display_data",
          "data": {
            "text/plain": [
              "<Figure size 432x288 with 2 Axes>"
            ],
            "image/png": "[encoded data removed]"
          },
          "metadata": {
            "needs_background": "light"
          }
        }
      ]
    },
    {
      "cell_type": "code",
      "source": [],
      "metadata": {
        "id": "_h1hLDn-69Ls"
      },
      "execution_count": null,
      "outputs": []
    },
    {
      "cell_type": "markdown",
      "source": [
        "# Task 5"
      ],
      "metadata": {
        "id": "-YLj4Lvz-FXi"
      }
    },
    {
      "cell_type": "markdown",
      "source": [
        "Q1: Which model performed best and why do you think that is?\n",
        "\n",
        "`Answer:` \n",
        "The Random Forest Classifier performed best overall from among all classifiers across both features of BoW and word embeddings. It is less prone to overfitting compared to other models. Since Bag of Words is a high dimensional dataset therefore it is suitable for a Random Forest Classifier."
      ],
      "metadata": {
        "id": "Y4dwbtZYstLb"
      }
    },
    {
      "cell_type": "markdown",
      "source": [
        "Q2: Which features gave better results for each model? Explain.\n",
        "\n",
        "`Answer:` \n",
        "\n",
        "For both K-Nearest Neighbors and Neural Networks, word embeddings gave a higher accuracy compared to for Bag of Words features. This is because the BoW representation does not capture the relationships between words.\n",
        "On the other hand, transformer word embeddings are a type of word representation that captures the relationships between words in a text. These representations can be more effective because they capture more information about the meaning of the words in the text. \n",
        "\n",
        "While for Ensemble methods i.e. the Random Forest classifier give a higher accuracy for the bag of words features. This is because BoW features are suitable for this classifier. Since the features are high dimensional and are difficult to interpret for the other models. While the Random Forest classifier is faster because we are working only on a subset of features, so we can easily work with hundreds of features.\n"
      ],
      "metadata": {
        "id": "A8KYw2bxugxD"
      }
    },
    {
      "cell_type": "markdown",
      "source": [
        "Q3: What effect would increasing the classes to 150 have?\n",
        "\n",
        "`Answer:` \n",
        "\n",
        "The accuracy of models will reduce as the amount of data we have per class is same. More number of classes with similar quantities of data leads to greater overlap between classes leading to lower accuracy for most of models. In summary the likely-hood of a text being classified as part of multiple classes leads to a random decisions being made between the overlapping classes leading to reduced accuracy.\n",
        "\n",
        "As the number of classes increases, the probability of predicting the right class also decreases. For example, to predict between two classes, a random guess would have a probability of 0.5, however, increasing the classes to 3 or more, this number would decrease to 0.3 or below. Therefore, increasing the number of classes would decrease the accuracies of the models."
      ],
      "metadata": {
        "id": "eT14lZDBukBP"
      }
    },
    {
      "cell_type": "markdown",
      "source": [
        "Q4: Suggest improvements to text preparation, feature extraction, and models that can be made to perform this task better\n",
        "\n",
        "`Answer:`\n",
        "\n",
        "In text preparation, an improvement would be to keep the emojis. In today’s world, people use a lot of emojis and have a tendency to use the same emoji over and over again to express emotions. This marker can be helpful in identifying authorship. \n",
        "In Neural Networks (NN), more hidden layers could be added to make the model more efficient. Moreover, a grid search can be run on NN with different parameters to select the parameters that give the highest accuracy."
      ],
      "metadata": {
        "id": "TzaoSrwYuj96"
      }
    },
    {
      "cell_type": "markdown",
      "source": [
        "Q5: What - in your understanding - are the applications of authorship attribution?\n",
        "\n",
        "`Answer:`\n",
        "\n",
        "The problem of authorship attribution is one of the most exciting research areas in the field of Natural Language processing and pattern recognition. This problem holds high importance in the fields of psychology, forensics analysis, examination of documents, checking fraudulent messages, online text/tweet attribution verification, etc. Aside from the underlying moral and ethical concerns, accurately listing authors enables scientists and readers to understand the proper credit for the publication to a particular author.\n",
        "In forensic text/tweets analysis, this technique helps to analyze, compare and evaluate the writing characteristics to determine if the writing was or was not prepared by the known writer."
      ],
      "metadata": {
        "id": "CmmXoyERuj73"
      }
    }
  ],
  "metadata": {
    "colab": {
      "provenance": [],
      "collapsed_sections": [
        "dieDqgQJT82Z",
        "26vdTaYFUdVz",
        "ff9xL9ucFESA",
        "8r2kYZuKRIE9",
        "vQdymTclRXZM"
      ],
      "toc_visible": true
    },
    "kernelspec": {
      "display_name": "Python 3",
      "name": "python3"
    },
    "language_info": {
      "name": "python"
    },
    "widgets": {
      "application/vnd.jupyter.widget-state+json": {
        "074a93a21ddc49109ca2fc0328c7501d": {
          "model_module": "@jupyter-widgets/controls",
          "model_name": "HBoxModel",
          "model_module_version": "1.5.0",
          "state": {
            "_dom_classes": [],
            "_model_module": "@jupyter-widgets/controls",
            "_model_module_version": "1.5.0",
            "_model_name": "HBoxModel",
            "_view_count": null,
            "_view_module": "@jupyter-widgets/controls",
            "_view_module_version": "1.5.0",
            "_view_name": "HBoxView",
            "box_style": "",
            "children": [
              "IPY_MODEL_2a36ddd8a94d4827b2684f6dd48a7f89",
              "IPY_MODEL_26dd7776f07c4cbc8f23748fd9e8d149",
              "IPY_MODEL_9083e6fcae124bdda58f0fc92eb224be"
            ],
            "layout": "IPY_MODEL_dce13fa43b4d4eaa829d007e8de54251"
          }
        },
        "2a36ddd8a94d4827b2684f6dd48a7f89": {
          "model_module": "@jupyter-widgets/controls",
          "model_name": "HTMLModel",
          "model_module_version": "1.5.0",
          "state": {
            "_dom_classes": [],
            "_model_module": "@jupyter-widgets/controls",
            "_model_module_version": "1.5.0",
            "_model_name": "HTMLModel",
            "_view_count": null,
            "_view_module": "@jupyter-widgets/controls",
            "_view_module_version": "1.5.0",
            "_view_name": "HTMLView",
            "description": "",
            "description_tooltip": null,
            "layout": "IPY_MODEL_670ca30106ce44f2a18ccd00b610d571",
            "placeholder": "​",
            "style": "IPY_MODEL_7ccd7ef853034c759bea4061f700da91",
            "value": "Downloading: 100%"
          }
        },
        "26dd7776f07c4cbc8f23748fd9e8d149": {
          "model_module": "@jupyter-widgets/controls",
          "model_name": "FloatProgressModel",
          "model_module_version": "1.5.0",
          "state": {
            "_dom_classes": [],
            "_model_module": "@jupyter-widgets/controls",
            "_model_module_version": "1.5.0",
            "_model_name": "FloatProgressModel",
            "_view_count": null,
            "_view_module": "@jupyter-widgets/controls",
            "_view_module_version": "1.5.0",
            "_view_name": "ProgressView",
            "bar_style": "success",
            "description": "",
            "description_tooltip": null,
            "layout": "IPY_MODEL_94334b154cb7406380a1cd6c93133bab",
            "max": 1175,
            "min": 0,
            "orientation": "horizontal",
            "style": "IPY_MODEL_7ac178ee5c974b01a9633438fd3fcdd1",
            "value": 1175
          }
        },
        "9083e6fcae124bdda58f0fc92eb224be": {
          "model_module": "@jupyter-widgets/controls",
          "model_name": "HTMLModel",
          "model_module_version": "1.5.0",
          "state": {
            "_dom_classes": [],
            "_model_module": "@jupyter-widgets/controls",
            "_model_module_version": "1.5.0",
            "_model_name": "HTMLModel",
            "_view_count": null,
            "_view_module": "@jupyter-widgets/controls",
            "_view_module_version": "1.5.0",
            "_view_name": "HTMLView",
            "description": "",
            "description_tooltip": null,
            "layout": "IPY_MODEL_cc4a9e3d06e54d589390eaebef4bd6cd",
            "placeholder": "​",
            "style": "IPY_MODEL_204c6db4f5874ac3bed164a93bcb601e",
            "value": " 1.18k/1.18k [00:00&lt;00:00, 34.2kB/s]"
          }
        },
        "dce13fa43b4d4eaa829d007e8de54251": {
          "model_module": "@jupyter-widgets/base",
          "model_name": "LayoutModel",
          "model_module_version": "1.2.0",
          "state": {
            "_model_module": "@jupyter-widgets/base",
            "_model_module_version": "1.2.0",
            "_model_name": "LayoutModel",
            "_view_count": null,
            "_view_module": "@jupyter-widgets/base",
            "_view_module_version": "1.2.0",
            "_view_name": "LayoutView",
            "align_content": null,
            "align_items": null,
            "align_self": null,
            "border": null,
            "bottom": null,
            "display": null,
            "flex": null,
            "flex_flow": null,
            "grid_area": null,
            "grid_auto_columns": null,
            "grid_auto_flow": null,
            "grid_auto_rows": null,
            "grid_column": null,
            "grid_gap": null,
            "grid_row": null,
            "grid_template_areas": null,
            "grid_template_columns": null,
            "grid_template_rows": null,
            "height": null,
            "justify_content": null,
            "justify_items": null,
            "left": null,
            "margin": null,
            "max_height": null,
            "max_width": null,
            "min_height": null,
            "min_width": null,
            "object_fit": null,
            "object_position": null,
            "order": null,
            "overflow": null,
            "overflow_x": null,
            "overflow_y": null,
            "padding": null,
            "right": null,
            "top": null,
            "visibility": null,
            "width": null
          }
        },
        "670ca30106ce44f2a18ccd00b610d571": {
          "model_module": "@jupyter-widgets/base",
          "model_name": "LayoutModel",
          "model_module_version": "1.2.0",
          "state": {
            "_model_module": "@jupyter-widgets/base",
            "_model_module_version": "1.2.0",
            "_model_name": "LayoutModel",
            "_view_count": null,
            "_view_module": "@jupyter-widgets/base",
            "_view_module_version": "1.2.0",
            "_view_name": "LayoutView",
            "align_content": null,
            "align_items": null,
            "align_self": null,
            "border": null,
            "bottom": null,
            "display": null,
            "flex": null,
            "flex_flow": null,
            "grid_area": null,
            "grid_auto_columns": null,
            "grid_auto_flow": null,
            "grid_auto_rows": null,
            "grid_column": null,
            "grid_gap": null,
            "grid_row": null,
            "grid_template_areas": null,
            "grid_template_columns": null,
            "grid_template_rows": null,
            "height": null,
            "justify_content": null,
            "justify_items": null,
            "left": null,
            "margin": null,
            "max_height": null,
            "max_width": null,
            "min_height": null,
            "min_width": null,
            "object_fit": null,
            "object_position": null,
            "order": null,
            "overflow": null,
            "overflow_x": null,
            "overflow_y": null,
            "padding": null,
            "right": null,
            "top": null,
            "visibility": null,
            "width": null
          }
        },
        "7ccd7ef853034c759bea4061f700da91": {
          "model_module": "@jupyter-widgets/controls",
          "model_name": "DescriptionStyleModel",
          "model_module_version": "1.5.0",
          "state": {
            "_model_module": "@jupyter-widgets/controls",
            "_model_module_version": "1.5.0",
            "_model_name": "DescriptionStyleModel",
            "_view_count": null,
            "_view_module": "@jupyter-widgets/base",
            "_view_module_version": "1.2.0",
            "_view_name": "StyleView",
            "description_width": ""
          }
        },
        "94334b154cb7406380a1cd6c93133bab": {
          "model_module": "@jupyter-widgets/base",
          "model_name": "LayoutModel",
          "model_module_version": "1.2.0",
          "state": {
            "_model_module": "@jupyter-widgets/base",
            "_model_module_version": "1.2.0",
            "_model_name": "LayoutModel",
            "_view_count": null,
            "_view_module": "@jupyter-widgets/base",
            "_view_module_version": "1.2.0",
            "_view_name": "LayoutView",
            "align_content": null,
            "align_items": null,
            "align_self": null,
            "border": null,
            "bottom": null,
            "display": null,
            "flex": null,
            "flex_flow": null,
            "grid_area": null,
            "grid_auto_columns": null,
            "grid_auto_flow": null,
            "grid_auto_rows": null,
            "grid_column": null,
            "grid_gap": null,
            "grid_row": null,
            "grid_template_areas": null,
            "grid_template_columns": null,
            "grid_template_rows": null,
            "height": null,
            "justify_content": null,
            "justify_items": null,
            "left": null,
            "margin": null,
            "max_height": null,
            "max_width": null,
            "min_height": null,
            "min_width": null,
            "object_fit": null,
            "object_position": null,
            "order": null,
            "overflow": null,
            "overflow_x": null,
            "overflow_y": null,
            "padding": null,
            "right": null,
            "top": null,
            "visibility": null,
            "width": null
          }
        },
        "7ac178ee5c974b01a9633438fd3fcdd1": {
          "model_module": "@jupyter-widgets/controls",
          "model_name": "ProgressStyleModel",
          "model_module_version": "1.5.0",
          "state": {
            "_model_module": "@jupyter-widgets/controls",
            "_model_module_version": "1.5.0",
            "_model_name": "ProgressStyleModel",
            "_view_count": null,
            "_view_module": "@jupyter-widgets/base",
            "_view_module_version": "1.2.0",
            "_view_name": "StyleView",
            "bar_color": null,
            "description_width": ""
          }
        },
        "cc4a9e3d06e54d589390eaebef4bd6cd": {
          "model_module": "@jupyter-widgets/base",
          "model_name": "LayoutModel",
          "model_module_version": "1.2.0",
          "state": {
            "_model_module": "@jupyter-widgets/base",
            "_model_module_version": "1.2.0",
            "_model_name": "LayoutModel",
            "_view_count": null,
            "_view_module": "@jupyter-widgets/base",
            "_view_module_version": "1.2.0",
            "_view_name": "LayoutView",
            "align_content": null,
            "align_items": null,
            "align_self": null,
            "border": null,
            "bottom": null,
            "display": null,
            "flex": null,
            "flex_flow": null,
            "grid_area": null,
            "grid_auto_columns": null,
            "grid_auto_flow": null,
            "grid_auto_rows": null,
            "grid_column": null,
            "grid_gap": null,
            "grid_row": null,
            "grid_template_areas": null,
            "grid_template_columns": null,
            "grid_template_rows": null,
            "height": null,
            "justify_content": null,
            "justify_items": null,
            "left": null,
            "margin": null,
            "max_height": null,
            "max_width": null,
            "min_height": null,
            "min_width": null,
            "object_fit": null,
            "object_position": null,
            "order": null,
            "overflow": null,
            "overflow_x": null,
            "overflow_y": null,
            "padding": null,
            "right": null,
            "top": null,
            "visibility": null,
            "width": null
          }
        },
        "204c6db4f5874ac3bed164a93bcb601e": {
          "model_module": "@jupyter-widgets/controls",
          "model_name": "DescriptionStyleModel",
          "model_module_version": "1.5.0",
          "state": {
            "_model_module": "@jupyter-widgets/controls",
            "_model_module_version": "1.5.0",
            "_model_name": "DescriptionStyleModel",
            "_view_count": null,
            "_view_module": "@jupyter-widgets/base",
            "_view_module_version": "1.2.0",
            "_view_name": "StyleView",
            "description_width": ""
          }
        },
        "debd1c5a3b444f3d8ff76869746343d5": {
          "model_module": "@jupyter-widgets/controls",
          "model_name": "HBoxModel",
          "model_module_version": "1.5.0",
          "state": {
            "_dom_classes": [],
            "_model_module": "@jupyter-widgets/controls",
            "_model_module_version": "1.5.0",
            "_model_name": "HBoxModel",
            "_view_count": null,
            "_view_module": "@jupyter-widgets/controls",
            "_view_module_version": "1.5.0",
            "_view_name": "HBoxView",
            "box_style": "",
            "children": [
              "IPY_MODEL_e6493e278cb1466f929b8ba8a366e7ea",
              "IPY_MODEL_096b1c20548a4cacbcb3ea613d4aa945",
              "IPY_MODEL_a6f4e347f94041ddb9d9faf59ecabd3b"
            ],
            "layout": "IPY_MODEL_1f42bf30f7974893a8abc8bcef602411"
          }
        },
        "e6493e278cb1466f929b8ba8a366e7ea": {
          "model_module": "@jupyter-widgets/controls",
          "model_name": "HTMLModel",
          "model_module_version": "1.5.0",
          "state": {
            "_dom_classes": [],
            "_model_module": "@jupyter-widgets/controls",
            "_model_module_version": "1.5.0",
            "_model_name": "HTMLModel",
            "_view_count": null,
            "_view_module": "@jupyter-widgets/controls",
            "_view_module_version": "1.5.0",
            "_view_name": "HTMLView",
            "description": "",
            "description_tooltip": null,
            "layout": "IPY_MODEL_fdb6978f7ac84f718e62048ceb4405bb",
            "placeholder": "​",
            "style": "IPY_MODEL_af3a35cc608a489fa8b799c168439d0a",
            "value": "Downloading: 100%"
          }
        },
        "096b1c20548a4cacbcb3ea613d4aa945": {
          "model_module": "@jupyter-widgets/controls",
          "model_name": "FloatProgressModel",
          "model_module_version": "1.5.0",
          "state": {
            "_dom_classes": [],
            "_model_module": "@jupyter-widgets/controls",
            "_model_module_version": "1.5.0",
            "_model_name": "FloatProgressModel",
            "_view_count": null,
            "_view_module": "@jupyter-widgets/controls",
            "_view_module_version": "1.5.0",
            "_view_name": "ProgressView",
            "bar_style": "success",
            "description": "",
            "description_tooltip": null,
            "layout": "IPY_MODEL_1112ef19767642538db7df5cbfc676de",
            "max": 190,
            "min": 0,
            "orientation": "horizontal",
            "style": "IPY_MODEL_3bd86899e2dc466cae895b2b541fb4ac",
            "value": 190
          }
        },
        "a6f4e347f94041ddb9d9faf59ecabd3b": {
          "model_module": "@jupyter-widgets/controls",
          "model_name": "HTMLModel",
          "model_module_version": "1.5.0",
          "state": {
            "_dom_classes": [],
            "_model_module": "@jupyter-widgets/controls",
            "_model_module_version": "1.5.0",
            "_model_name": "HTMLModel",
            "_view_count": null,
            "_view_module": "@jupyter-widgets/controls",
            "_view_module_version": "1.5.0",
            "_view_name": "HTMLView",
            "description": "",
            "description_tooltip": null,
            "layout": "IPY_MODEL_8ae583ca5c82408c9b0d3cade84aca89",
            "placeholder": "​",
            "style": "IPY_MODEL_1999e92e1de64fe9912d71bde0a92326",
            "value": " 190/190 [00:00&lt;00:00, 5.18kB/s]"
          }
        },
        "1f42bf30f7974893a8abc8bcef602411": {
          "model_module": "@jupyter-widgets/base",
          "model_name": "LayoutModel",
          "model_module_version": "1.2.0",
          "state": {
            "_model_module": "@jupyter-widgets/base",
            "_model_module_version": "1.2.0",
            "_model_name": "LayoutModel",
            "_view_count": null,
            "_view_module": "@jupyter-widgets/base",
            "_view_module_version": "1.2.0",
            "_view_name": "LayoutView",
            "align_content": null,
            "align_items": null,
            "align_self": null,
            "border": null,
            "bottom": null,
            "display": null,
            "flex": null,
            "flex_flow": null,
            "grid_area": null,
            "grid_auto_columns": null,
            "grid_auto_flow": null,
            "grid_auto_rows": null,
            "grid_column": null,
            "grid_gap": null,
            "grid_row": null,
            "grid_template_areas": null,
            "grid_template_columns": null,
            "grid_template_rows": null,
            "height": null,
            "justify_content": null,
            "justify_items": null,
            "left": null,
            "margin": null,
            "max_height": null,
            "max_width": null,
            "min_height": null,
            "min_width": null,
            "object_fit": null,
            "object_position": null,
            "order": null,
            "overflow": null,
            "overflow_x": null,
            "overflow_y": null,
            "padding": null,
            "right": null,
            "top": null,
            "visibility": null,
            "width": null
          }
        },
        "fdb6978f7ac84f718e62048ceb4405bb": {
          "model_module": "@jupyter-widgets/base",
          "model_name": "LayoutModel",
          "model_module_version": "1.2.0",
          "state": {
            "_model_module": "@jupyter-widgets/base",
            "_model_module_version": "1.2.0",
            "_model_name": "LayoutModel",
            "_view_count": null,
            "_view_module": "@jupyter-widgets/base",
            "_view_module_version": "1.2.0",
            "_view_name": "LayoutView",
            "align_content": null,
            "align_items": null,
            "align_self": null,
            "border": null,
            "bottom": null,
            "display": null,
            "flex": null,
            "flex_flow": null,
            "grid_area": null,
            "grid_auto_columns": null,
            "grid_auto_flow": null,
            "grid_auto_rows": null,
            "grid_column": null,
            "grid_gap": null,
            "grid_row": null,
            "grid_template_areas": null,
            "grid_template_columns": null,
            "grid_template_rows": null,
            "height": null,
            "justify_content": null,
            "justify_items": null,
            "left": null,
            "margin": null,
            "max_height": null,
            "max_width": null,
            "min_height": null,
            "min_width": null,
            "object_fit": null,
            "object_position": null,
            "order": null,
            "overflow": null,
            "overflow_x": null,
            "overflow_y": null,
            "padding": null,
            "right": null,
            "top": null,
            "visibility": null,
            "width": null
          }
        },
        "af3a35cc608a489fa8b799c168439d0a": {
          "model_module": "@jupyter-widgets/controls",
          "model_name": "DescriptionStyleModel",
          "model_module_version": "1.5.0",
          "state": {
            "_model_module": "@jupyter-widgets/controls",
            "_model_module_version": "1.5.0",
            "_model_name": "DescriptionStyleModel",
            "_view_count": null,
            "_view_module": "@jupyter-widgets/base",
            "_view_module_version": "1.2.0",
            "_view_name": "StyleView",
            "description_width": ""
          }
        },
        "1112ef19767642538db7df5cbfc676de": {
          "model_module": "@jupyter-widgets/base",
          "model_name": "LayoutModel",
          "model_module_version": "1.2.0",
          "state": {
            "_model_module": "@jupyter-widgets/base",
            "_model_module_version": "1.2.0",
            "_model_name": "LayoutModel",
            "_view_count": null,
            "_view_module": "@jupyter-widgets/base",
            "_view_module_version": "1.2.0",
            "_view_name": "LayoutView",
            "align_content": null,
            "align_items": null,
            "align_self": null,
            "border": null,
            "bottom": null,
            "display": null,
            "flex": null,
            "flex_flow": null,
            "grid_area": null,
            "grid_auto_columns": null,
            "grid_auto_flow": null,
            "grid_auto_rows": null,
            "grid_column": null,
            "grid_gap": null,
            "grid_row": null,
            "grid_template_areas": null,
            "grid_template_columns": null,
            "grid_template_rows": null,
            "height": null,
            "justify_content": null,
            "justify_items": null,
            "left": null,
            "margin": null,
            "max_height": null,
            "max_width": null,
            "min_height": null,
            "min_width": null,
            "object_fit": null,
            "object_position": null,
            "order": null,
            "overflow": null,
            "overflow_x": null,
            "overflow_y": null,
            "padding": null,
            "right": null,
            "top": null,
            "visibility": null,
            "width": null
          }
        },
        "3bd86899e2dc466cae895b2b541fb4ac": {
          "model_module": "@jupyter-widgets/controls",
          "model_name": "ProgressStyleModel",
          "model_module_version": "1.5.0",
          "state": {
            "_model_module": "@jupyter-widgets/controls",
            "_model_module_version": "1.5.0",
            "_model_name": "ProgressStyleModel",
            "_view_count": null,
            "_view_module": "@jupyter-widgets/base",
            "_view_module_version": "1.2.0",
            "_view_name": "StyleView",
            "bar_color": null,
            "description_width": ""
          }
        },
        "8ae583ca5c82408c9b0d3cade84aca89": {
          "model_module": "@jupyter-widgets/base",
          "model_name": "LayoutModel",
          "model_module_version": "1.2.0",
          "state": {
            "_model_module": "@jupyter-widgets/base",
            "_model_module_version": "1.2.0",
            "_model_name": "LayoutModel",
            "_view_count": null,
            "_view_module": "@jupyter-widgets/base",
            "_view_module_version": "1.2.0",
            "_view_name": "LayoutView",
            "align_content": null,
            "align_items": null,
            "align_self": null,
            "border": null,
            "bottom": null,
            "display": null,
            "flex": null,
            "flex_flow": null,
            "grid_area": null,
            "grid_auto_columns": null,
            "grid_auto_flow": null,
            "grid_auto_rows": null,
            "grid_column": null,
            "grid_gap": null,
            "grid_row": null,
            "grid_template_areas": null,
            "grid_template_columns": null,
            "grid_template_rows": null,
            "height": null,
            "justify_content": null,
            "justify_items": null,
            "left": null,
            "margin": null,
            "max_height": null,
            "max_width": null,
            "min_height": null,
            "min_width": null,
            "object_fit": null,
            "object_position": null,
            "order": null,
            "overflow": null,
            "overflow_x": null,
            "overflow_y": null,
            "padding": null,
            "right": null,
            "top": null,
            "visibility": null,
            "width": null
          }
        },
        "1999e92e1de64fe9912d71bde0a92326": {
          "model_module": "@jupyter-widgets/controls",
          "model_name": "DescriptionStyleModel",
          "model_module_version": "1.5.0",
          "state": {
            "_model_module": "@jupyter-widgets/controls",
            "_model_module_version": "1.5.0",
            "_model_name": "DescriptionStyleModel",
            "_view_count": null,
            "_view_module": "@jupyter-widgets/base",
            "_view_module_version": "1.2.0",
            "_view_name": "StyleView",
            "description_width": ""
          }
        },
        "6612035ec4a641a09b2f6f18b05f3bdd": {
          "model_module": "@jupyter-widgets/controls",
          "model_name": "HBoxModel",
          "model_module_version": "1.5.0",
          "state": {
            "_dom_classes": [],
            "_model_module": "@jupyter-widgets/controls",
            "_model_module_version": "1.5.0",
            "_model_name": "HBoxModel",
            "_view_count": null,
            "_view_module": "@jupyter-widgets/controls",
            "_view_module_version": "1.5.0",
            "_view_name": "HBoxView",
            "box_style": "",
            "children": [
              "IPY_MODEL_a35d3245f9e44ba0ab010129c79e83a7",
              "IPY_MODEL_b4dc5bdfd52e48b7bebf20431b241388",
              "IPY_MODEL_2845a0b809454f47a607e09184d6894b"
            ],
            "layout": "IPY_MODEL_e6fd999f800745b7a3b60636b171fafb"
          }
        },
        "a35d3245f9e44ba0ab010129c79e83a7": {
          "model_module": "@jupyter-widgets/controls",
          "model_name": "HTMLModel",
          "model_module_version": "1.5.0",
          "state": {
            "_dom_classes": [],
            "_model_module": "@jupyter-widgets/controls",
            "_model_module_version": "1.5.0",
            "_model_name": "HTMLModel",
            "_view_count": null,
            "_view_module": "@jupyter-widgets/controls",
            "_view_module_version": "1.5.0",
            "_view_name": "HTMLView",
            "description": "",
            "description_tooltip": null,
            "layout": "IPY_MODEL_4847455fed704122ac9f34cf25603841",
            "placeholder": "​",
            "style": "IPY_MODEL_a6d25097142e4e31b3c7fdbd61267a06",
            "value": "Downloading: 100%"
          }
        },
        "b4dc5bdfd52e48b7bebf20431b241388": {
          "model_module": "@jupyter-widgets/controls",
          "model_name": "FloatProgressModel",
          "model_module_version": "1.5.0",
          "state": {
            "_dom_classes": [],
            "_model_module": "@jupyter-widgets/controls",
            "_model_module_version": "1.5.0",
            "_model_name": "FloatProgressModel",
            "_view_count": null,
            "_view_module": "@jupyter-widgets/controls",
            "_view_module_version": "1.5.0",
            "_view_name": "ProgressView",
            "bar_style": "success",
            "description": "",
            "description_tooltip": null,
            "layout": "IPY_MODEL_22b4a5de14524180b4dc5c1b8857ccbb",
            "max": 10610,
            "min": 0,
            "orientation": "horizontal",
            "style": "IPY_MODEL_57b0d9c98dda4067ac6bd9ea3b952c8a",
            "value": 10610
          }
        },
        "2845a0b809454f47a607e09184d6894b": {
          "model_module": "@jupyter-widgets/controls",
          "model_name": "HTMLModel",
          "model_module_version": "1.5.0",
          "state": {
            "_dom_classes": [],
            "_model_module": "@jupyter-widgets/controls",
            "_model_module_version": "1.5.0",
            "_model_name": "HTMLModel",
            "_view_count": null,
            "_view_module": "@jupyter-widgets/controls",
            "_view_module_version": "1.5.0",
            "_view_name": "HTMLView",
            "description": "",
            "description_tooltip": null,
            "layout": "IPY_MODEL_f6fafc3b7cee49c781c06e3b79246b5d",
            "placeholder": "​",
            "style": "IPY_MODEL_b9cacabc3f974797a8f5b31ee923fd50",
            "value": " 10.6k/10.6k [00:00&lt;00:00, 227kB/s]"
          }
        },
        "e6fd999f800745b7a3b60636b171fafb": {
          "model_module": "@jupyter-widgets/base",
          "model_name": "LayoutModel",
          "model_module_version": "1.2.0",
          "state": {
            "_model_module": "@jupyter-widgets/base",
            "_model_module_version": "1.2.0",
            "_model_name": "LayoutModel",
            "_view_count": null,
            "_view_module": "@jupyter-widgets/base",
            "_view_module_version": "1.2.0",
            "_view_name": "LayoutView",
            "align_content": null,
            "align_items": null,
            "align_self": null,
            "border": null,
            "bottom": null,
            "display": null,
            "flex": null,
            "flex_flow": null,
            "grid_area": null,
            "grid_auto_columns": null,
            "grid_auto_flow": null,
            "grid_auto_rows": null,
            "grid_column": null,
            "grid_gap": null,
            "grid_row": null,
            "grid_template_areas": null,
            "grid_template_columns": null,
            "grid_template_rows": null,
            "height": null,
            "justify_content": null,
            "justify_items": null,
            "left": null,
            "margin": null,
            "max_height": null,
            "max_width": null,
            "min_height": null,
            "min_width": null,
            "object_fit": null,
            "object_position": null,
            "order": null,
            "overflow": null,
            "overflow_x": null,
            "overflow_y": null,
            "padding": null,
            "right": null,
            "top": null,
            "visibility": null,
            "width": null
          }
        },
        "4847455fed704122ac9f34cf25603841": {
          "model_module": "@jupyter-widgets/base",
          "model_name": "LayoutModel",
          "model_module_version": "1.2.0",
          "state": {
            "_model_module": "@jupyter-widgets/base",
            "_model_module_version": "1.2.0",
            "_model_name": "LayoutModel",
            "_view_count": null,
            "_view_module": "@jupyter-widgets/base",
            "_view_module_version": "1.2.0",
            "_view_name": "LayoutView",
            "align_content": null,
            "align_items": null,
            "align_self": null,
            "border": null,
            "bottom": null,
            "display": null,
            "flex": null,
            "flex_flow": null,
            "grid_area": null,
            "grid_auto_columns": null,
            "grid_auto_flow": null,
            "grid_auto_rows": null,
            "grid_column": null,
            "grid_gap": null,
            "grid_row": null,
            "grid_template_areas": null,
            "grid_template_columns": null,
            "grid_template_rows": null,
            "height": null,
            "justify_content": null,
            "justify_items": null,
            "left": null,
            "margin": null,
            "max_height": null,
            "max_width": null,
            "min_height": null,
            "min_width": null,
            "object_fit": null,
            "object_position": null,
            "order": null,
            "overflow": null,
            "overflow_x": null,
            "overflow_y": null,
            "padding": null,
            "right": null,
            "top": null,
            "visibility": null,
            "width": null
          }
        },
        "a6d25097142e4e31b3c7fdbd61267a06": {
          "model_module": "@jupyter-widgets/controls",
          "model_name": "DescriptionStyleModel",
          "model_module_version": "1.5.0",
          "state": {
            "_model_module": "@jupyter-widgets/controls",
            "_model_module_version": "1.5.0",
            "_model_name": "DescriptionStyleModel",
            "_view_count": null,
            "_view_module": "@jupyter-widgets/base",
            "_view_module_version": "1.2.0",
            "_view_name": "StyleView",
            "description_width": ""
          }
        },
        "22b4a5de14524180b4dc5c1b8857ccbb": {
          "model_module": "@jupyter-widgets/base",
          "model_name": "LayoutModel",
          "model_module_version": "1.2.0",
          "state": {
            "_model_module": "@jupyter-widgets/base",
            "_model_module_version": "1.2.0",
            "_model_name": "LayoutModel",
            "_view_count": null,
            "_view_module": "@jupyter-widgets/base",
            "_view_module_version": "1.2.0",
            "_view_name": "LayoutView",
            "align_content": null,
            "align_items": null,
            "align_self": null,
            "border": null,
            "bottom": null,
            "display": null,
            "flex": null,
            "flex_flow": null,
            "grid_area": null,
            "grid_auto_columns": null,
            "grid_auto_flow": null,
            "grid_auto_rows": null,
            "grid_column": null,
            "grid_gap": null,
            "grid_row": null,
            "grid_template_areas": null,
            "grid_template_columns": null,
            "grid_template_rows": null,
            "height": null,
            "justify_content": null,
            "justify_items": null,
            "left": null,
            "margin": null,
            "max_height": null,
            "max_width": null,
            "min_height": null,
            "min_width": null,
            "object_fit": null,
            "object_position": null,
            "order": null,
            "overflow": null,
            "overflow_x": null,
            "overflow_y": null,
            "padding": null,
            "right": null,
            "top": null,
            "visibility": null,
            "width": null
          }
        },
        "57b0d9c98dda4067ac6bd9ea3b952c8a": {
          "model_module": "@jupyter-widgets/controls",
          "model_name": "ProgressStyleModel",
          "model_module_version": "1.5.0",
          "state": {
            "_model_module": "@jupyter-widgets/controls",
            "_model_module_version": "1.5.0",
            "_model_name": "ProgressStyleModel",
            "_view_count": null,
            "_view_module": "@jupyter-widgets/base",
            "_view_module_version": "1.2.0",
            "_view_name": "StyleView",
            "bar_color": null,
            "description_width": ""
          }
        },
        "f6fafc3b7cee49c781c06e3b79246b5d": {
          "model_module": "@jupyter-widgets/base",
          "model_name": "LayoutModel",
          "model_module_version": "1.2.0",
          "state": {
            "_model_module": "@jupyter-widgets/base",
            "_model_module_version": "1.2.0",
            "_model_name": "LayoutModel",
            "_view_count": null,
            "_view_module": "@jupyter-widgets/base",
            "_view_module_version": "1.2.0",
            "_view_name": "LayoutView",
            "align_content": null,
            "align_items": null,
            "align_self": null,
            "border": null,
            "bottom": null,
            "display": null,
            "flex": null,
            "flex_flow": null,
            "grid_area": null,
            "grid_auto_columns": null,
            "grid_auto_flow": null,
            "grid_auto_rows": null,
            "grid_column": null,
            "grid_gap": null,
            "grid_row": null,
            "grid_template_areas": null,
            "grid_template_columns": null,
            "grid_template_rows": null,
            "height": null,
            "justify_content": null,
            "justify_items": null,
            "left": null,
            "margin": null,
            "max_height": null,
            "max_width": null,
            "min_height": null,
            "min_width": null,
            "object_fit": null,
            "object_position": null,
            "order": null,
            "overflow": null,
            "overflow_x": null,
            "overflow_y": null,
            "padding": null,
            "right": null,
            "top": null,
            "visibility": null,
            "width": null
          }
        },
        "b9cacabc3f974797a8f5b31ee923fd50": {
          "model_module": "@jupyter-widgets/controls",
          "model_name": "DescriptionStyleModel",
          "model_module_version": "1.5.0",
          "state": {
            "_model_module": "@jupyter-widgets/controls",
            "_model_module_version": "1.5.0",
            "_model_name": "DescriptionStyleModel",
            "_view_count": null,
            "_view_module": "@jupyter-widgets/base",
            "_view_module_version": "1.2.0",
            "_view_name": "StyleView",
            "description_width": ""
          }
        },
        "22db96ef91d8437baf29973ca6b89c92": {
          "model_module": "@jupyter-widgets/controls",
          "model_name": "HBoxModel",
          "model_module_version": "1.5.0",
          "state": {
            "_dom_classes": [],
            "_model_module": "@jupyter-widgets/controls",
            "_model_module_version": "1.5.0",
            "_model_name": "HBoxModel",
            "_view_count": null,
            "_view_module": "@jupyter-widgets/controls",
            "_view_module_version": "1.5.0",
            "_view_name": "HBoxView",
            "box_style": "",
            "children": [
              "IPY_MODEL_60f15d4490534da5bc5dbd8724a3cb2b",
              "IPY_MODEL_603ffb33e0f2429185b7c408fb790c42",
              "IPY_MODEL_bdb1b162abba4721b30cf63711add26f"
            ],
            "layout": "IPY_MODEL_d93866e2b45d4f05af7443b7ce188641"
          }
        },
        "60f15d4490534da5bc5dbd8724a3cb2b": {
          "model_module": "@jupyter-widgets/controls",
          "model_name": "HTMLModel",
          "model_module_version": "1.5.0",
          "state": {
            "_dom_classes": [],
            "_model_module": "@jupyter-widgets/controls",
            "_model_module_version": "1.5.0",
            "_model_name": "HTMLModel",
            "_view_count": null,
            "_view_module": "@jupyter-widgets/controls",
            "_view_module_version": "1.5.0",
            "_view_name": "HTMLView",
            "description": "",
            "description_tooltip": null,
            "layout": "IPY_MODEL_914203d3deaf4ed099dcf970bf2a5b66",
            "placeholder": "​",
            "style": "IPY_MODEL_ad59bc682dd74f3294d775381fdddc0f",
            "value": "Downloading: 100%"
          }
        },
        "603ffb33e0f2429185b7c408fb790c42": {
          "model_module": "@jupyter-widgets/controls",
          "model_name": "FloatProgressModel",
          "model_module_version": "1.5.0",
          "state": {
            "_dom_classes": [],
            "_model_module": "@jupyter-widgets/controls",
            "_model_module_version": "1.5.0",
            "_model_name": "FloatProgressModel",
            "_view_count": null,
            "_view_module": "@jupyter-widgets/controls",
            "_view_module_version": "1.5.0",
            "_view_name": "ProgressView",
            "bar_style": "success",
            "description": "",
            "description_tooltip": null,
            "layout": "IPY_MODEL_6fbba9ff96c04d0d9bdf32dd496d14f0",
            "max": 612,
            "min": 0,
            "orientation": "horizontal",
            "style": "IPY_MODEL_76fb6e33244e4318b6e00194bbec5143",
            "value": 612
          }
        },
        "bdb1b162abba4721b30cf63711add26f": {
          "model_module": "@jupyter-widgets/controls",
          "model_name": "HTMLModel",
          "model_module_version": "1.5.0",
          "state": {
            "_dom_classes": [],
            "_model_module": "@jupyter-widgets/controls",
            "_model_module_version": "1.5.0",
            "_model_name": "HTMLModel",
            "_view_count": null,
            "_view_module": "@jupyter-widgets/controls",
            "_view_module_version": "1.5.0",
            "_view_name": "HTMLView",
            "description": "",
            "description_tooltip": null,
            "layout": "IPY_MODEL_f9055c48eade4cd2acaf01fb454adb9c",
            "placeholder": "​",
            "style": "IPY_MODEL_398a05aaffef48cca103a50526607d63",
            "value": " 612/612 [00:00&lt;00:00, 18.7kB/s]"
          }
        },
        "d93866e2b45d4f05af7443b7ce188641": {
          "model_module": "@jupyter-widgets/base",
          "model_name": "LayoutModel",
          "model_module_version": "1.2.0",
          "state": {
            "_model_module": "@jupyter-widgets/base",
            "_model_module_version": "1.2.0",
            "_model_name": "LayoutModel",
            "_view_count": null,
            "_view_module": "@jupyter-widgets/base",
            "_view_module_version": "1.2.0",
            "_view_name": "LayoutView",
            "align_content": null,
            "align_items": null,
            "align_self": null,
            "border": null,
            "bottom": null,
            "display": null,
            "flex": null,
            "flex_flow": null,
            "grid_area": null,
            "grid_auto_columns": null,
            "grid_auto_flow": null,
            "grid_auto_rows": null,
            "grid_column": null,
            "grid_gap": null,
            "grid_row": null,
            "grid_template_areas": null,
            "grid_template_columns": null,
            "grid_template_rows": null,
            "height": null,
            "justify_content": null,
            "justify_items": null,
            "left": null,
            "margin": null,
            "max_height": null,
            "max_width": null,
            "min_height": null,
            "min_width": null,
            "object_fit": null,
            "object_position": null,
            "order": null,
            "overflow": null,
            "overflow_x": null,
            "overflow_y": null,
            "padding": null,
            "right": null,
            "top": null,
            "visibility": null,
            "width": null
          }
        },
        "914203d3deaf4ed099dcf970bf2a5b66": {
          "model_module": "@jupyter-widgets/base",
          "model_name": "LayoutModel",
          "model_module_version": "1.2.0",
          "state": {
            "_model_module": "@jupyter-widgets/base",
            "_model_module_version": "1.2.0",
            "_model_name": "LayoutModel",
            "_view_count": null,
            "_view_module": "@jupyter-widgets/base",
            "_view_module_version": "1.2.0",
            "_view_name": "LayoutView",
            "align_content": null,
            "align_items": null,
            "align_self": null,
            "border": null,
            "bottom": null,
            "display": null,
            "flex": null,
            "flex_flow": null,
            "grid_area": null,
            "grid_auto_columns": null,
            "grid_auto_flow": null,
            "grid_auto_rows": null,
            "grid_column": null,
            "grid_gap": null,
            "grid_row": null,
            "grid_template_areas": null,
            "grid_template_columns": null,
            "grid_template_rows": null,
            "height": null,
            "justify_content": null,
            "justify_items": null,
            "left": null,
            "margin": null,
            "max_height": null,
            "max_width": null,
            "min_height": null,
            "min_width": null,
            "object_fit": null,
            "object_position": null,
            "order": null,
            "overflow": null,
            "overflow_x": null,
            "overflow_y": null,
            "padding": null,
            "right": null,
            "top": null,
            "visibility": null,
            "width": null
          }
        },
        "ad59bc682dd74f3294d775381fdddc0f": {
          "model_module": "@jupyter-widgets/controls",
          "model_name": "DescriptionStyleModel",
          "model_module_version": "1.5.0",
          "state": {
            "_model_module": "@jupyter-widgets/controls",
            "_model_module_version": "1.5.0",
            "_model_name": "DescriptionStyleModel",
            "_view_count": null,
            "_view_module": "@jupyter-widgets/base",
            "_view_module_version": "1.2.0",
            "_view_name": "StyleView",
            "description_width": ""
          }
        },
        "6fbba9ff96c04d0d9bdf32dd496d14f0": {
          "model_module": "@jupyter-widgets/base",
          "model_name": "LayoutModel",
          "model_module_version": "1.2.0",
          "state": {
            "_model_module": "@jupyter-widgets/base",
            "_model_module_version": "1.2.0",
            "_model_name": "LayoutModel",
            "_view_count": null,
            "_view_module": "@jupyter-widgets/base",
            "_view_module_version": "1.2.0",
            "_view_name": "LayoutView",
            "align_content": null,
            "align_items": null,
            "align_self": null,
            "border": null,
            "bottom": null,
            "display": null,
            "flex": null,
            "flex_flow": null,
            "grid_area": null,
            "grid_auto_columns": null,
            "grid_auto_flow": null,
            "grid_auto_rows": null,
            "grid_column": null,
            "grid_gap": null,
            "grid_row": null,
            "grid_template_areas": null,
            "grid_template_columns": null,
            "grid_template_rows": null,
            "height": null,
            "justify_content": null,
            "justify_items": null,
            "left": null,
            "margin": null,
            "max_height": null,
            "max_width": null,
            "min_height": null,
            "min_width": null,
            "object_fit": null,
            "object_position": null,
            "order": null,
            "overflow": null,
            "overflow_x": null,
            "overflow_y": null,
            "padding": null,
            "right": null,
            "top": null,
            "visibility": null,
            "width": null
          }
        },
        "76fb6e33244e4318b6e00194bbec5143": {
          "model_module": "@jupyter-widgets/controls",
          "model_name": "ProgressStyleModel",
          "model_module_version": "1.5.0",
          "state": {
            "_model_module": "@jupyter-widgets/controls",
            "_model_module_version": "1.5.0",
            "_model_name": "ProgressStyleModel",
            "_view_count": null,
            "_view_module": "@jupyter-widgets/base",
            "_view_module_version": "1.2.0",
            "_view_name": "StyleView",
            "bar_color": null,
            "description_width": ""
          }
        },
        "f9055c48eade4cd2acaf01fb454adb9c": {
          "model_module": "@jupyter-widgets/base",
          "model_name": "LayoutModel",
          "model_module_version": "1.2.0",
          "state": {
            "_model_module": "@jupyter-widgets/base",
            "_model_module_version": "1.2.0",
            "_model_name": "LayoutModel",
            "_view_count": null,
            "_view_module": "@jupyter-widgets/base",
            "_view_module_version": "1.2.0",
            "_view_name": "LayoutView",
            "align_content": null,
            "align_items": null,
            "align_self": null,
            "border": null,
            "bottom": null,
            "display": null,
            "flex": null,
            "flex_flow": null,
            "grid_area": null,
            "grid_auto_columns": null,
            "grid_auto_flow": null,
            "grid_auto_rows": null,
            "grid_column": null,
            "grid_gap": null,
            "grid_row": null,
            "grid_template_areas": null,
            "grid_template_columns": null,
            "grid_template_rows": null,
            "height": null,
            "justify_content": null,
            "justify_items": null,
            "left": null,
            "margin": null,
            "max_height": null,
            "max_width": null,
            "min_height": null,
            "min_width": null,
            "object_fit": null,
            "object_position": null,
            "order": null,
            "overflow": null,
            "overflow_x": null,
            "overflow_y": null,
            "padding": null,
            "right": null,
            "top": null,
            "visibility": null,
            "width": null
          }
        },
        "398a05aaffef48cca103a50526607d63": {
          "model_module": "@jupyter-widgets/controls",
          "model_name": "DescriptionStyleModel",
          "model_module_version": "1.5.0",
          "state": {
            "_model_module": "@jupyter-widgets/controls",
            "_model_module_version": "1.5.0",
            "_model_name": "DescriptionStyleModel",
            "_view_count": null,
            "_view_module": "@jupyter-widgets/base",
            "_view_module_version": "1.2.0",
            "_view_name": "StyleView",
            "description_width": ""
          }
        },
        "e60b99cecb2c4b9bb4d4ce67abc6d7c1": {
          "model_module": "@jupyter-widgets/controls",
          "model_name": "HBoxModel",
          "model_module_version": "1.5.0",
          "state": {
            "_dom_classes": [],
            "_model_module": "@jupyter-widgets/controls",
            "_model_module_version": "1.5.0",
            "_model_name": "HBoxModel",
            "_view_count": null,
            "_view_module": "@jupyter-widgets/controls",
            "_view_module_version": "1.5.0",
            "_view_name": "HBoxView",
            "box_style": "",
            "children": [
              "IPY_MODEL_1c534fa69d614e83b9a271b7ae67cb94",
              "IPY_MODEL_4d74c83935e04d64af9f71d98380825c",
              "IPY_MODEL_8a626703b9c344c0affdb7a5c9713bfc"
            ],
            "layout": "IPY_MODEL_bd70823b1a354b1483490f31a5e84dc3"
          }
        },
        "1c534fa69d614e83b9a271b7ae67cb94": {
          "model_module": "@jupyter-widgets/controls",
          "model_name": "HTMLModel",
          "model_module_version": "1.5.0",
          "state": {
            "_dom_classes": [],
            "_model_module": "@jupyter-widgets/controls",
            "_model_module_version": "1.5.0",
            "_model_name": "HTMLModel",
            "_view_count": null,
            "_view_module": "@jupyter-widgets/controls",
            "_view_module_version": "1.5.0",
            "_view_name": "HTMLView",
            "description": "",
            "description_tooltip": null,
            "layout": "IPY_MODEL_1ce5365da2d7489bab299fa38cb398d5",
            "placeholder": "​",
            "style": "IPY_MODEL_efa0168f6f0a4bc0bd516a667f8e6f62",
            "value": "Downloading: 100%"
          }
        },
        "4d74c83935e04d64af9f71d98380825c": {
          "model_module": "@jupyter-widgets/controls",
          "model_name": "FloatProgressModel",
          "model_module_version": "1.5.0",
          "state": {
            "_dom_classes": [],
            "_model_module": "@jupyter-widgets/controls",
            "_model_module_version": "1.5.0",
            "_model_name": "FloatProgressModel",
            "_view_count": null,
            "_view_module": "@jupyter-widgets/controls",
            "_view_module_version": "1.5.0",
            "_view_name": "ProgressView",
            "bar_style": "success",
            "description": "",
            "description_tooltip": null,
            "layout": "IPY_MODEL_1587cfc9ed68432daa0c5015aa2d5abe",
            "max": 116,
            "min": 0,
            "orientation": "horizontal",
            "style": "IPY_MODEL_abab70a478344c9da0cabbd3b4dd2da9",
            "value": 116
          }
        },
        "8a626703b9c344c0affdb7a5c9713bfc": {
          "model_module": "@jupyter-widgets/controls",
          "model_name": "HTMLModel",
          "model_module_version": "1.5.0",
          "state": {
            "_dom_classes": [],
            "_model_module": "@jupyter-widgets/controls",
            "_model_module_version": "1.5.0",
            "_model_name": "HTMLModel",
            "_view_count": null,
            "_view_module": "@jupyter-widgets/controls",
            "_view_module_version": "1.5.0",
            "_view_name": "HTMLView",
            "description": "",
            "description_tooltip": null,
            "layout": "IPY_MODEL_a582b16ca114409da15606d5d5a35acc",
            "placeholder": "​",
            "style": "IPY_MODEL_440c751a32a84865be3692df8666ed3a",
            "value": " 116/116 [00:00&lt;00:00, 2.98kB/s]"
          }
        },
        "bd70823b1a354b1483490f31a5e84dc3": {
          "model_module": "@jupyter-widgets/base",
          "model_name": "LayoutModel",
          "model_module_version": "1.2.0",
          "state": {
            "_model_module": "@jupyter-widgets/base",
            "_model_module_version": "1.2.0",
            "_model_name": "LayoutModel",
            "_view_count": null,
            "_view_module": "@jupyter-widgets/base",
            "_view_module_version": "1.2.0",
            "_view_name": "LayoutView",
            "align_content": null,
            "align_items": null,
            "align_self": null,
            "border": null,
            "bottom": null,
            "display": null,
            "flex": null,
            "flex_flow": null,
            "grid_area": null,
            "grid_auto_columns": null,
            "grid_auto_flow": null,
            "grid_auto_rows": null,
            "grid_column": null,
            "grid_gap": null,
            "grid_row": null,
            "grid_template_areas": null,
            "grid_template_columns": null,
            "grid_template_rows": null,
            "height": null,
            "justify_content": null,
            "justify_items": null,
            "left": null,
            "margin": null,
            "max_height": null,
            "max_width": null,
            "min_height": null,
            "min_width": null,
            "object_fit": null,
            "object_position": null,
            "order": null,
            "overflow": null,
            "overflow_x": null,
            "overflow_y": null,
            "padding": null,
            "right": null,
            "top": null,
            "visibility": null,
            "width": null
          }
        },
        "1ce5365da2d7489bab299fa38cb398d5": {
          "model_module": "@jupyter-widgets/base",
          "model_name": "LayoutModel",
          "model_module_version": "1.2.0",
          "state": {
            "_model_module": "@jupyter-widgets/base",
            "_model_module_version": "1.2.0",
            "_model_name": "LayoutModel",
            "_view_count": null,
            "_view_module": "@jupyter-widgets/base",
            "_view_module_version": "1.2.0",
            "_view_name": "LayoutView",
            "align_content": null,
            "align_items": null,
            "align_self": null,
            "border": null,
            "bottom": null,
            "display": null,
            "flex": null,
            "flex_flow": null,
            "grid_area": null,
            "grid_auto_columns": null,
            "grid_auto_flow": null,
            "grid_auto_rows": null,
            "grid_column": null,
            "grid_gap": null,
            "grid_row": null,
            "grid_template_areas": null,
            "grid_template_columns": null,
            "grid_template_rows": null,
            "height": null,
            "justify_content": null,
            "justify_items": null,
            "left": null,
            "margin": null,
            "max_height": null,
            "max_width": null,
            "min_height": null,
            "min_width": null,
            "object_fit": null,
            "object_position": null,
            "order": null,
            "overflow": null,
            "overflow_x": null,
            "overflow_y": null,
            "padding": null,
            "right": null,
            "top": null,
            "visibility": null,
            "width": null
          }
        },
        "efa0168f6f0a4bc0bd516a667f8e6f62": {
          "model_module": "@jupyter-widgets/controls",
          "model_name": "DescriptionStyleModel",
          "model_module_version": "1.5.0",
          "state": {
            "_model_module": "@jupyter-widgets/controls",
            "_model_module_version": "1.5.0",
            "_model_name": "DescriptionStyleModel",
            "_view_count": null,
            "_view_module": "@jupyter-widgets/base",
            "_view_module_version": "1.2.0",
            "_view_name": "StyleView",
            "description_width": ""
          }
        },
        "1587cfc9ed68432daa0c5015aa2d5abe": {
          "model_module": "@jupyter-widgets/base",
          "model_name": "LayoutModel",
          "model_module_version": "1.2.0",
          "state": {
            "_model_module": "@jupyter-widgets/base",
            "_model_module_version": "1.2.0",
            "_model_name": "LayoutModel",
            "_view_count": null,
            "_view_module": "@jupyter-widgets/base",
            "_view_module_version": "1.2.0",
            "_view_name": "LayoutView",
            "align_content": null,
            "align_items": null,
            "align_self": null,
            "border": null,
            "bottom": null,
            "display": null,
            "flex": null,
            "flex_flow": null,
            "grid_area": null,
            "grid_auto_columns": null,
            "grid_auto_flow": null,
            "grid_auto_rows": null,
            "grid_column": null,
            "grid_gap": null,
            "grid_row": null,
            "grid_template_areas": null,
            "grid_template_columns": null,
            "grid_template_rows": null,
            "height": null,
            "justify_content": null,
            "justify_items": null,
            "left": null,
            "margin": null,
            "max_height": null,
            "max_width": null,
            "min_height": null,
            "min_width": null,
            "object_fit": null,
            "object_position": null,
            "order": null,
            "overflow": null,
            "overflow_x": null,
            "overflow_y": null,
            "padding": null,
            "right": null,
            "top": null,
            "visibility": null,
            "width": null
          }
        },
        "abab70a478344c9da0cabbd3b4dd2da9": {
          "model_module": "@jupyter-widgets/controls",
          "model_name": "ProgressStyleModel",
          "model_module_version": "1.5.0",
          "state": {
            "_model_module": "@jupyter-widgets/controls",
            "_model_module_version": "1.5.0",
            "_model_name": "ProgressStyleModel",
            "_view_count": null,
            "_view_module": "@jupyter-widgets/base",
            "_view_module_version": "1.2.0",
            "_view_name": "StyleView",
            "bar_color": null,
            "description_width": ""
          }
        },
        "a582b16ca114409da15606d5d5a35acc": {
          "model_module": "@jupyter-widgets/base",
          "model_name": "LayoutModel",
          "model_module_version": "1.2.0",
          "state": {
            "_model_module": "@jupyter-widgets/base",
            "_model_module_version": "1.2.0",
            "_model_name": "LayoutModel",
            "_view_count": null,
            "_view_module": "@jupyter-widgets/base",
            "_view_module_version": "1.2.0",
            "_view_name": "LayoutView",
            "align_content": null,
            "align_items": null,
            "align_self": null,
            "border": null,
            "bottom": null,
            "display": null,
            "flex": null,
            "flex_flow": null,
            "grid_area": null,
            "grid_auto_columns": null,
            "grid_auto_flow": null,
            "grid_auto_rows": null,
            "grid_column": null,
            "grid_gap": null,
            "grid_row": null,
            "grid_template_areas": null,
            "grid_template_columns": null,
            "grid_template_rows": null,
            "height": null,
            "justify_content": null,
            "justify_items": null,
            "left": null,
            "margin": null,
            "max_height": null,
            "max_width": null,
            "min_height": null,
            "min_width": null,
            "object_fit": null,
            "object_position": null,
            "order": null,
            "overflow": null,
            "overflow_x": null,
            "overflow_y": null,
            "padding": null,
            "right": null,
            "top": null,
            "visibility": null,
            "width": null
          }
        },
        "440c751a32a84865be3692df8666ed3a": {
          "model_module": "@jupyter-widgets/controls",
          "model_name": "DescriptionStyleModel",
          "model_module_version": "1.5.0",
          "state": {
            "_model_module": "@jupyter-widgets/controls",
            "_model_module_version": "1.5.0",
            "_model_name": "DescriptionStyleModel",
            "_view_count": null,
            "_view_module": "@jupyter-widgets/base",
            "_view_module_version": "1.2.0",
            "_view_name": "StyleView",
            "description_width": ""
          }
        },
        "05608889d0074eb6a0aa906e5b85585c": {
          "model_module": "@jupyter-widgets/controls",
          "model_name": "HBoxModel",
          "model_module_version": "1.5.0",
          "state": {
            "_dom_classes": [],
            "_model_module": "@jupyter-widgets/controls",
            "_model_module_version": "1.5.0",
            "_model_name": "HBoxModel",
            "_view_count": null,
            "_view_module": "@jupyter-widgets/controls",
            "_view_module_version": "1.5.0",
            "_view_name": "HBoxView",
            "box_style": "",
            "children": [
              "IPY_MODEL_132bd13c4d9749da897d438e9970f9c9",
              "IPY_MODEL_243059e1d6334fa395e80a0fa7986b6f",
              "IPY_MODEL_60b0dcafc92c4afa9964af85864aa385"
            ],
            "layout": "IPY_MODEL_2ed3fe4b95ad44318776d60bc25f7b0a"
          }
        },
        "132bd13c4d9749da897d438e9970f9c9": {
          "model_module": "@jupyter-widgets/controls",
          "model_name": "HTMLModel",
          "model_module_version": "1.5.0",
          "state": {
            "_dom_classes": [],
            "_model_module": "@jupyter-widgets/controls",
            "_model_module_version": "1.5.0",
            "_model_name": "HTMLModel",
            "_view_count": null,
            "_view_module": "@jupyter-widgets/controls",
            "_view_module_version": "1.5.0",
            "_view_name": "HTMLView",
            "description": "",
            "description_tooltip": null,
            "layout": "IPY_MODEL_12a93514c23548ba8fa3cba1e3f3266e",
            "placeholder": "​",
            "style": "IPY_MODEL_bfb5d8df9c374139bd543630743c0956",
            "value": "Downloading: 100%"
          }
        },
        "243059e1d6334fa395e80a0fa7986b6f": {
          "model_module": "@jupyter-widgets/controls",
          "model_name": "FloatProgressModel",
          "model_module_version": "1.5.0",
          "state": {
            "_dom_classes": [],
            "_model_module": "@jupyter-widgets/controls",
            "_model_module_version": "1.5.0",
            "_model_name": "FloatProgressModel",
            "_view_count": null,
            "_view_module": "@jupyter-widgets/controls",
            "_view_module_version": "1.5.0",
            "_view_name": "ProgressView",
            "bar_style": "success",
            "description": "",
            "description_tooltip": null,
            "layout": "IPY_MODEL_723522d61a294035b1f687f4f5524c6b",
            "max": 39265,
            "min": 0,
            "orientation": "horizontal",
            "style": "IPY_MODEL_36e55f3bc3c54939aaa8e04768d74440",
            "value": 39265
          }
        },
        "60b0dcafc92c4afa9964af85864aa385": {
          "model_module": "@jupyter-widgets/controls",
          "model_name": "HTMLModel",
          "model_module_version": "1.5.0",
          "state": {
            "_dom_classes": [],
            "_model_module": "@jupyter-widgets/controls",
            "_model_module_version": "1.5.0",
            "_model_name": "HTMLModel",
            "_view_count": null,
            "_view_module": "@jupyter-widgets/controls",
            "_view_module_version": "1.5.0",
            "_view_name": "HTMLView",
            "description": "",
            "description_tooltip": null,
            "layout": "IPY_MODEL_863dcfe106454076a911a0971a81dc85",
            "placeholder": "​",
            "style": "IPY_MODEL_574301dcf8c14cfdbe4e16cf08b5e590",
            "value": " 39.3k/39.3k [00:00&lt;00:00, 623kB/s]"
          }
        },
        "2ed3fe4b95ad44318776d60bc25f7b0a": {
          "model_module": "@jupyter-widgets/base",
          "model_name": "LayoutModel",
          "model_module_version": "1.2.0",
          "state": {
            "_model_module": "@jupyter-widgets/base",
            "_model_module_version": "1.2.0",
            "_model_name": "LayoutModel",
            "_view_count": null,
            "_view_module": "@jupyter-widgets/base",
            "_view_module_version": "1.2.0",
            "_view_name": "LayoutView",
            "align_content": null,
            "align_items": null,
            "align_self": null,
            "border": null,
            "bottom": null,
            "display": null,
            "flex": null,
            "flex_flow": null,
            "grid_area": null,
            "grid_auto_columns": null,
            "grid_auto_flow": null,
            "grid_auto_rows": null,
            "grid_column": null,
            "grid_gap": null,
            "grid_row": null,
            "grid_template_areas": null,
            "grid_template_columns": null,
            "grid_template_rows": null,
            "height": null,
            "justify_content": null,
            "justify_items": null,
            "left": null,
            "margin": null,
            "max_height": null,
            "max_width": null,
            "min_height": null,
            "min_width": null,
            "object_fit": null,
            "object_position": null,
            "order": null,
            "overflow": null,
            "overflow_x": null,
            "overflow_y": null,
            "padding": null,
            "right": null,
            "top": null,
            "visibility": null,
            "width": null
          }
        },
        "12a93514c23548ba8fa3cba1e3f3266e": {
          "model_module": "@jupyter-widgets/base",
          "model_name": "LayoutModel",
          "model_module_version": "1.2.0",
          "state": {
            "_model_module": "@jupyter-widgets/base",
            "_model_module_version": "1.2.0",
            "_model_name": "LayoutModel",
            "_view_count": null,
            "_view_module": "@jupyter-widgets/base",
            "_view_module_version": "1.2.0",
            "_view_name": "LayoutView",
            "align_content": null,
            "align_items": null,
            "align_self": null,
            "border": null,
            "bottom": null,
            "display": null,
            "flex": null,
            "flex_flow": null,
            "grid_area": null,
            "grid_auto_columns": null,
            "grid_auto_flow": null,
            "grid_auto_rows": null,
            "grid_column": null,
            "grid_gap": null,
            "grid_row": null,
            "grid_template_areas": null,
            "grid_template_columns": null,
            "grid_template_rows": null,
            "height": null,
            "justify_content": null,
            "justify_items": null,
            "left": null,
            "margin": null,
            "max_height": null,
            "max_width": null,
            "min_height": null,
            "min_width": null,
            "object_fit": null,
            "object_position": null,
            "order": null,
            "overflow": null,
            "overflow_x": null,
            "overflow_y": null,
            "padding": null,
            "right": null,
            "top": null,
            "visibility": null,
            "width": null
          }
        },
        "bfb5d8df9c374139bd543630743c0956": {
          "model_module": "@jupyter-widgets/controls",
          "model_name": "DescriptionStyleModel",
          "model_module_version": "1.5.0",
          "state": {
            "_model_module": "@jupyter-widgets/controls",
            "_model_module_version": "1.5.0",
            "_model_name": "DescriptionStyleModel",
            "_view_count": null,
            "_view_module": "@jupyter-widgets/base",
            "_view_module_version": "1.2.0",
            "_view_name": "StyleView",
            "description_width": ""
          }
        },
        "723522d61a294035b1f687f4f5524c6b": {
          "model_module": "@jupyter-widgets/base",
          "model_name": "LayoutModel",
          "model_module_version": "1.2.0",
          "state": {
            "_model_module": "@jupyter-widgets/base",
            "_model_module_version": "1.2.0",
            "_model_name": "LayoutModel",
            "_view_count": null,
            "_view_module": "@jupyter-widgets/base",
            "_view_module_version": "1.2.0",
            "_view_name": "LayoutView",
            "align_content": null,
            "align_items": null,
            "align_self": null,
            "border": null,
            "bottom": null,
            "display": null,
            "flex": null,
            "flex_flow": null,
            "grid_area": null,
            "grid_auto_columns": null,
            "grid_auto_flow": null,
            "grid_auto_rows": null,
            "grid_column": null,
            "grid_gap": null,
            "grid_row": null,
            "grid_template_areas": null,
            "grid_template_columns": null,
            "grid_template_rows": null,
            "height": null,
            "justify_content": null,
            "justify_items": null,
            "left": null,
            "margin": null,
            "max_height": null,
            "max_width": null,
            "min_height": null,
            "min_width": null,
            "object_fit": null,
            "object_position": null,
            "order": null,
            "overflow": null,
            "overflow_x": null,
            "overflow_y": null,
            "padding": null,
            "right": null,
            "top": null,
            "visibility": null,
            "width": null
          }
        },
        "36e55f3bc3c54939aaa8e04768d74440": {
          "model_module": "@jupyter-widgets/controls",
          "model_name": "ProgressStyleModel",
          "model_module_version": "1.5.0",
          "state": {
            "_model_module": "@jupyter-widgets/controls",
            "_model_module_version": "1.5.0",
            "_model_name": "ProgressStyleModel",
            "_view_count": null,
            "_view_module": "@jupyter-widgets/base",
            "_view_module_version": "1.2.0",
            "_view_name": "StyleView",
            "bar_color": null,
            "description_width": ""
          }
        },
        "863dcfe106454076a911a0971a81dc85": {
          "model_module": "@jupyter-widgets/base",
          "model_name": "LayoutModel",
          "model_module_version": "1.2.0",
          "state": {
            "_model_module": "@jupyter-widgets/base",
            "_model_module_version": "1.2.0",
            "_model_name": "LayoutModel",
            "_view_count": null,
            "_view_module": "@jupyter-widgets/base",
            "_view_module_version": "1.2.0",
            "_view_name": "LayoutView",
            "align_content": null,
            "align_items": null,
            "align_self": null,
            "border": null,
            "bottom": null,
            "display": null,
            "flex": null,
            "flex_flow": null,
            "grid_area": null,
            "grid_auto_columns": null,
            "grid_auto_flow": null,
            "grid_auto_rows": null,
            "grid_column": null,
            "grid_gap": null,
            "grid_row": null,
            "grid_template_areas": null,
            "grid_template_columns": null,
            "grid_template_rows": null,
            "height": null,
            "justify_content": null,
            "justify_items": null,
            "left": null,
            "margin": null,
            "max_height": null,
            "max_width": null,
            "min_height": null,
            "min_width": null,
            "object_fit": null,
            "object_position": null,
            "order": null,
            "overflow": null,
            "overflow_x": null,
            "overflow_y": null,
            "padding": null,
            "right": null,
            "top": null,
            "visibility": null,
            "width": null
          }
        },
        "574301dcf8c14cfdbe4e16cf08b5e590": {
          "model_module": "@jupyter-widgets/controls",
          "model_name": "DescriptionStyleModel",
          "model_module_version": "1.5.0",
          "state": {
            "_model_module": "@jupyter-widgets/controls",
            "_model_module_version": "1.5.0",
            "_model_name": "DescriptionStyleModel",
            "_view_count": null,
            "_view_module": "@jupyter-widgets/base",
            "_view_module_version": "1.2.0",
            "_view_name": "StyleView",
            "description_width": ""
          }
        },
        "31cab82a0f654017a612e1a77fa0d813": {
          "model_module": "@jupyter-widgets/controls",
          "model_name": "HBoxModel",
          "model_module_version": "1.5.0",
          "state": {
            "_dom_classes": [],
            "_model_module": "@jupyter-widgets/controls",
            "_model_module_version": "1.5.0",
            "_model_name": "HBoxModel",
            "_view_count": null,
            "_view_module": "@jupyter-widgets/controls",
            "_view_module_version": "1.5.0",
            "_view_name": "HBoxView",
            "box_style": "",
            "children": [
              "IPY_MODEL_a60cc204c4ef4eaeab777e749586cfbc",
              "IPY_MODEL_a4cabeb15e4c4a7e802be28dd540058c",
              "IPY_MODEL_f9030532e18446da89e1c20e49e9a6d8"
            ],
            "layout": "IPY_MODEL_ec1b7da09a3b417b97d060aa71f8c4fa"
          }
        },
        "a60cc204c4ef4eaeab777e749586cfbc": {
          "model_module": "@jupyter-widgets/controls",
          "model_name": "HTMLModel",
          "model_module_version": "1.5.0",
          "state": {
            "_dom_classes": [],
            "_model_module": "@jupyter-widgets/controls",
            "_model_module_version": "1.5.0",
            "_model_name": "HTMLModel",
            "_view_count": null,
            "_view_module": "@jupyter-widgets/controls",
            "_view_module_version": "1.5.0",
            "_view_name": "HTMLView",
            "description": "",
            "description_tooltip": null,
            "layout": "IPY_MODEL_1b0ac313517a4982bb60c7f52744fa2c",
            "placeholder": "​",
            "style": "IPY_MODEL_36415e470ebf462696616692831c47fd",
            "value": "Downloading: 100%"
          }
        },
        "a4cabeb15e4c4a7e802be28dd540058c": {
          "model_module": "@jupyter-widgets/controls",
          "model_name": "FloatProgressModel",
          "model_module_version": "1.5.0",
          "state": {
            "_dom_classes": [],
            "_model_module": "@jupyter-widgets/controls",
            "_model_module_version": "1.5.0",
            "_model_name": "FloatProgressModel",
            "_view_count": null,
            "_view_module": "@jupyter-widgets/controls",
            "_view_module_version": "1.5.0",
            "_view_name": "ProgressView",
            "bar_style": "success",
            "description": "",
            "description_tooltip": null,
            "layout": "IPY_MODEL_0ab4e3eeca4c48c2820020d24bfcbb23",
            "max": 90888945,
            "min": 0,
            "orientation": "horizontal",
            "style": "IPY_MODEL_805dad8380744ac881380e935aaf411b",
            "value": 90888945
          }
        },
        "f9030532e18446da89e1c20e49e9a6d8": {
          "model_module": "@jupyter-widgets/controls",
          "model_name": "HTMLModel",
          "model_module_version": "1.5.0",
          "state": {
            "_dom_classes": [],
            "_model_module": "@jupyter-widgets/controls",
            "_model_module_version": "1.5.0",
            "_model_name": "HTMLModel",
            "_view_count": null,
            "_view_module": "@jupyter-widgets/controls",
            "_view_module_version": "1.5.0",
            "_view_name": "HTMLView",
            "description": "",
            "description_tooltip": null,
            "layout": "IPY_MODEL_e0a3210f063c46219b0247801c5084ac",
            "placeholder": "​",
            "style": "IPY_MODEL_2b69b003a85d4cb99eca0b427c83ebb6",
            "value": " 90.9M/90.9M [00:01&lt;00:00, 63.2MB/s]"
          }
        },
        "ec1b7da09a3b417b97d060aa71f8c4fa": {
          "model_module": "@jupyter-widgets/base",
          "model_name": "LayoutModel",
          "model_module_version": "1.2.0",
          "state": {
            "_model_module": "@jupyter-widgets/base",
            "_model_module_version": "1.2.0",
            "_model_name": "LayoutModel",
            "_view_count": null,
            "_view_module": "@jupyter-widgets/base",
            "_view_module_version": "1.2.0",
            "_view_name": "LayoutView",
            "align_content": null,
            "align_items": null,
            "align_self": null,
            "border": null,
            "bottom": null,
            "display": null,
            "flex": null,
            "flex_flow": null,
            "grid_area": null,
            "grid_auto_columns": null,
            "grid_auto_flow": null,
            "grid_auto_rows": null,
            "grid_column": null,
            "grid_gap": null,
            "grid_row": null,
            "grid_template_areas": null,
            "grid_template_columns": null,
            "grid_template_rows": null,
            "height": null,
            "justify_content": null,
            "justify_items": null,
            "left": null,
            "margin": null,
            "max_height": null,
            "max_width": null,
            "min_height": null,
            "min_width": null,
            "object_fit": null,
            "object_position": null,
            "order": null,
            "overflow": null,
            "overflow_x": null,
            "overflow_y": null,
            "padding": null,
            "right": null,
            "top": null,
            "visibility": null,
            "width": null
          }
        },
        "1b0ac313517a4982bb60c7f52744fa2c": {
          "model_module": "@jupyter-widgets/base",
          "model_name": "LayoutModel",
          "model_module_version": "1.2.0",
          "state": {
            "_model_module": "@jupyter-widgets/base",
            "_model_module_version": "1.2.0",
            "_model_name": "LayoutModel",
            "_view_count": null,
            "_view_module": "@jupyter-widgets/base",
            "_view_module_version": "1.2.0",
            "_view_name": "LayoutView",
            "align_content": null,
            "align_items": null,
            "align_self": null,
            "border": null,
            "bottom": null,
            "display": null,
            "flex": null,
            "flex_flow": null,
            "grid_area": null,
            "grid_auto_columns": null,
            "grid_auto_flow": null,
            "grid_auto_rows": null,
            "grid_column": null,
            "grid_gap": null,
            "grid_row": null,
            "grid_template_areas": null,
            "grid_template_columns": null,
            "grid_template_rows": null,
            "height": null,
            "justify_content": null,
            "justify_items": null,
            "left": null,
            "margin": null,
            "max_height": null,
            "max_width": null,
            "min_height": null,
            "min_width": null,
            "object_fit": null,
            "object_position": null,
            "order": null,
            "overflow": null,
            "overflow_x": null,
            "overflow_y": null,
            "padding": null,
            "right": null,
            "top": null,
            "visibility": null,
            "width": null
          }
        },
        "36415e470ebf462696616692831c47fd": {
          "model_module": "@jupyter-widgets/controls",
          "model_name": "DescriptionStyleModel",
          "model_module_version": "1.5.0",
          "state": {
            "_model_module": "@jupyter-widgets/controls",
            "_model_module_version": "1.5.0",
            "_model_name": "DescriptionStyleModel",
            "_view_count": null,
            "_view_module": "@jupyter-widgets/base",
            "_view_module_version": "1.2.0",
            "_view_name": "StyleView",
            "description_width": ""
          }
        },
        "0ab4e3eeca4c48c2820020d24bfcbb23": {
          "model_module": "@jupyter-widgets/base",
          "model_name": "LayoutModel",
          "model_module_version": "1.2.0",
          "state": {
            "_model_module": "@jupyter-widgets/base",
            "_model_module_version": "1.2.0",
            "_model_name": "LayoutModel",
            "_view_count": null,
            "_view_module": "@jupyter-widgets/base",
            "_view_module_version": "1.2.0",
            "_view_name": "LayoutView",
            "align_content": null,
            "align_items": null,
            "align_self": null,
            "border": null,
            "bottom": null,
            "display": null,
            "flex": null,
            "flex_flow": null,
            "grid_area": null,
            "grid_auto_columns": null,
            "grid_auto_flow": null,
            "grid_auto_rows": null,
            "grid_column": null,
            "grid_gap": null,
            "grid_row": null,
            "grid_template_areas": null,
            "grid_template_columns": null,
            "grid_template_rows": null,
            "height": null,
            "justify_content": null,
            "justify_items": null,
            "left": null,
            "margin": null,
            "max_height": null,
            "max_width": null,
            "min_height": null,
            "min_width": null,
            "object_fit": null,
            "object_position": null,
            "order": null,
            "overflow": null,
            "overflow_x": null,
            "overflow_y": null,
            "padding": null,
            "right": null,
            "top": null,
            "visibility": null,
            "width": null
          }
        },
        "805dad8380744ac881380e935aaf411b": {
          "model_module": "@jupyter-widgets/controls",
          "model_name": "ProgressStyleModel",
          "model_module_version": "1.5.0",
          "state": {
            "_model_module": "@jupyter-widgets/controls",
            "_model_module_version": "1.5.0",
            "_model_name": "ProgressStyleModel",
            "_view_count": null,
            "_view_module": "@jupyter-widgets/base",
            "_view_module_version": "1.2.0",
            "_view_name": "StyleView",
            "bar_color": null,
            "description_width": ""
          }
        },
        "e0a3210f063c46219b0247801c5084ac": {
          "model_module": "@jupyter-widgets/base",
          "model_name": "LayoutModel",
          "model_module_version": "1.2.0",
          "state": {
            "_model_module": "@jupyter-widgets/base",
            "_model_module_version": "1.2.0",
            "_model_name": "LayoutModel",
            "_view_count": null,
            "_view_module": "@jupyter-widgets/base",
            "_view_module_version": "1.2.0",
            "_view_name": "LayoutView",
            "align_content": null,
            "align_items": null,
            "align_self": null,
            "border": null,
            "bottom": null,
            "display": null,
            "flex": null,
            "flex_flow": null,
            "grid_area": null,
            "grid_auto_columns": null,
            "grid_auto_flow": null,
            "grid_auto_rows": null,
            "grid_column": null,
            "grid_gap": null,
            "grid_row": null,
            "grid_template_areas": null,
            "grid_template_columns": null,
            "grid_template_rows": null,
            "height": null,
            "justify_content": null,
            "justify_items": null,
            "left": null,
            "margin": null,
            "max_height": null,
            "max_width": null,
            "min_height": null,
            "min_width": null,
            "object_fit": null,
            "object_position": null,
            "order": null,
            "overflow": null,
            "overflow_x": null,
            "overflow_y": null,
            "padding": null,
            "right": null,
            "top": null,
            "visibility": null,
            "width": null
          }
        },
        "2b69b003a85d4cb99eca0b427c83ebb6": {
          "model_module": "@jupyter-widgets/controls",
          "model_name": "DescriptionStyleModel",
          "model_module_version": "1.5.0",
          "state": {
            "_model_module": "@jupyter-widgets/controls",
            "_model_module_version": "1.5.0",
            "_model_name": "DescriptionStyleModel",
            "_view_count": null,
            "_view_module": "@jupyter-widgets/base",
            "_view_module_version": "1.2.0",
            "_view_name": "StyleView",
            "description_width": ""
          }
        },
        "60ef1f7d34e64c0ba3634275e9216bf0": {
          "model_module": "@jupyter-widgets/controls",
          "model_name": "HBoxModel",
          "model_module_version": "1.5.0",
          "state": {
            "_dom_classes": [],
            "_model_module": "@jupyter-widgets/controls",
            "_model_module_version": "1.5.0",
            "_model_name": "HBoxModel",
            "_view_count": null,
            "_view_module": "@jupyter-widgets/controls",
            "_view_module_version": "1.5.0",
            "_view_name": "HBoxView",
            "box_style": "",
            "children": [
              "IPY_MODEL_ce260633906441a1a8781d13696abc8a",
              "IPY_MODEL_25953b4161e149cd9d9f0c78bdbcda4e",
              "IPY_MODEL_ce353704c4e04aeab3afcf57196a6a44"
            ],
            "layout": "IPY_MODEL_c870251006574f84b97b7af63f19ce06"
          }
        },
        "ce260633906441a1a8781d13696abc8a": {
          "model_module": "@jupyter-widgets/controls",
          "model_name": "HTMLModel",
          "model_module_version": "1.5.0",
          "state": {
            "_dom_classes": [],
            "_model_module": "@jupyter-widgets/controls",
            "_model_module_version": "1.5.0",
            "_model_name": "HTMLModel",
            "_view_count": null,
            "_view_module": "@jupyter-widgets/controls",
            "_view_module_version": "1.5.0",
            "_view_name": "HTMLView",
            "description": "",
            "description_tooltip": null,
            "layout": "IPY_MODEL_6f369580678e418e8a145cbfbfd2d36e",
            "placeholder": "​",
            "style": "IPY_MODEL_06760b217b2443d0a3d0c71aea6d8562",
            "value": "Downloading: 100%"
          }
        },
        "25953b4161e149cd9d9f0c78bdbcda4e": {
          "model_module": "@jupyter-widgets/controls",
          "model_name": "FloatProgressModel",
          "model_module_version": "1.5.0",
          "state": {
            "_dom_classes": [],
            "_model_module": "@jupyter-widgets/controls",
            "_model_module_version": "1.5.0",
            "_model_name": "FloatProgressModel",
            "_view_count": null,
            "_view_module": "@jupyter-widgets/controls",
            "_view_module_version": "1.5.0",
            "_view_name": "ProgressView",
            "bar_style": "success",
            "description": "",
            "description_tooltip": null,
            "layout": "IPY_MODEL_15f8ceca928046e29b506d6795640a91",
            "max": 53,
            "min": 0,
            "orientation": "horizontal",
            "style": "IPY_MODEL_4e7e81036a6d42c0bfe0adf0fd5ea121",
            "value": 53
          }
        },
        "ce353704c4e04aeab3afcf57196a6a44": {
          "model_module": "@jupyter-widgets/controls",
          "model_name": "HTMLModel",
          "model_module_version": "1.5.0",
          "state": {
            "_dom_classes": [],
            "_model_module": "@jupyter-widgets/controls",
            "_model_module_version": "1.5.0",
            "_model_name": "HTMLModel",
            "_view_count": null,
            "_view_module": "@jupyter-widgets/controls",
            "_view_module_version": "1.5.0",
            "_view_name": "HTMLView",
            "description": "",
            "description_tooltip": null,
            "layout": "IPY_MODEL_b5fcf9fc03e54957866b113c950c036c",
            "placeholder": "​",
            "style": "IPY_MODEL_f3c77ccaa2ba46428403daef83666611",
            "value": " 53.0/53.0 [00:00&lt;00:00, 1.56kB/s]"
          }
        },
        "c870251006574f84b97b7af63f19ce06": {
          "model_module": "@jupyter-widgets/base",
          "model_name": "LayoutModel",
          "model_module_version": "1.2.0",
          "state": {
            "_model_module": "@jupyter-widgets/base",
            "_model_module_version": "1.2.0",
            "_model_name": "LayoutModel",
            "_view_count": null,
            "_view_module": "@jupyter-widgets/base",
            "_view_module_version": "1.2.0",
            "_view_name": "LayoutView",
            "align_content": null,
            "align_items": null,
            "align_self": null,
            "border": null,
            "bottom": null,
            "display": null,
            "flex": null,
            "flex_flow": null,
            "grid_area": null,
            "grid_auto_columns": null,
            "grid_auto_flow": null,
            "grid_auto_rows": null,
            "grid_column": null,
            "grid_gap": null,
            "grid_row": null,
            "grid_template_areas": null,
            "grid_template_columns": null,
            "grid_template_rows": null,
            "height": null,
            "justify_content": null,
            "justify_items": null,
            "left": null,
            "margin": null,
            "max_height": null,
            "max_width": null,
            "min_height": null,
            "min_width": null,
            "object_fit": null,
            "object_position": null,
            "order": null,
            "overflow": null,
            "overflow_x": null,
            "overflow_y": null,
            "padding": null,
            "right": null,
            "top": null,
            "visibility": null,
            "width": null
          }
        },
        "6f369580678e418e8a145cbfbfd2d36e": {
          "model_module": "@jupyter-widgets/base",
          "model_name": "LayoutModel",
          "model_module_version": "1.2.0",
          "state": {
            "_model_module": "@jupyter-widgets/base",
            "_model_module_version": "1.2.0",
            "_model_name": "LayoutModel",
            "_view_count": null,
            "_view_module": "@jupyter-widgets/base",
            "_view_module_version": "1.2.0",
            "_view_name": "LayoutView",
            "align_content": null,
            "align_items": null,
            "align_self": null,
            "border": null,
            "bottom": null,
            "display": null,
            "flex": null,
            "flex_flow": null,
            "grid_area": null,
            "grid_auto_columns": null,
            "grid_auto_flow": null,
            "grid_auto_rows": null,
            "grid_column": null,
            "grid_gap": null,
            "grid_row": null,
            "grid_template_areas": null,
            "grid_template_columns": null,
            "grid_template_rows": null,
            "height": null,
            "justify_content": null,
            "justify_items": null,
            "left": null,
            "margin": null,
            "max_height": null,
            "max_width": null,
            "min_height": null,
            "min_width": null,
            "object_fit": null,
            "object_position": null,
            "order": null,
            "overflow": null,
            "overflow_x": null,
            "overflow_y": null,
            "padding": null,
            "right": null,
            "top": null,
            "visibility": null,
            "width": null
          }
        },
        "06760b217b2443d0a3d0c71aea6d8562": {
          "model_module": "@jupyter-widgets/controls",
          "model_name": "DescriptionStyleModel",
          "model_module_version": "1.5.0",
          "state": {
            "_model_module": "@jupyter-widgets/controls",
            "_model_module_version": "1.5.0",
            "_model_name": "DescriptionStyleModel",
            "_view_count": null,
            "_view_module": "@jupyter-widgets/base",
            "_view_module_version": "1.2.0",
            "_view_name": "StyleView",
            "description_width": ""
          }
        },
        "15f8ceca928046e29b506d6795640a91": {
          "model_module": "@jupyter-widgets/base",
          "model_name": "LayoutModel",
          "model_module_version": "1.2.0",
          "state": {
            "_model_module": "@jupyter-widgets/base",
            "_model_module_version": "1.2.0",
            "_model_name": "LayoutModel",
            "_view_count": null,
            "_view_module": "@jupyter-widgets/base",
            "_view_module_version": "1.2.0",
            "_view_name": "LayoutView",
            "align_content": null,
            "align_items": null,
            "align_self": null,
            "border": null,
            "bottom": null,
            "display": null,
            "flex": null,
            "flex_flow": null,
            "grid_area": null,
            "grid_auto_columns": null,
            "grid_auto_flow": null,
            "grid_auto_rows": null,
            "grid_column": null,
            "grid_gap": null,
            "grid_row": null,
            "grid_template_areas": null,
            "grid_template_columns": null,
            "grid_template_rows": null,
            "height": null,
            "justify_content": null,
            "justify_items": null,
            "left": null,
            "margin": null,
            "max_height": null,
            "max_width": null,
            "min_height": null,
            "min_width": null,
            "object_fit": null,
            "object_position": null,
            "order": null,
            "overflow": null,
            "overflow_x": null,
            "overflow_y": null,
            "padding": null,
            "right": null,
            "top": null,
            "visibility": null,
            "width": null
          }
        },
        "4e7e81036a6d42c0bfe0adf0fd5ea121": {
          "model_module": "@jupyter-widgets/controls",
          "model_name": "ProgressStyleModel",
          "model_module_version": "1.5.0",
          "state": {
            "_model_module": "@jupyter-widgets/controls",
            "_model_module_version": "1.5.0",
            "_model_name": "ProgressStyleModel",
            "_view_count": null,
            "_view_module": "@jupyter-widgets/base",
            "_view_module_version": "1.2.0",
            "_view_name": "StyleView",
            "bar_color": null,
            "description_width": ""
          }
        },
        "b5fcf9fc03e54957866b113c950c036c": {
          "model_module": "@jupyter-widgets/base",
          "model_name": "LayoutModel",
          "model_module_version": "1.2.0",
          "state": {
            "_model_module": "@jupyter-widgets/base",
            "_model_module_version": "1.2.0",
            "_model_name": "LayoutModel",
            "_view_count": null,
            "_view_module": "@jupyter-widgets/base",
            "_view_module_version": "1.2.0",
            "_view_name": "LayoutView",
            "align_content": null,
            "align_items": null,
            "align_self": null,
            "border": null,
            "bottom": null,
            "display": null,
            "flex": null,
            "flex_flow": null,
            "grid_area": null,
            "grid_auto_columns": null,
            "grid_auto_flow": null,
            "grid_auto_rows": null,
            "grid_column": null,
            "grid_gap": null,
            "grid_row": null,
            "grid_template_areas": null,
            "grid_template_columns": null,
            "grid_template_rows": null,
            "height": null,
            "justify_content": null,
            "justify_items": null,
            "left": null,
            "margin": null,
            "max_height": null,
            "max_width": null,
            "min_height": null,
            "min_width": null,
            "object_fit": null,
            "object_position": null,
            "order": null,
            "overflow": null,
            "overflow_x": null,
            "overflow_y": null,
            "padding": null,
            "right": null,
            "top": null,
            "visibility": null,
            "width": null
          }
        },
        "f3c77ccaa2ba46428403daef83666611": {
          "model_module": "@jupyter-widgets/controls",
          "model_name": "DescriptionStyleModel",
          "model_module_version": "1.5.0",
          "state": {
            "_model_module": "@jupyter-widgets/controls",
            "_model_module_version": "1.5.0",
            "_model_name": "DescriptionStyleModel",
            "_view_count": null,
            "_view_module": "@jupyter-widgets/base",
            "_view_module_version": "1.2.0",
            "_view_name": "StyleView",
            "description_width": ""
          }
        },
        "29ac5adef31e4f43805f1310965c6c55": {
          "model_module": "@jupyter-widgets/controls",
          "model_name": "HBoxModel",
          "model_module_version": "1.5.0",
          "state": {
            "_dom_classes": [],
            "_model_module": "@jupyter-widgets/controls",
            "_model_module_version": "1.5.0",
            "_model_name": "HBoxModel",
            "_view_count": null,
            "_view_module": "@jupyter-widgets/controls",
            "_view_module_version": "1.5.0",
            "_view_name": "HBoxView",
            "box_style": "",
            "children": [
              "IPY_MODEL_89719f4e5ba54031ba2310e8c4bdc741",
              "IPY_MODEL_642f23232825410083b50dd808a81c4b",
              "IPY_MODEL_7202a416187147b9a8630da0ebff3ce6"
            ],
            "layout": "IPY_MODEL_22b935ef20ff468ea64980a7e335794d"
          }
        },
        "89719f4e5ba54031ba2310e8c4bdc741": {
          "model_module": "@jupyter-widgets/controls",
          "model_name": "HTMLModel",
          "model_module_version": "1.5.0",
          "state": {
            "_dom_classes": [],
            "_model_module": "@jupyter-widgets/controls",
            "_model_module_version": "1.5.0",
            "_model_name": "HTMLModel",
            "_view_count": null,
            "_view_module": "@jupyter-widgets/controls",
            "_view_module_version": "1.5.0",
            "_view_name": "HTMLView",
            "description": "",
            "description_tooltip": null,
            "layout": "IPY_MODEL_3153097be8324ed6b7667c1b9bcc2e8a",
            "placeholder": "​",
            "style": "IPY_MODEL_e9487e2ce6fe4943b5c7a9f740f7f5ac",
            "value": "Downloading: 100%"
          }
        },
        "642f23232825410083b50dd808a81c4b": {
          "model_module": "@jupyter-widgets/controls",
          "model_name": "FloatProgressModel",
          "model_module_version": "1.5.0",
          "state": {
            "_dom_classes": [],
            "_model_module": "@jupyter-widgets/controls",
            "_model_module_version": "1.5.0",
            "_model_name": "FloatProgressModel",
            "_view_count": null,
            "_view_module": "@jupyter-widgets/controls",
            "_view_module_version": "1.5.0",
            "_view_name": "ProgressView",
            "bar_style": "success",
            "description": "",
            "description_tooltip": null,
            "layout": "IPY_MODEL_279a97a3a1d0405186a24b71d5823de1",
            "max": 112,
            "min": 0,
            "orientation": "horizontal",
            "style": "IPY_MODEL_a9df0ac53aa6467687bd06a2c14f7235",
            "value": 112
          }
        },
        "7202a416187147b9a8630da0ebff3ce6": {
          "model_module": "@jupyter-widgets/controls",
          "model_name": "HTMLModel",
          "model_module_version": "1.5.0",
          "state": {
            "_dom_classes": [],
            "_model_module": "@jupyter-widgets/controls",
            "_model_module_version": "1.5.0",
            "_model_name": "HTMLModel",
            "_view_count": null,
            "_view_module": "@jupyter-widgets/controls",
            "_view_module_version": "1.5.0",
            "_view_name": "HTMLView",
            "description": "",
            "description_tooltip": null,
            "layout": "IPY_MODEL_479a301047f8451b92de3a0bdaedafdc",
            "placeholder": "​",
            "style": "IPY_MODEL_4fe6207e45bc41fa9ab01838fbd6b443",
            "value": " 112/112 [00:00&lt;00:00, 2.59kB/s]"
          }
        },
        "22b935ef20ff468ea64980a7e335794d": {
          "model_module": "@jupyter-widgets/base",
          "model_name": "LayoutModel",
          "model_module_version": "1.2.0",
          "state": {
            "_model_module": "@jupyter-widgets/base",
            "_model_module_version": "1.2.0",
            "_model_name": "LayoutModel",
            "_view_count": null,
            "_view_module": "@jupyter-widgets/base",
            "_view_module_version": "1.2.0",
            "_view_name": "LayoutView",
            "align_content": null,
            "align_items": null,
            "align_self": null,
            "border": null,
            "bottom": null,
            "display": null,
            "flex": null,
            "flex_flow": null,
            "grid_area": null,
            "grid_auto_columns": null,
            "grid_auto_flow": null,
            "grid_auto_rows": null,
            "grid_column": null,
            "grid_gap": null,
            "grid_row": null,
            "grid_template_areas": null,
            "grid_template_columns": null,
            "grid_template_rows": null,
            "height": null,
            "justify_content": null,
            "justify_items": null,
            "left": null,
            "margin": null,
            "max_height": null,
            "max_width": null,
            "min_height": null,
            "min_width": null,
            "object_fit": null,
            "object_position": null,
            "order": null,
            "overflow": null,
            "overflow_x": null,
            "overflow_y": null,
            "padding": null,
            "right": null,
            "top": null,
            "visibility": null,
            "width": null
          }
        },
        "3153097be8324ed6b7667c1b9bcc2e8a": {
          "model_module": "@jupyter-widgets/base",
          "model_name": "LayoutModel",
          "model_module_version": "1.2.0",
          "state": {
            "_model_module": "@jupyter-widgets/base",
            "_model_module_version": "1.2.0",
            "_model_name": "LayoutModel",
            "_view_count": null,
            "_view_module": "@jupyter-widgets/base",
            "_view_module_version": "1.2.0",
            "_view_name": "LayoutView",
            "align_content": null,
            "align_items": null,
            "align_self": null,
            "border": null,
            "bottom": null,
            "display": null,
            "flex": null,
            "flex_flow": null,
            "grid_area": null,
            "grid_auto_columns": null,
            "grid_auto_flow": null,
            "grid_auto_rows": null,
            "grid_column": null,
            "grid_gap": null,
            "grid_row": null,
            "grid_template_areas": null,
            "grid_template_columns": null,
            "grid_template_rows": null,
            "height": null,
            "justify_content": null,
            "justify_items": null,
            "left": null,
            "margin": null,
            "max_height": null,
            "max_width": null,
            "min_height": null,
            "min_width": null,
            "object_fit": null,
            "object_position": null,
            "order": null,
            "overflow": null,
            "overflow_x": null,
            "overflow_y": null,
            "padding": null,
            "right": null,
            "top": null,
            "visibility": null,
            "width": null
          }
        },
        "e9487e2ce6fe4943b5c7a9f740f7f5ac": {
          "model_module": "@jupyter-widgets/controls",
          "model_name": "DescriptionStyleModel",
          "model_module_version": "1.5.0",
          "state": {
            "_model_module": "@jupyter-widgets/controls",
            "_model_module_version": "1.5.0",
            "_model_name": "DescriptionStyleModel",
            "_view_count": null,
            "_view_module": "@jupyter-widgets/base",
            "_view_module_version": "1.2.0",
            "_view_name": "StyleView",
            "description_width": ""
          }
        },
        "279a97a3a1d0405186a24b71d5823de1": {
          "model_module": "@jupyter-widgets/base",
          "model_name": "LayoutModel",
          "model_module_version": "1.2.0",
          "state": {
            "_model_module": "@jupyter-widgets/base",
            "_model_module_version": "1.2.0",
            "_model_name": "LayoutModel",
            "_view_count": null,
            "_view_module": "@jupyter-widgets/base",
            "_view_module_version": "1.2.0",
            "_view_name": "LayoutView",
            "align_content": null,
            "align_items": null,
            "align_self": null,
            "border": null,
            "bottom": null,
            "display": null,
            "flex": null,
            "flex_flow": null,
            "grid_area": null,
            "grid_auto_columns": null,
            "grid_auto_flow": null,
            "grid_auto_rows": null,
            "grid_column": null,
            "grid_gap": null,
            "grid_row": null,
            "grid_template_areas": null,
            "grid_template_columns": null,
            "grid_template_rows": null,
            "height": null,
            "justify_content": null,
            "justify_items": null,
            "left": null,
            "margin": null,
            "max_height": null,
            "max_width": null,
            "min_height": null,
            "min_width": null,
            "object_fit": null,
            "object_position": null,
            "order": null,
            "overflow": null,
            "overflow_x": null,
            "overflow_y": null,
            "padding": null,
            "right": null,
            "top": null,
            "visibility": null,
            "width": null
          }
        },
        "a9df0ac53aa6467687bd06a2c14f7235": {
          "model_module": "@jupyter-widgets/controls",
          "model_name": "ProgressStyleModel",
          "model_module_version": "1.5.0",
          "state": {
            "_model_module": "@jupyter-widgets/controls",
            "_model_module_version": "1.5.0",
            "_model_name": "ProgressStyleModel",
            "_view_count": null,
            "_view_module": "@jupyter-widgets/base",
            "_view_module_version": "1.2.0",
            "_view_name": "StyleView",
            "bar_color": null,
            "description_width": ""
          }
        },
        "479a301047f8451b92de3a0bdaedafdc": {
          "model_module": "@jupyter-widgets/base",
          "model_name": "LayoutModel",
          "model_module_version": "1.2.0",
          "state": {
            "_model_module": "@jupyter-widgets/base",
            "_model_module_version": "1.2.0",
            "_model_name": "LayoutModel",
            "_view_count": null,
            "_view_module": "@jupyter-widgets/base",
            "_view_module_version": "1.2.0",
            "_view_name": "LayoutView",
            "align_content": null,
            "align_items": null,
            "align_self": null,
            "border": null,
            "bottom": null,
            "display": null,
            "flex": null,
            "flex_flow": null,
            "grid_area": null,
            "grid_auto_columns": null,
            "grid_auto_flow": null,
            "grid_auto_rows": null,
            "grid_column": null,
            "grid_gap": null,
            "grid_row": null,
            "grid_template_areas": null,
            "grid_template_columns": null,
            "grid_template_rows": null,
            "height": null,
            "justify_content": null,
            "justify_items": null,
            "left": null,
            "margin": null,
            "max_height": null,
            "max_width": null,
            "min_height": null,
            "min_width": null,
            "object_fit": null,
            "object_position": null,
            "order": null,
            "overflow": null,
            "overflow_x": null,
            "overflow_y": null,
            "padding": null,
            "right": null,
            "top": null,
            "visibility": null,
            "width": null
          }
        },
        "4fe6207e45bc41fa9ab01838fbd6b443": {
          "model_module": "@jupyter-widgets/controls",
          "model_name": "DescriptionStyleModel",
          "model_module_version": "1.5.0",
          "state": {
            "_model_module": "@jupyter-widgets/controls",
            "_model_module_version": "1.5.0",
            "_model_name": "DescriptionStyleModel",
            "_view_count": null,
            "_view_module": "@jupyter-widgets/base",
            "_view_module_version": "1.2.0",
            "_view_name": "StyleView",
            "description_width": ""
          }
        },
        "5d1ef48c45a44e67aea5743cc5f4a3bc": {
          "model_module": "@jupyter-widgets/controls",
          "model_name": "HBoxModel",
          "model_module_version": "1.5.0",
          "state": {
            "_dom_classes": [],
            "_model_module": "@jupyter-widgets/controls",
            "_model_module_version": "1.5.0",
            "_model_name": "HBoxModel",
            "_view_count": null,
            "_view_module": "@jupyter-widgets/controls",
            "_view_module_version": "1.5.0",
            "_view_name": "HBoxView",
            "box_style": "",
            "children": [
              "IPY_MODEL_92615bd4ddd54f3daa56d5a95ffcaf95",
              "IPY_MODEL_9ef56bf381724e5691fb1ae0bdc204a9",
              "IPY_MODEL_753c8bbadec64c09b2aaa3a79978321b"
            ],
            "layout": "IPY_MODEL_47c0db583e21496e9286c01a274d30f6"
          }
        },
        "92615bd4ddd54f3daa56d5a95ffcaf95": {
          "model_module": "@jupyter-widgets/controls",
          "model_name": "HTMLModel",
          "model_module_version": "1.5.0",
          "state": {
            "_dom_classes": [],
            "_model_module": "@jupyter-widgets/controls",
            "_model_module_version": "1.5.0",
            "_model_name": "HTMLModel",
            "_view_count": null,
            "_view_module": "@jupyter-widgets/controls",
            "_view_module_version": "1.5.0",
            "_view_name": "HTMLView",
            "description": "",
            "description_tooltip": null,
            "layout": "IPY_MODEL_797d0a6c46644a8da3925cb45e04f8e2",
            "placeholder": "​",
            "style": "IPY_MODEL_c08ef372cadc4106881b58ac8cd3bd81",
            "value": "Downloading: 100%"
          }
        },
        "9ef56bf381724e5691fb1ae0bdc204a9": {
          "model_module": "@jupyter-widgets/controls",
          "model_name": "FloatProgressModel",
          "model_module_version": "1.5.0",
          "state": {
            "_dom_classes": [],
            "_model_module": "@jupyter-widgets/controls",
            "_model_module_version": "1.5.0",
            "_model_name": "FloatProgressModel",
            "_view_count": null,
            "_view_module": "@jupyter-widgets/controls",
            "_view_module_version": "1.5.0",
            "_view_name": "ProgressView",
            "bar_style": "success",
            "description": "",
            "description_tooltip": null,
            "layout": "IPY_MODEL_8763e6ef113e4698a7ca50a050a8002b",
            "max": 466247,
            "min": 0,
            "orientation": "horizontal",
            "style": "IPY_MODEL_6bb85c90c17d4d3d901d037c406e7bbc",
            "value": 466247
          }
        },
        "753c8bbadec64c09b2aaa3a79978321b": {
          "model_module": "@jupyter-widgets/controls",
          "model_name": "HTMLModel",
          "model_module_version": "1.5.0",
          "state": {
            "_dom_classes": [],
            "_model_module": "@jupyter-widgets/controls",
            "_model_module_version": "1.5.0",
            "_model_name": "HTMLModel",
            "_view_count": null,
            "_view_module": "@jupyter-widgets/controls",
            "_view_module_version": "1.5.0",
            "_view_name": "HTMLView",
            "description": "",
            "description_tooltip": null,
            "layout": "IPY_MODEL_dd4b887fcda44ab58d4ba5f4710ae41d",
            "placeholder": "​",
            "style": "IPY_MODEL_4fbcac00d40e45f0877511a717d66460",
            "value": " 466k/466k [00:00&lt;00:00, 870kB/s]"
          }
        },
        "47c0db583e21496e9286c01a274d30f6": {
          "model_module": "@jupyter-widgets/base",
          "model_name": "LayoutModel",
          "model_module_version": "1.2.0",
          "state": {
            "_model_module": "@jupyter-widgets/base",
            "_model_module_version": "1.2.0",
            "_model_name": "LayoutModel",
            "_view_count": null,
            "_view_module": "@jupyter-widgets/base",
            "_view_module_version": "1.2.0",
            "_view_name": "LayoutView",
            "align_content": null,
            "align_items": null,
            "align_self": null,
            "border": null,
            "bottom": null,
            "display": null,
            "flex": null,
            "flex_flow": null,
            "grid_area": null,
            "grid_auto_columns": null,
            "grid_auto_flow": null,
            "grid_auto_rows": null,
            "grid_column": null,
            "grid_gap": null,
            "grid_row": null,
            "grid_template_areas": null,
            "grid_template_columns": null,
            "grid_template_rows": null,
            "height": null,
            "justify_content": null,
            "justify_items": null,
            "left": null,
            "margin": null,
            "max_height": null,
            "max_width": null,
            "min_height": null,
            "min_width": null,
            "object_fit": null,
            "object_position": null,
            "order": null,
            "overflow": null,
            "overflow_x": null,
            "overflow_y": null,
            "padding": null,
            "right": null,
            "top": null,
            "visibility": null,
            "width": null
          }
        },
        "797d0a6c46644a8da3925cb45e04f8e2": {
          "model_module": "@jupyter-widgets/base",
          "model_name": "LayoutModel",
          "model_module_version": "1.2.0",
          "state": {
            "_model_module": "@jupyter-widgets/base",
            "_model_module_version": "1.2.0",
            "_model_name": "LayoutModel",
            "_view_count": null,
            "_view_module": "@jupyter-widgets/base",
            "_view_module_version": "1.2.0",
            "_view_name": "LayoutView",
            "align_content": null,
            "align_items": null,
            "align_self": null,
            "border": null,
            "bottom": null,
            "display": null,
            "flex": null,
            "flex_flow": null,
            "grid_area": null,
            "grid_auto_columns": null,
            "grid_auto_flow": null,
            "grid_auto_rows": null,
            "grid_column": null,
            "grid_gap": null,
            "grid_row": null,
            "grid_template_areas": null,
            "grid_template_columns": null,
            "grid_template_rows": null,
            "height": null,
            "justify_content": null,
            "justify_items": null,
            "left": null,
            "margin": null,
            "max_height": null,
            "max_width": null,
            "min_height": null,
            "min_width": null,
            "object_fit": null,
            "object_position": null,
            "order": null,
            "overflow": null,
            "overflow_x": null,
            "overflow_y": null,
            "padding": null,
            "right": null,
            "top": null,
            "visibility": null,
            "width": null
          }
        },
        "c08ef372cadc4106881b58ac8cd3bd81": {
          "model_module": "@jupyter-widgets/controls",
          "model_name": "DescriptionStyleModel",
          "model_module_version": "1.5.0",
          "state": {
            "_model_module": "@jupyter-widgets/controls",
            "_model_module_version": "1.5.0",
            "_model_name": "DescriptionStyleModel",
            "_view_count": null,
            "_view_module": "@jupyter-widgets/base",
            "_view_module_version": "1.2.0",
            "_view_name": "StyleView",
            "description_width": ""
          }
        },
        "8763e6ef113e4698a7ca50a050a8002b": {
          "model_module": "@jupyter-widgets/base",
          "model_name": "LayoutModel",
          "model_module_version": "1.2.0",
          "state": {
            "_model_module": "@jupyter-widgets/base",
            "_model_module_version": "1.2.0",
            "_model_name": "LayoutModel",
            "_view_count": null,
            "_view_module": "@jupyter-widgets/base",
            "_view_module_version": "1.2.0",
            "_view_name": "LayoutView",
            "align_content": null,
            "align_items": null,
            "align_self": null,
            "border": null,
            "bottom": null,
            "display": null,
            "flex": null,
            "flex_flow": null,
            "grid_area": null,
            "grid_auto_columns": null,
            "grid_auto_flow": null,
            "grid_auto_rows": null,
            "grid_column": null,
            "grid_gap": null,
            "grid_row": null,
            "grid_template_areas": null,
            "grid_template_columns": null,
            "grid_template_rows": null,
            "height": null,
            "justify_content": null,
            "justify_items": null,
            "left": null,
            "margin": null,
            "max_height": null,
            "max_width": null,
            "min_height": null,
            "min_width": null,
            "object_fit": null,
            "object_position": null,
            "order": null,
            "overflow": null,
            "overflow_x": null,
            "overflow_y": null,
            "padding": null,
            "right": null,
            "top": null,
            "visibility": null,
            "width": null
          }
        },
        "6bb85c90c17d4d3d901d037c406e7bbc": {
          "model_module": "@jupyter-widgets/controls",
          "model_name": "ProgressStyleModel",
          "model_module_version": "1.5.0",
          "state": {
            "_model_module": "@jupyter-widgets/controls",
            "_model_module_version": "1.5.0",
            "_model_name": "ProgressStyleModel",
            "_view_count": null,
            "_view_module": "@jupyter-widgets/base",
            "_view_module_version": "1.2.0",
            "_view_name": "StyleView",
            "bar_color": null,
            "description_width": ""
          }
        },
        "dd4b887fcda44ab58d4ba5f4710ae41d": {
          "model_module": "@jupyter-widgets/base",
          "model_name": "LayoutModel",
          "model_module_version": "1.2.0",
          "state": {
            "_model_module": "@jupyter-widgets/base",
            "_model_module_version": "1.2.0",
            "_model_name": "LayoutModel",
            "_view_count": null,
            "_view_module": "@jupyter-widgets/base",
            "_view_module_version": "1.2.0",
            "_view_name": "LayoutView",
            "align_content": null,
            "align_items": null,
            "align_self": null,
            "border": null,
            "bottom": null,
            "display": null,
            "flex": null,
            "flex_flow": null,
            "grid_area": null,
            "grid_auto_columns": null,
            "grid_auto_flow": null,
            "grid_auto_rows": null,
            "grid_column": null,
            "grid_gap": null,
            "grid_row": null,
            "grid_template_areas": null,
            "grid_template_columns": null,
            "grid_template_rows": null,
            "height": null,
            "justify_content": null,
            "justify_items": null,
            "left": null,
            "margin": null,
            "max_height": null,
            "max_width": null,
            "min_height": null,
            "min_width": null,
            "object_fit": null,
            "object_position": null,
            "order": null,
            "overflow": null,
            "overflow_x": null,
            "overflow_y": null,
            "padding": null,
            "right": null,
            "top": null,
            "visibility": null,
            "width": null
          }
        },
        "4fbcac00d40e45f0877511a717d66460": {
          "model_module": "@jupyter-widgets/controls",
          "model_name": "DescriptionStyleModel",
          "model_module_version": "1.5.0",
          "state": {
            "_model_module": "@jupyter-widgets/controls",
            "_model_module_version": "1.5.0",
            "_model_name": "DescriptionStyleModel",
            "_view_count": null,
            "_view_module": "@jupyter-widgets/base",
            "_view_module_version": "1.2.0",
            "_view_name": "StyleView",
            "description_width": ""
          }
        },
        "96f0a0a8f2934c64ad7e8bd01e57a1dc": {
          "model_module": "@jupyter-widgets/controls",
          "model_name": "HBoxModel",
          "model_module_version": "1.5.0",
          "state": {
            "_dom_classes": [],
            "_model_module": "@jupyter-widgets/controls",
            "_model_module_version": "1.5.0",
            "_model_name": "HBoxModel",
            "_view_count": null,
            "_view_module": "@jupyter-widgets/controls",
            "_view_module_version": "1.5.0",
            "_view_name": "HBoxView",
            "box_style": "",
            "children": [
              "IPY_MODEL_1a331e1a8a4f44f1ac437cf0a4ef96b2",
              "IPY_MODEL_b39aebe18b254b509d30a74dee6bfdc8",
              "IPY_MODEL_3fb701a1870e45bdbe6f2cdbb88f9870"
            ],
            "layout": "IPY_MODEL_2adc6793989a4748815bb252b206e7b5"
          }
        },
        "1a331e1a8a4f44f1ac437cf0a4ef96b2": {
          "model_module": "@jupyter-widgets/controls",
          "model_name": "HTMLModel",
          "model_module_version": "1.5.0",
          "state": {
            "_dom_classes": [],
            "_model_module": "@jupyter-widgets/controls",
            "_model_module_version": "1.5.0",
            "_model_name": "HTMLModel",
            "_view_count": null,
            "_view_module": "@jupyter-widgets/controls",
            "_view_module_version": "1.5.0",
            "_view_name": "HTMLView",
            "description": "",
            "description_tooltip": null,
            "layout": "IPY_MODEL_710eaadd7726404596d5aefdaec7f794",
            "placeholder": "​",
            "style": "IPY_MODEL_2a4cad3f45c9466b91d04dd5e39a68bf",
            "value": "Downloading: 100%"
          }
        },
        "b39aebe18b254b509d30a74dee6bfdc8": {
          "model_module": "@jupyter-widgets/controls",
          "model_name": "FloatProgressModel",
          "model_module_version": "1.5.0",
          "state": {
            "_dom_classes": [],
            "_model_module": "@jupyter-widgets/controls",
            "_model_module_version": "1.5.0",
            "_model_name": "FloatProgressModel",
            "_view_count": null,
            "_view_module": "@jupyter-widgets/controls",
            "_view_module_version": "1.5.0",
            "_view_name": "ProgressView",
            "bar_style": "success",
            "description": "",
            "description_tooltip": null,
            "layout": "IPY_MODEL_8d49b6ef67324e58ba95d50874d36451",
            "max": 350,
            "min": 0,
            "orientation": "horizontal",
            "style": "IPY_MODEL_36c1e0aba84e4e1089276e7811806f97",
            "value": 350
          }
        },
        "3fb701a1870e45bdbe6f2cdbb88f9870": {
          "model_module": "@jupyter-widgets/controls",
          "model_name": "HTMLModel",
          "model_module_version": "1.5.0",
          "state": {
            "_dom_classes": [],
            "_model_module": "@jupyter-widgets/controls",
            "_model_module_version": "1.5.0",
            "_model_name": "HTMLModel",
            "_view_count": null,
            "_view_module": "@jupyter-widgets/controls",
            "_view_module_version": "1.5.0",
            "_view_name": "HTMLView",
            "description": "",
            "description_tooltip": null,
            "layout": "IPY_MODEL_eb00afb575e84494a88ccf21cbf2fdc9",
            "placeholder": "​",
            "style": "IPY_MODEL_3b773051f5434ed391236b10362cc886",
            "value": " 350/350 [00:00&lt;00:00, 9.21kB/s]"
          }
        },
        "2adc6793989a4748815bb252b206e7b5": {
          "model_module": "@jupyter-widgets/base",
          "model_name": "LayoutModel",
          "model_module_version": "1.2.0",
          "state": {
            "_model_module": "@jupyter-widgets/base",
            "_model_module_version": "1.2.0",
            "_model_name": "LayoutModel",
            "_view_count": null,
            "_view_module": "@jupyter-widgets/base",
            "_view_module_version": "1.2.0",
            "_view_name": "LayoutView",
            "align_content": null,
            "align_items": null,
            "align_self": null,
            "border": null,
            "bottom": null,
            "display": null,
            "flex": null,
            "flex_flow": null,
            "grid_area": null,
            "grid_auto_columns": null,
            "grid_auto_flow": null,
            "grid_auto_rows": null,
            "grid_column": null,
            "grid_gap": null,
            "grid_row": null,
            "grid_template_areas": null,
            "grid_template_columns": null,
            "grid_template_rows": null,
            "height": null,
            "justify_content": null,
            "justify_items": null,
            "left": null,
            "margin": null,
            "max_height": null,
            "max_width": null,
            "min_height": null,
            "min_width": null,
            "object_fit": null,
            "object_position": null,
            "order": null,
            "overflow": null,
            "overflow_x": null,
            "overflow_y": null,
            "padding": null,
            "right": null,
            "top": null,
            "visibility": null,
            "width": null
          }
        },
        "710eaadd7726404596d5aefdaec7f794": {
          "model_module": "@jupyter-widgets/base",
          "model_name": "LayoutModel",
          "model_module_version": "1.2.0",
          "state": {
            "_model_module": "@jupyter-widgets/base",
            "_model_module_version": "1.2.0",
            "_model_name": "LayoutModel",
            "_view_count": null,
            "_view_module": "@jupyter-widgets/base",
            "_view_module_version": "1.2.0",
            "_view_name": "LayoutView",
            "align_content": null,
            "align_items": null,
            "align_self": null,
            "border": null,
            "bottom": null,
            "display": null,
            "flex": null,
            "flex_flow": null,
            "grid_area": null,
            "grid_auto_columns": null,
            "grid_auto_flow": null,
            "grid_auto_rows": null,
            "grid_column": null,
            "grid_gap": null,
            "grid_row": null,
            "grid_template_areas": null,
            "grid_template_columns": null,
            "grid_template_rows": null,
            "height": null,
            "justify_content": null,
            "justify_items": null,
            "left": null,
            "margin": null,
            "max_height": null,
            "max_width": null,
            "min_height": null,
            "min_width": null,
            "object_fit": null,
            "object_position": null,
            "order": null,
            "overflow": null,
            "overflow_x": null,
            "overflow_y": null,
            "padding": null,
            "right": null,
            "top": null,
            "visibility": null,
            "width": null
          }
        },
        "2a4cad3f45c9466b91d04dd5e39a68bf": {
          "model_module": "@jupyter-widgets/controls",
          "model_name": "DescriptionStyleModel",
          "model_module_version": "1.5.0",
          "state": {
            "_model_module": "@jupyter-widgets/controls",
            "_model_module_version": "1.5.0",
            "_model_name": "DescriptionStyleModel",
            "_view_count": null,
            "_view_module": "@jupyter-widgets/base",
            "_view_module_version": "1.2.0",
            "_view_name": "StyleView",
            "description_width": ""
          }
        },
        "8d49b6ef67324e58ba95d50874d36451": {
          "model_module": "@jupyter-widgets/base",
          "model_name": "LayoutModel",
          "model_module_version": "1.2.0",
          "state": {
            "_model_module": "@jupyter-widgets/base",
            "_model_module_version": "1.2.0",
            "_model_name": "LayoutModel",
            "_view_count": null,
            "_view_module": "@jupyter-widgets/base",
            "_view_module_version": "1.2.0",
            "_view_name": "LayoutView",
            "align_content": null,
            "align_items": null,
            "align_self": null,
            "border": null,
            "bottom": null,
            "display": null,
            "flex": null,
            "flex_flow": null,
            "grid_area": null,
            "grid_auto_columns": null,
            "grid_auto_flow": null,
            "grid_auto_rows": null,
            "grid_column": null,
            "grid_gap": null,
            "grid_row": null,
            "grid_template_areas": null,
            "grid_template_columns": null,
            "grid_template_rows": null,
            "height": null,
            "justify_content": null,
            "justify_items": null,
            "left": null,
            "margin": null,
            "max_height": null,
            "max_width": null,
            "min_height": null,
            "min_width": null,
            "object_fit": null,
            "object_position": null,
            "order": null,
            "overflow": null,
            "overflow_x": null,
            "overflow_y": null,
            "padding": null,
            "right": null,
            "top": null,
            "visibility": null,
            "width": null
          }
        },
        "36c1e0aba84e4e1089276e7811806f97": {
          "model_module": "@jupyter-widgets/controls",
          "model_name": "ProgressStyleModel",
          "model_module_version": "1.5.0",
          "state": {
            "_model_module": "@jupyter-widgets/controls",
            "_model_module_version": "1.5.0",
            "_model_name": "ProgressStyleModel",
            "_view_count": null,
            "_view_module": "@jupyter-widgets/base",
            "_view_module_version": "1.2.0",
            "_view_name": "StyleView",
            "bar_color": null,
            "description_width": ""
          }
        },
        "eb00afb575e84494a88ccf21cbf2fdc9": {
          "model_module": "@jupyter-widgets/base",
          "model_name": "LayoutModel",
          "model_module_version": "1.2.0",
          "state": {
            "_model_module": "@jupyter-widgets/base",
            "_model_module_version": "1.2.0",
            "_model_name": "LayoutModel",
            "_view_count": null,
            "_view_module": "@jupyter-widgets/base",
            "_view_module_version": "1.2.0",
            "_view_name": "LayoutView",
            "align_content": null,
            "align_items": null,
            "align_self": null,
            "border": null,
            "bottom": null,
            "display": null,
            "flex": null,
            "flex_flow": null,
            "grid_area": null,
            "grid_auto_columns": null,
            "grid_auto_flow": null,
            "grid_auto_rows": null,
            "grid_column": null,
            "grid_gap": null,
            "grid_row": null,
            "grid_template_areas": null,
            "grid_template_columns": null,
            "grid_template_rows": null,
            "height": null,
            "justify_content": null,
            "justify_items": null,
            "left": null,
            "margin": null,
            "max_height": null,
            "max_width": null,
            "min_height": null,
            "min_width": null,
            "object_fit": null,
            "object_position": null,
            "order": null,
            "overflow": null,
            "overflow_x": null,
            "overflow_y": null,
            "padding": null,
            "right": null,
            "top": null,
            "visibility": null,
            "width": null
          }
        },
        "3b773051f5434ed391236b10362cc886": {
          "model_module": "@jupyter-widgets/controls",
          "model_name": "DescriptionStyleModel",
          "model_module_version": "1.5.0",
          "state": {
            "_model_module": "@jupyter-widgets/controls",
            "_model_module_version": "1.5.0",
            "_model_name": "DescriptionStyleModel",
            "_view_count": null,
            "_view_module": "@jupyter-widgets/base",
            "_view_module_version": "1.2.0",
            "_view_name": "StyleView",
            "description_width": ""
          }
        },
        "072e6d23b4ad47e0ab22209f1b2cef57": {
          "model_module": "@jupyter-widgets/controls",
          "model_name": "HBoxModel",
          "model_module_version": "1.5.0",
          "state": {
            "_dom_classes": [],
            "_model_module": "@jupyter-widgets/controls",
            "_model_module_version": "1.5.0",
            "_model_name": "HBoxModel",
            "_view_count": null,
            "_view_module": "@jupyter-widgets/controls",
            "_view_module_version": "1.5.0",
            "_view_name": "HBoxView",
            "box_style": "",
            "children": [
              "IPY_MODEL_f4a3caf8afa14687abf0d19d04af62c9",
              "IPY_MODEL_0a1decaea4694d0a9e9a851624eb25a8",
              "IPY_MODEL_09c781a04e2d4f39bec18d3bcd05e573"
            ],
            "layout": "IPY_MODEL_89b9d57d7e824f04a0c551d2d98d079c"
          }
        },
        "f4a3caf8afa14687abf0d19d04af62c9": {
          "model_module": "@jupyter-widgets/controls",
          "model_name": "HTMLModel",
          "model_module_version": "1.5.0",
          "state": {
            "_dom_classes": [],
            "_model_module": "@jupyter-widgets/controls",
            "_model_module_version": "1.5.0",
            "_model_name": "HTMLModel",
            "_view_count": null,
            "_view_module": "@jupyter-widgets/controls",
            "_view_module_version": "1.5.0",
            "_view_name": "HTMLView",
            "description": "",
            "description_tooltip": null,
            "layout": "IPY_MODEL_fcd9a0c2206d40b0917be6dff4390f7c",
            "placeholder": "​",
            "style": "IPY_MODEL_2dba37daeced48419983e320fa5b535a",
            "value": "Downloading: 100%"
          }
        },
        "0a1decaea4694d0a9e9a851624eb25a8": {
          "model_module": "@jupyter-widgets/controls",
          "model_name": "FloatProgressModel",
          "model_module_version": "1.5.0",
          "state": {
            "_dom_classes": [],
            "_model_module": "@jupyter-widgets/controls",
            "_model_module_version": "1.5.0",
            "_model_name": "FloatProgressModel",
            "_view_count": null,
            "_view_module": "@jupyter-widgets/controls",
            "_view_module_version": "1.5.0",
            "_view_name": "ProgressView",
            "bar_style": "success",
            "description": "",
            "description_tooltip": null,
            "layout": "IPY_MODEL_a169742c04b14d04a5f4585860ba533a",
            "max": 13156,
            "min": 0,
            "orientation": "horizontal",
            "style": "IPY_MODEL_4bbef10ba9274ad1b9d2ba039c8adc26",
            "value": 13156
          }
        },
        "09c781a04e2d4f39bec18d3bcd05e573": {
          "model_module": "@jupyter-widgets/controls",
          "model_name": "HTMLModel",
          "model_module_version": "1.5.0",
          "state": {
            "_dom_classes": [],
            "_model_module": "@jupyter-widgets/controls",
            "_model_module_version": "1.5.0",
            "_model_name": "HTMLModel",
            "_view_count": null,
            "_view_module": "@jupyter-widgets/controls",
            "_view_module_version": "1.5.0",
            "_view_name": "HTMLView",
            "description": "",
            "description_tooltip": null,
            "layout": "IPY_MODEL_82dce88065bf4e509df791201c44d0c1",
            "placeholder": "​",
            "style": "IPY_MODEL_114947977f064b1a9311a3c60ef43322",
            "value": " 13.2k/13.2k [00:00&lt;00:00, 233kB/s]"
          }
        },
        "89b9d57d7e824f04a0c551d2d98d079c": {
          "model_module": "@jupyter-widgets/base",
          "model_name": "LayoutModel",
          "model_module_version": "1.2.0",
          "state": {
            "_model_module": "@jupyter-widgets/base",
            "_model_module_version": "1.2.0",
            "_model_name": "LayoutModel",
            "_view_count": null,
            "_view_module": "@jupyter-widgets/base",
            "_view_module_version": "1.2.0",
            "_view_name": "LayoutView",
            "align_content": null,
            "align_items": null,
            "align_self": null,
            "border": null,
            "bottom": null,
            "display": null,
            "flex": null,
            "flex_flow": null,
            "grid_area": null,
            "grid_auto_columns": null,
            "grid_auto_flow": null,
            "grid_auto_rows": null,
            "grid_column": null,
            "grid_gap": null,
            "grid_row": null,
            "grid_template_areas": null,
            "grid_template_columns": null,
            "grid_template_rows": null,
            "height": null,
            "justify_content": null,
            "justify_items": null,
            "left": null,
            "margin": null,
            "max_height": null,
            "max_width": null,
            "min_height": null,
            "min_width": null,
            "object_fit": null,
            "object_position": null,
            "order": null,
            "overflow": null,
            "overflow_x": null,
            "overflow_y": null,
            "padding": null,
            "right": null,
            "top": null,
            "visibility": null,
            "width": null
          }
        },
        "fcd9a0c2206d40b0917be6dff4390f7c": {
          "model_module": "@jupyter-widgets/base",
          "model_name": "LayoutModel",
          "model_module_version": "1.2.0",
          "state": {
            "_model_module": "@jupyter-widgets/base",
            "_model_module_version": "1.2.0",
            "_model_name": "LayoutModel",
            "_view_count": null,
            "_view_module": "@jupyter-widgets/base",
            "_view_module_version": "1.2.0",
            "_view_name": "LayoutView",
            "align_content": null,
            "align_items": null,
            "align_self": null,
            "border": null,
            "bottom": null,
            "display": null,
            "flex": null,
            "flex_flow": null,
            "grid_area": null,
            "grid_auto_columns": null,
            "grid_auto_flow": null,
            "grid_auto_rows": null,
            "grid_column": null,
            "grid_gap": null,
            "grid_row": null,
            "grid_template_areas": null,
            "grid_template_columns": null,
            "grid_template_rows": null,
            "height": null,
            "justify_content": null,
            "justify_items": null,
            "left": null,
            "margin": null,
            "max_height": null,
            "max_width": null,
            "min_height": null,
            "min_width": null,
            "object_fit": null,
            "object_position": null,
            "order": null,
            "overflow": null,
            "overflow_x": null,
            "overflow_y": null,
            "padding": null,
            "right": null,
            "top": null,
            "visibility": null,
            "width": null
          }
        },
        "2dba37daeced48419983e320fa5b535a": {
          "model_module": "@jupyter-widgets/controls",
          "model_name": "DescriptionStyleModel",
          "model_module_version": "1.5.0",
          "state": {
            "_model_module": "@jupyter-widgets/controls",
            "_model_module_version": "1.5.0",
            "_model_name": "DescriptionStyleModel",
            "_view_count": null,
            "_view_module": "@jupyter-widgets/base",
            "_view_module_version": "1.2.0",
            "_view_name": "StyleView",
            "description_width": ""
          }
        },
        "a169742c04b14d04a5f4585860ba533a": {
          "model_module": "@jupyter-widgets/base",
          "model_name": "LayoutModel",
          "model_module_version": "1.2.0",
          "state": {
            "_model_module": "@jupyter-widgets/base",
            "_model_module_version": "1.2.0",
            "_model_name": "LayoutModel",
            "_view_count": null,
            "_view_module": "@jupyter-widgets/base",
            "_view_module_version": "1.2.0",
            "_view_name": "LayoutView",
            "align_content": null,
            "align_items": null,
            "align_self": null,
            "border": null,
            "bottom": null,
            "display": null,
            "flex": null,
            "flex_flow": null,
            "grid_area": null,
            "grid_auto_columns": null,
            "grid_auto_flow": null,
            "grid_auto_rows": null,
            "grid_column": null,
            "grid_gap": null,
            "grid_row": null,
            "grid_template_areas": null,
            "grid_template_columns": null,
            "grid_template_rows": null,
            "height": null,
            "justify_content": null,
            "justify_items": null,
            "left": null,
            "margin": null,
            "max_height": null,
            "max_width": null,
            "min_height": null,
            "min_width": null,
            "object_fit": null,
            "object_position": null,
            "order": null,
            "overflow": null,
            "overflow_x": null,
            "overflow_y": null,
            "padding": null,
            "right": null,
            "top": null,
            "visibility": null,
            "width": null
          }
        },
        "4bbef10ba9274ad1b9d2ba039c8adc26": {
          "model_module": "@jupyter-widgets/controls",
          "model_name": "ProgressStyleModel",
          "model_module_version": "1.5.0",
          "state": {
            "_model_module": "@jupyter-widgets/controls",
            "_model_module_version": "1.5.0",
            "_model_name": "ProgressStyleModel",
            "_view_count": null,
            "_view_module": "@jupyter-widgets/base",
            "_view_module_version": "1.2.0",
            "_view_name": "StyleView",
            "bar_color": null,
            "description_width": ""
          }
        },
        "82dce88065bf4e509df791201c44d0c1": {
          "model_module": "@jupyter-widgets/base",
          "model_name": "LayoutModel",
          "model_module_version": "1.2.0",
          "state": {
            "_model_module": "@jupyter-widgets/base",
            "_model_module_version": "1.2.0",
            "_model_name": "LayoutModel",
            "_view_count": null,
            "_view_module": "@jupyter-widgets/base",
            "_view_module_version": "1.2.0",
            "_view_name": "LayoutView",
            "align_content": null,
            "align_items": null,
            "align_self": null,
            "border": null,
            "bottom": null,
            "display": null,
            "flex": null,
            "flex_flow": null,
            "grid_area": null,
            "grid_auto_columns": null,
            "grid_auto_flow": null,
            "grid_auto_rows": null,
            "grid_column": null,
            "grid_gap": null,
            "grid_row": null,
            "grid_template_areas": null,
            "grid_template_columns": null,
            "grid_template_rows": null,
            "height": null,
            "justify_content": null,
            "justify_items": null,
            "left": null,
            "margin": null,
            "max_height": null,
            "max_width": null,
            "min_height": null,
            "min_width": null,
            "object_fit": null,
            "object_position": null,
            "order": null,
            "overflow": null,
            "overflow_x": null,
            "overflow_y": null,
            "padding": null,
            "right": null,
            "top": null,
            "visibility": null,
            "width": null
          }
        },
        "114947977f064b1a9311a3c60ef43322": {
          "model_module": "@jupyter-widgets/controls",
          "model_name": "DescriptionStyleModel",
          "model_module_version": "1.5.0",
          "state": {
            "_model_module": "@jupyter-widgets/controls",
            "_model_module_version": "1.5.0",
            "_model_name": "DescriptionStyleModel",
            "_view_count": null,
            "_view_module": "@jupyter-widgets/base",
            "_view_module_version": "1.2.0",
            "_view_name": "StyleView",
            "description_width": ""
          }
        },
        "b939d91843dd456fb0b33f3332e8b4d4": {
          "model_module": "@jupyter-widgets/controls",
          "model_name": "HBoxModel",
          "model_module_version": "1.5.0",
          "state": {
            "_dom_classes": [],
            "_model_module": "@jupyter-widgets/controls",
            "_model_module_version": "1.5.0",
            "_model_name": "HBoxModel",
            "_view_count": null,
            "_view_module": "@jupyter-widgets/controls",
            "_view_module_version": "1.5.0",
            "_view_name": "HBoxView",
            "box_style": "",
            "children": [
              "IPY_MODEL_4dbae23be81e4ebda6d929d9605890de",
              "IPY_MODEL_70545712186344d1b13aa6d7017f142c",
              "IPY_MODEL_b36336be380d4620906791127952a606"
            ],
            "layout": "IPY_MODEL_93cf597cf4e74e3283687f42cd71b2a5"
          }
        },
        "4dbae23be81e4ebda6d929d9605890de": {
          "model_module": "@jupyter-widgets/controls",
          "model_name": "HTMLModel",
          "model_module_version": "1.5.0",
          "state": {
            "_dom_classes": [],
            "_model_module": "@jupyter-widgets/controls",
            "_model_module_version": "1.5.0",
            "_model_name": "HTMLModel",
            "_view_count": null,
            "_view_module": "@jupyter-widgets/controls",
            "_view_module_version": "1.5.0",
            "_view_name": "HTMLView",
            "description": "",
            "description_tooltip": null,
            "layout": "IPY_MODEL_2161af2ff50143d1a97a972c19ac1567",
            "placeholder": "​",
            "style": "IPY_MODEL_552f55e83b6a456c8358d919858a7cc0",
            "value": "Downloading: 100%"
          }
        },
        "70545712186344d1b13aa6d7017f142c": {
          "model_module": "@jupyter-widgets/controls",
          "model_name": "FloatProgressModel",
          "model_module_version": "1.5.0",
          "state": {
            "_dom_classes": [],
            "_model_module": "@jupyter-widgets/controls",
            "_model_module_version": "1.5.0",
            "_model_name": "FloatProgressModel",
            "_view_count": null,
            "_view_module": "@jupyter-widgets/controls",
            "_view_module_version": "1.5.0",
            "_view_name": "ProgressView",
            "bar_style": "success",
            "description": "",
            "description_tooltip": null,
            "layout": "IPY_MODEL_7646128eb3cf4fbaa922308e3379a69d",
            "max": 231508,
            "min": 0,
            "orientation": "horizontal",
            "style": "IPY_MODEL_fd09fa5c25944a92a5830202080c44c1",
            "value": 231508
          }
        },
        "b36336be380d4620906791127952a606": {
          "model_module": "@jupyter-widgets/controls",
          "model_name": "HTMLModel",
          "model_module_version": "1.5.0",
          "state": {
            "_dom_classes": [],
            "_model_module": "@jupyter-widgets/controls",
            "_model_module_version": "1.5.0",
            "_model_name": "HTMLModel",
            "_view_count": null,
            "_view_module": "@jupyter-widgets/controls",
            "_view_module_version": "1.5.0",
            "_view_name": "HTMLView",
            "description": "",
            "description_tooltip": null,
            "layout": "IPY_MODEL_34b2e0a878d64ff1bf95f18739dc3c33",
            "placeholder": "​",
            "style": "IPY_MODEL_138f380e465c404c9c97f9931dfee5b9",
            "value": " 232k/232k [00:00&lt;00:00, 861kB/s]"
          }
        },
        "93cf597cf4e74e3283687f42cd71b2a5": {
          "model_module": "@jupyter-widgets/base",
          "model_name": "LayoutModel",
          "model_module_version": "1.2.0",
          "state": {
            "_model_module": "@jupyter-widgets/base",
            "_model_module_version": "1.2.0",
            "_model_name": "LayoutModel",
            "_view_count": null,
            "_view_module": "@jupyter-widgets/base",
            "_view_module_version": "1.2.0",
            "_view_name": "LayoutView",
            "align_content": null,
            "align_items": null,
            "align_self": null,
            "border": null,
            "bottom": null,
            "display": null,
            "flex": null,
            "flex_flow": null,
            "grid_area": null,
            "grid_auto_columns": null,
            "grid_auto_flow": null,
            "grid_auto_rows": null,
            "grid_column": null,
            "grid_gap": null,
            "grid_row": null,
            "grid_template_areas": null,
            "grid_template_columns": null,
            "grid_template_rows": null,
            "height": null,
            "justify_content": null,
            "justify_items": null,
            "left": null,
            "margin": null,
            "max_height": null,
            "max_width": null,
            "min_height": null,
            "min_width": null,
            "object_fit": null,
            "object_position": null,
            "order": null,
            "overflow": null,
            "overflow_x": null,
            "overflow_y": null,
            "padding": null,
            "right": null,
            "top": null,
            "visibility": null,
            "width": null
          }
        },
        "2161af2ff50143d1a97a972c19ac1567": {
          "model_module": "@jupyter-widgets/base",
          "model_name": "LayoutModel",
          "model_module_version": "1.2.0",
          "state": {
            "_model_module": "@jupyter-widgets/base",
            "_model_module_version": "1.2.0",
            "_model_name": "LayoutModel",
            "_view_count": null,
            "_view_module": "@jupyter-widgets/base",
            "_view_module_version": "1.2.0",
            "_view_name": "LayoutView",
            "align_content": null,
            "align_items": null,
            "align_self": null,
            "border": null,
            "bottom": null,
            "display": null,
            "flex": null,
            "flex_flow": null,
            "grid_area": null,
            "grid_auto_columns": null,
            "grid_auto_flow": null,
            "grid_auto_rows": null,
            "grid_column": null,
            "grid_gap": null,
            "grid_row": null,
            "grid_template_areas": null,
            "grid_template_columns": null,
            "grid_template_rows": null,
            "height": null,
            "justify_content": null,
            "justify_items": null,
            "left": null,
            "margin": null,
            "max_height": null,
            "max_width": null,
            "min_height": null,
            "min_width": null,
            "object_fit": null,
            "object_position": null,
            "order": null,
            "overflow": null,
            "overflow_x": null,
            "overflow_y": null,
            "padding": null,
            "right": null,
            "top": null,
            "visibility": null,
            "width": null
          }
        },
        "552f55e83b6a456c8358d919858a7cc0": {
          "model_module": "@jupyter-widgets/controls",
          "model_name": "DescriptionStyleModel",
          "model_module_version": "1.5.0",
          "state": {
            "_model_module": "@jupyter-widgets/controls",
            "_model_module_version": "1.5.0",
            "_model_name": "DescriptionStyleModel",
            "_view_count": null,
            "_view_module": "@jupyter-widgets/base",
            "_view_module_version": "1.2.0",
            "_view_name": "StyleView",
            "description_width": ""
          }
        },
        "7646128eb3cf4fbaa922308e3379a69d": {
          "model_module": "@jupyter-widgets/base",
          "model_name": "LayoutModel",
          "model_module_version": "1.2.0",
          "state": {
            "_model_module": "@jupyter-widgets/base",
            "_model_module_version": "1.2.0",
            "_model_name": "LayoutModel",
            "_view_count": null,
            "_view_module": "@jupyter-widgets/base",
            "_view_module_version": "1.2.0",
            "_view_name": "LayoutView",
            "align_content": null,
            "align_items": null,
            "align_self": null,
            "border": null,
            "bottom": null,
            "display": null,
            "flex": null,
            "flex_flow": null,
            "grid_area": null,
            "grid_auto_columns": null,
            "grid_auto_flow": null,
            "grid_auto_rows": null,
            "grid_column": null,
            "grid_gap": null,
            "grid_row": null,
            "grid_template_areas": null,
            "grid_template_columns": null,
            "grid_template_rows": null,
            "height": null,
            "justify_content": null,
            "justify_items": null,
            "left": null,
            "margin": null,
            "max_height": null,
            "max_width": null,
            "min_height": null,
            "min_width": null,
            "object_fit": null,
            "object_position": null,
            "order": null,
            "overflow": null,
            "overflow_x": null,
            "overflow_y": null,
            "padding": null,
            "right": null,
            "top": null,
            "visibility": null,
            "width": null
          }
        },
        "fd09fa5c25944a92a5830202080c44c1": {
          "model_module": "@jupyter-widgets/controls",
          "model_name": "ProgressStyleModel",
          "model_module_version": "1.5.0",
          "state": {
            "_model_module": "@jupyter-widgets/controls",
            "_model_module_version": "1.5.0",
            "_model_name": "ProgressStyleModel",
            "_view_count": null,
            "_view_module": "@jupyter-widgets/base",
            "_view_module_version": "1.2.0",
            "_view_name": "StyleView",
            "bar_color": null,
            "description_width": ""
          }
        },
        "34b2e0a878d64ff1bf95f18739dc3c33": {
          "model_module": "@jupyter-widgets/base",
          "model_name": "LayoutModel",
          "model_module_version": "1.2.0",
          "state": {
            "_model_module": "@jupyter-widgets/base",
            "_model_module_version": "1.2.0",
            "_model_name": "LayoutModel",
            "_view_count": null,
            "_view_module": "@jupyter-widgets/base",
            "_view_module_version": "1.2.0",
            "_view_name": "LayoutView",
            "align_content": null,
            "align_items": null,
            "align_self": null,
            "border": null,
            "bottom": null,
            "display": null,
            "flex": null,
            "flex_flow": null,
            "grid_area": null,
            "grid_auto_columns": null,
            "grid_auto_flow": null,
            "grid_auto_rows": null,
            "grid_column": null,
            "grid_gap": null,
            "grid_row": null,
            "grid_template_areas": null,
            "grid_template_columns": null,
            "grid_template_rows": null,
            "height": null,
            "justify_content": null,
            "justify_items": null,
            "left": null,
            "margin": null,
            "max_height": null,
            "max_width": null,
            "min_height": null,
            "min_width": null,
            "object_fit": null,
            "object_position": null,
            "order": null,
            "overflow": null,
            "overflow_x": null,
            "overflow_y": null,
            "padding": null,
            "right": null,
            "top": null,
            "visibility": null,
            "width": null
          }
        },
        "138f380e465c404c9c97f9931dfee5b9": {
          "model_module": "@jupyter-widgets/controls",
          "model_name": "DescriptionStyleModel",
          "model_module_version": "1.5.0",
          "state": {
            "_model_module": "@jupyter-widgets/controls",
            "_model_module_version": "1.5.0",
            "_model_name": "DescriptionStyleModel",
            "_view_count": null,
            "_view_module": "@jupyter-widgets/base",
            "_view_module_version": "1.2.0",
            "_view_name": "StyleView",
            "description_width": ""
          }
        },
        "d9887cf304fb429aa0999e09711e2198": {
          "model_module": "@jupyter-widgets/controls",
          "model_name": "HBoxModel",
          "model_module_version": "1.5.0",
          "state": {
            "_dom_classes": [],
            "_model_module": "@jupyter-widgets/controls",
            "_model_module_version": "1.5.0",
            "_model_name": "HBoxModel",
            "_view_count": null,
            "_view_module": "@jupyter-widgets/controls",
            "_view_module_version": "1.5.0",
            "_view_name": "HBoxView",
            "box_style": "",
            "children": [
              "IPY_MODEL_6fbd746a20184bc19e36dbf87557bec7",
              "IPY_MODEL_cee4214fff0b4db29dbd0db258964ad4",
              "IPY_MODEL_6c740409708d4fdabdafce2f93bebc4d"
            ],
            "layout": "IPY_MODEL_9187f36d44ba42f38d4c6ea4c383d30d"
          }
        },
        "6fbd746a20184bc19e36dbf87557bec7": {
          "model_module": "@jupyter-widgets/controls",
          "model_name": "HTMLModel",
          "model_module_version": "1.5.0",
          "state": {
            "_dom_classes": [],
            "_model_module": "@jupyter-widgets/controls",
            "_model_module_version": "1.5.0",
            "_model_name": "HTMLModel",
            "_view_count": null,
            "_view_module": "@jupyter-widgets/controls",
            "_view_module_version": "1.5.0",
            "_view_name": "HTMLView",
            "description": "",
            "description_tooltip": null,
            "layout": "IPY_MODEL_b184d70d6ed34a8e99f20a9319e487fb",
            "placeholder": "​",
            "style": "IPY_MODEL_9f6a036d4ef74e65b9dc7d62cd56327e",
            "value": "Downloading: 100%"
          }
        },
        "cee4214fff0b4db29dbd0db258964ad4": {
          "model_module": "@jupyter-widgets/controls",
          "model_name": "FloatProgressModel",
          "model_module_version": "1.5.0",
          "state": {
            "_dom_classes": [],
            "_model_module": "@jupyter-widgets/controls",
            "_model_module_version": "1.5.0",
            "_model_name": "FloatProgressModel",
            "_view_count": null,
            "_view_module": "@jupyter-widgets/controls",
            "_view_module_version": "1.5.0",
            "_view_name": "ProgressView",
            "bar_style": "success",
            "description": "",
            "description_tooltip": null,
            "layout": "IPY_MODEL_9aaa1e1ee9a14c039375a8dba0d20e32",
            "max": 349,
            "min": 0,
            "orientation": "horizontal",
            "style": "IPY_MODEL_73f22c3a8dfb49dd8b7e7e981f223921",
            "value": 349
          }
        },
        "6c740409708d4fdabdafce2f93bebc4d": {
          "model_module": "@jupyter-widgets/controls",
          "model_name": "HTMLModel",
          "model_module_version": "1.5.0",
          "state": {
            "_dom_classes": [],
            "_model_module": "@jupyter-widgets/controls",
            "_model_module_version": "1.5.0",
            "_model_name": "HTMLModel",
            "_view_count": null,
            "_view_module": "@jupyter-widgets/controls",
            "_view_module_version": "1.5.0",
            "_view_name": "HTMLView",
            "description": "",
            "description_tooltip": null,
            "layout": "IPY_MODEL_c4d074a8bdb445f4aa3c6ca026329d08",
            "placeholder": "​",
            "style": "IPY_MODEL_300f31316d1a4b3685e53db193f823c8",
            "value": " 349/349 [00:00&lt;00:00, 8.43kB/s]"
          }
        },
        "9187f36d44ba42f38d4c6ea4c383d30d": {
          "model_module": "@jupyter-widgets/base",
          "model_name": "LayoutModel",
          "model_module_version": "1.2.0",
          "state": {
            "_model_module": "@jupyter-widgets/base",
            "_model_module_version": "1.2.0",
            "_model_name": "LayoutModel",
            "_view_count": null,
            "_view_module": "@jupyter-widgets/base",
            "_view_module_version": "1.2.0",
            "_view_name": "LayoutView",
            "align_content": null,
            "align_items": null,
            "align_self": null,
            "border": null,
            "bottom": null,
            "display": null,
            "flex": null,
            "flex_flow": null,
            "grid_area": null,
            "grid_auto_columns": null,
            "grid_auto_flow": null,
            "grid_auto_rows": null,
            "grid_column": null,
            "grid_gap": null,
            "grid_row": null,
            "grid_template_areas": null,
            "grid_template_columns": null,
            "grid_template_rows": null,
            "height": null,
            "justify_content": null,
            "justify_items": null,
            "left": null,
            "margin": null,
            "max_height": null,
            "max_width": null,
            "min_height": null,
            "min_width": null,
            "object_fit": null,
            "object_position": null,
            "order": null,
            "overflow": null,
            "overflow_x": null,
            "overflow_y": null,
            "padding": null,
            "right": null,
            "top": null,
            "visibility": null,
            "width": null
          }
        },
        "b184d70d6ed34a8e99f20a9319e487fb": {
          "model_module": "@jupyter-widgets/base",
          "model_name": "LayoutModel",
          "model_module_version": "1.2.0",
          "state": {
            "_model_module": "@jupyter-widgets/base",
            "_model_module_version": "1.2.0",
            "_model_name": "LayoutModel",
            "_view_count": null,
            "_view_module": "@jupyter-widgets/base",
            "_view_module_version": "1.2.0",
            "_view_name": "LayoutView",
            "align_content": null,
            "align_items": null,
            "align_self": null,
            "border": null,
            "bottom": null,
            "display": null,
            "flex": null,
            "flex_flow": null,
            "grid_area": null,
            "grid_auto_columns": null,
            "grid_auto_flow": null,
            "grid_auto_rows": null,
            "grid_column": null,
            "grid_gap": null,
            "grid_row": null,
            "grid_template_areas": null,
            "grid_template_columns": null,
            "grid_template_rows": null,
            "height": null,
            "justify_content": null,
            "justify_items": null,
            "left": null,
            "margin": null,
            "max_height": null,
            "max_width": null,
            "min_height": null,
            "min_width": null,
            "object_fit": null,
            "object_position": null,
            "order": null,
            "overflow": null,
            "overflow_x": null,
            "overflow_y": null,
            "padding": null,
            "right": null,
            "top": null,
            "visibility": null,
            "width": null
          }
        },
        "9f6a036d4ef74e65b9dc7d62cd56327e": {
          "model_module": "@jupyter-widgets/controls",
          "model_name": "DescriptionStyleModel",
          "model_module_version": "1.5.0",
          "state": {
            "_model_module": "@jupyter-widgets/controls",
            "_model_module_version": "1.5.0",
            "_model_name": "DescriptionStyleModel",
            "_view_count": null,
            "_view_module": "@jupyter-widgets/base",
            "_view_module_version": "1.2.0",
            "_view_name": "StyleView",
            "description_width": ""
          }
        },
        "9aaa1e1ee9a14c039375a8dba0d20e32": {
          "model_module": "@jupyter-widgets/base",
          "model_name": "LayoutModel",
          "model_module_version": "1.2.0",
          "state": {
            "_model_module": "@jupyter-widgets/base",
            "_model_module_version": "1.2.0",
            "_model_name": "LayoutModel",
            "_view_count": null,
            "_view_module": "@jupyter-widgets/base",
            "_view_module_version": "1.2.0",
            "_view_name": "LayoutView",
            "align_content": null,
            "align_items": null,
            "align_self": null,
            "border": null,
            "bottom": null,
            "display": null,
            "flex": null,
            "flex_flow": null,
            "grid_area": null,
            "grid_auto_columns": null,
            "grid_auto_flow": null,
            "grid_auto_rows": null,
            "grid_column": null,
            "grid_gap": null,
            "grid_row": null,
            "grid_template_areas": null,
            "grid_template_columns": null,
            "grid_template_rows": null,
            "height": null,
            "justify_content": null,
            "justify_items": null,
            "left": null,
            "margin": null,
            "max_height": null,
            "max_width": null,
            "min_height": null,
            "min_width": null,
            "object_fit": null,
            "object_position": null,
            "order": null,
            "overflow": null,
            "overflow_x": null,
            "overflow_y": null,
            "padding": null,
            "right": null,
            "top": null,
            "visibility": null,
            "width": null
          }
        },
        "73f22c3a8dfb49dd8b7e7e981f223921": {
          "model_module": "@jupyter-widgets/controls",
          "model_name": "ProgressStyleModel",
          "model_module_version": "1.5.0",
          "state": {
            "_model_module": "@jupyter-widgets/controls",
            "_model_module_version": "1.5.0",
            "_model_name": "ProgressStyleModel",
            "_view_count": null,
            "_view_module": "@jupyter-widgets/base",
            "_view_module_version": "1.2.0",
            "_view_name": "StyleView",
            "bar_color": null,
            "description_width": ""
          }
        },
        "c4d074a8bdb445f4aa3c6ca026329d08": {
          "model_module": "@jupyter-widgets/base",
          "model_name": "LayoutModel",
          "model_module_version": "1.2.0",
          "state": {
            "_model_module": "@jupyter-widgets/base",
            "_model_module_version": "1.2.0",
            "_model_name": "LayoutModel",
            "_view_count": null,
            "_view_module": "@jupyter-widgets/base",
            "_view_module_version": "1.2.0",
            "_view_name": "LayoutView",
            "align_content": null,
            "align_items": null,
            "align_self": null,
            "border": null,
            "bottom": null,
            "display": null,
            "flex": null,
            "flex_flow": null,
            "grid_area": null,
            "grid_auto_columns": null,
            "grid_auto_flow": null,
            "grid_auto_rows": null,
            "grid_column": null,
            "grid_gap": null,
            "grid_row": null,
            "grid_template_areas": null,
            "grid_template_columns": null,
            "grid_template_rows": null,
            "height": null,
            "justify_content": null,
            "justify_items": null,
            "left": null,
            "margin": null,
            "max_height": null,
            "max_width": null,
            "min_height": null,
            "min_width": null,
            "object_fit": null,
            "object_position": null,
            "order": null,
            "overflow": null,
            "overflow_x": null,
            "overflow_y": null,
            "padding": null,
            "right": null,
            "top": null,
            "visibility": null,
            "width": null
          }
        },
        "300f31316d1a4b3685e53db193f823c8": {
          "model_module": "@jupyter-widgets/controls",
          "model_name": "DescriptionStyleModel",
          "model_module_version": "1.5.0",
          "state": {
            "_model_module": "@jupyter-widgets/controls",
            "_model_module_version": "1.5.0",
            "_model_name": "DescriptionStyleModel",
            "_view_count": null,
            "_view_module": "@jupyter-widgets/base",
            "_view_module_version": "1.2.0",
            "_view_name": "StyleView",
            "description_width": ""
          }
        }
      }
    }
  },
  "nbformat": 4,
  "nbformat_minor": 0
}